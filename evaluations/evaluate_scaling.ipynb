{
 "cells": [
  {
   "cell_type": "markdown",
   "metadata": {},
   "source": [
    "## Evaluation for Scaler Class\n",
    "\n",
    "- Evaluates the effect of preprocessy execute function on model accuracy compared to sklearn\n",
    "- Evaluates on 1 dataset\n",
    "    * Melbourne Housing Snapshot\n",
    "- Considering a standard test size of 0.3 for all 3 cases i.e.\n",
    "    * MinMaxScaling\n",
    "    * StandardScaling\n",
    "    * BinaryScaling\n",
    "- Using RandomForestRegressor() model\n",
    "- Using r2_score of sklearn.metrics\n",
    "- Comparisons between sklearn and preprocessy based on accuracy and time have been indicated at the end"
   ]
  },
  {
   "cell_type": "code",
   "execution_count": 1,
   "metadata": {},
   "outputs": [],
   "source": [
    "# To access preprocessy module. Required in .ipynb files\n",
    "import os\n",
    "import sys\n",
    "module_path = os.path.abspath(os.path.join('..'))\n",
    "if module_path not in sys.path:\n",
    "    sys.path.append(module_path)"
   ]
  },
  {
   "cell_type": "code",
   "execution_count": 2,
   "metadata": {},
   "outputs": [],
   "source": [
    "import pandas as pd\n",
    "import numpy as np\n",
    "import matplotlib\n",
    "\n",
    "from sklearn import preprocessing\n",
    "\n",
    "import warnings\n",
    "warnings.filterwarnings('ignore')\n",
    "\n",
    "from preprocessy.scaling import Scaler\n",
    "from preprocessy.data_splitting import Split\n",
    "import time\n",
    "\n",
    "from sklearn.impute import SimpleImputer\n",
    "from sklearn.ensemble import RandomForestRegressor\n",
    "\n",
    "from sklearn.metrics import mean_absolute_error,classification_report, r2_score, mean_squared_error\n",
    "from sklearn.model_selection import train_test_split\n",
    "\n",
    "from preprocessy.handlenullvalues import NullValuesHandler\n",
    "\n",
    "np.random.seed(101)"
   ]
  },
  {
   "cell_type": "code",
   "execution_count": 3,
   "metadata": {},
   "outputs": [
    {
     "data": {
      "text/html": [
       "<div>\n",
       "<style scoped>\n",
       "    .dataframe tbody tr th:only-of-type {\n",
       "        vertical-align: middle;\n",
       "    }\n",
       "\n",
       "    .dataframe tbody tr th {\n",
       "        vertical-align: top;\n",
       "    }\n",
       "\n",
       "    .dataframe thead th {\n",
       "        text-align: right;\n",
       "    }\n",
       "</style>\n",
       "<table border=\"1\" class=\"dataframe\">\n",
       "  <thead>\n",
       "    <tr style=\"text-align: right;\">\n",
       "      <th></th>\n",
       "      <th>Suburb</th>\n",
       "      <th>Address</th>\n",
       "      <th>Rooms</th>\n",
       "      <th>Type</th>\n",
       "      <th>Price</th>\n",
       "      <th>Method</th>\n",
       "      <th>SellerG</th>\n",
       "      <th>Date</th>\n",
       "      <th>Distance</th>\n",
       "      <th>Postcode</th>\n",
       "      <th>...</th>\n",
       "      <th>Bathroom</th>\n",
       "      <th>Car</th>\n",
       "      <th>Landsize</th>\n",
       "      <th>BuildingArea</th>\n",
       "      <th>YearBuilt</th>\n",
       "      <th>CouncilArea</th>\n",
       "      <th>Lattitude</th>\n",
       "      <th>Longtitude</th>\n",
       "      <th>Regionname</th>\n",
       "      <th>Propertycount</th>\n",
       "    </tr>\n",
       "  </thead>\n",
       "  <tbody>\n",
       "    <tr>\n",
       "      <th>0</th>\n",
       "      <td>Abbotsford</td>\n",
       "      <td>85 Turner St</td>\n",
       "      <td>2</td>\n",
       "      <td>h</td>\n",
       "      <td>1480000.0</td>\n",
       "      <td>S</td>\n",
       "      <td>Biggin</td>\n",
       "      <td>3/12/2016</td>\n",
       "      <td>2.5</td>\n",
       "      <td>3067.0</td>\n",
       "      <td>...</td>\n",
       "      <td>1.0</td>\n",
       "      <td>1.0</td>\n",
       "      <td>202.0</td>\n",
       "      <td>NaN</td>\n",
       "      <td>NaN</td>\n",
       "      <td>Yarra</td>\n",
       "      <td>-37.7996</td>\n",
       "      <td>144.9984</td>\n",
       "      <td>Northern Metropolitan</td>\n",
       "      <td>4019.0</td>\n",
       "    </tr>\n",
       "    <tr>\n",
       "      <th>1</th>\n",
       "      <td>Abbotsford</td>\n",
       "      <td>25 Bloomburg St</td>\n",
       "      <td>2</td>\n",
       "      <td>h</td>\n",
       "      <td>1035000.0</td>\n",
       "      <td>S</td>\n",
       "      <td>Biggin</td>\n",
       "      <td>4/02/2016</td>\n",
       "      <td>2.5</td>\n",
       "      <td>3067.0</td>\n",
       "      <td>...</td>\n",
       "      <td>1.0</td>\n",
       "      <td>0.0</td>\n",
       "      <td>156.0</td>\n",
       "      <td>79.0</td>\n",
       "      <td>1900.0</td>\n",
       "      <td>Yarra</td>\n",
       "      <td>-37.8079</td>\n",
       "      <td>144.9934</td>\n",
       "      <td>Northern Metropolitan</td>\n",
       "      <td>4019.0</td>\n",
       "    </tr>\n",
       "    <tr>\n",
       "      <th>2</th>\n",
       "      <td>Abbotsford</td>\n",
       "      <td>5 Charles St</td>\n",
       "      <td>3</td>\n",
       "      <td>h</td>\n",
       "      <td>1465000.0</td>\n",
       "      <td>SP</td>\n",
       "      <td>Biggin</td>\n",
       "      <td>4/03/2017</td>\n",
       "      <td>2.5</td>\n",
       "      <td>3067.0</td>\n",
       "      <td>...</td>\n",
       "      <td>2.0</td>\n",
       "      <td>0.0</td>\n",
       "      <td>134.0</td>\n",
       "      <td>150.0</td>\n",
       "      <td>1900.0</td>\n",
       "      <td>Yarra</td>\n",
       "      <td>-37.8093</td>\n",
       "      <td>144.9944</td>\n",
       "      <td>Northern Metropolitan</td>\n",
       "      <td>4019.0</td>\n",
       "    </tr>\n",
       "    <tr>\n",
       "      <th>3</th>\n",
       "      <td>Abbotsford</td>\n",
       "      <td>40 Federation La</td>\n",
       "      <td>3</td>\n",
       "      <td>h</td>\n",
       "      <td>850000.0</td>\n",
       "      <td>PI</td>\n",
       "      <td>Biggin</td>\n",
       "      <td>4/03/2017</td>\n",
       "      <td>2.5</td>\n",
       "      <td>3067.0</td>\n",
       "      <td>...</td>\n",
       "      <td>2.0</td>\n",
       "      <td>1.0</td>\n",
       "      <td>94.0</td>\n",
       "      <td>NaN</td>\n",
       "      <td>NaN</td>\n",
       "      <td>Yarra</td>\n",
       "      <td>-37.7969</td>\n",
       "      <td>144.9969</td>\n",
       "      <td>Northern Metropolitan</td>\n",
       "      <td>4019.0</td>\n",
       "    </tr>\n",
       "    <tr>\n",
       "      <th>4</th>\n",
       "      <td>Abbotsford</td>\n",
       "      <td>55a Park St</td>\n",
       "      <td>4</td>\n",
       "      <td>h</td>\n",
       "      <td>1600000.0</td>\n",
       "      <td>VB</td>\n",
       "      <td>Nelson</td>\n",
       "      <td>4/06/2016</td>\n",
       "      <td>2.5</td>\n",
       "      <td>3067.0</td>\n",
       "      <td>...</td>\n",
       "      <td>1.0</td>\n",
       "      <td>2.0</td>\n",
       "      <td>120.0</td>\n",
       "      <td>142.0</td>\n",
       "      <td>2014.0</td>\n",
       "      <td>Yarra</td>\n",
       "      <td>-37.8072</td>\n",
       "      <td>144.9941</td>\n",
       "      <td>Northern Metropolitan</td>\n",
       "      <td>4019.0</td>\n",
       "    </tr>\n",
       "  </tbody>\n",
       "</table>\n",
       "<p>5 rows × 21 columns</p>\n",
       "</div>"
      ],
      "text/plain": [
       "       Suburb           Address  Rooms Type      Price Method SellerG  \\\n",
       "0  Abbotsford      85 Turner St      2    h  1480000.0      S  Biggin   \n",
       "1  Abbotsford   25 Bloomburg St      2    h  1035000.0      S  Biggin   \n",
       "2  Abbotsford      5 Charles St      3    h  1465000.0     SP  Biggin   \n",
       "3  Abbotsford  40 Federation La      3    h   850000.0     PI  Biggin   \n",
       "4  Abbotsford       55a Park St      4    h  1600000.0     VB  Nelson   \n",
       "\n",
       "        Date  Distance  Postcode  ...  Bathroom  Car  Landsize  BuildingArea  \\\n",
       "0  3/12/2016       2.5    3067.0  ...       1.0  1.0     202.0           NaN   \n",
       "1  4/02/2016       2.5    3067.0  ...       1.0  0.0     156.0          79.0   \n",
       "2  4/03/2017       2.5    3067.0  ...       2.0  0.0     134.0         150.0   \n",
       "3  4/03/2017       2.5    3067.0  ...       2.0  1.0      94.0           NaN   \n",
       "4  4/06/2016       2.5    3067.0  ...       1.0  2.0     120.0         142.0   \n",
       "\n",
       "   YearBuilt  CouncilArea Lattitude  Longtitude             Regionname  \\\n",
       "0        NaN        Yarra  -37.7996    144.9984  Northern Metropolitan   \n",
       "1     1900.0        Yarra  -37.8079    144.9934  Northern Metropolitan   \n",
       "2     1900.0        Yarra  -37.8093    144.9944  Northern Metropolitan   \n",
       "3        NaN        Yarra  -37.7969    144.9969  Northern Metropolitan   \n",
       "4     2014.0        Yarra  -37.8072    144.9941  Northern Metropolitan   \n",
       "\n",
       "  Propertycount  \n",
       "0        4019.0  \n",
       "1        4019.0  \n",
       "2        4019.0  \n",
       "3        4019.0  \n",
       "4        4019.0  \n",
       "\n",
       "[5 rows x 21 columns]"
      ]
     },
     "execution_count": 3,
     "metadata": {},
     "output_type": "execute_result"
    }
   ],
   "source": [
    "melb_data = pd.read_csv('../datasets/handling_null_values/melb_data.csv')\n",
    "melb_data_copy2 = melb_data\n",
    "\n",
    "dtf_1 = pd.DataFrame(columns = ['Accuracy', 'Time'])\n",
    "dtf_2 = pd.DataFrame(columns = ['Accuracy', 'Time'])\n",
    "dtf_3 = pd.DataFrame(columns = ['Accuracy', 'Time'])\n",
    "\n",
    "melb_data.head()"
   ]
  },
  {
   "cell_type": "code",
   "execution_count": 4,
   "metadata": {},
   "outputs": [
    {
     "data": {
      "text/plain": [
       "['Rooms',\n",
       " 'Distance',\n",
       " 'Postcode',\n",
       " 'Bedroom2',\n",
       " 'Bathroom',\n",
       " 'Car',\n",
       " 'Landsize',\n",
       " 'BuildingArea',\n",
       " 'YearBuilt',\n",
       " 'Lattitude',\n",
       " 'Longtitude',\n",
       " 'Propertycount']"
      ]
     },
     "execution_count": 4,
     "metadata": {},
     "output_type": "execute_result"
    }
   ],
   "source": [
    "# Consider Price as Target property and others as Predictors \n",
    "melb_target = melb_data.Price\n",
    "\n",
    "melb_predictors = melb_data.drop(['Price'], axis=1)\n",
    "melb_numeric_predictors = melb_predictors.select_dtypes(exclude=['object'])\n",
    "col_names = list(melb_numeric_predictors.columns)\n",
    "col_names"
   ]
  },
  {
   "cell_type": "code",
   "execution_count": 5,
   "metadata": {},
   "outputs": [
    {
     "data": {
      "text/plain": [
       "BuildingArea    6450\n",
       "YearBuilt       5375\n",
       "CouncilArea     1369\n",
       "Car               62\n",
       "dtype: int64"
      ]
     },
     "execution_count": 5,
     "metadata": {},
     "output_type": "execute_result"
    }
   ],
   "source": [
    "melb_data_copy2.isnull().sum().sort_values(ascending = False)[:4]"
   ]
  },
  {
   "cell_type": "code",
   "execution_count": 6,
   "metadata": {},
   "outputs": [
    {
     "data": {
      "text/plain": [
       "13580"
      ]
     },
     "execution_count": 6,
     "metadata": {},
     "output_type": "execute_result"
    }
   ],
   "source": [
    "len(melb_data_copy2)"
   ]
  },
  {
   "cell_type": "markdown",
   "metadata": {},
   "source": [
    "## Fill Null Values and split into train and test dataframes"
   ]
  },
  {
   "cell_type": "code",
   "execution_count": 7,
   "metadata": {},
   "outputs": [],
   "source": [
    "imputed_df = melb_data_copy2.select_dtypes(exclude=['object']).fillna(melb_data_copy2.select_dtypes(exclude=['object']).mean())\n",
    "train, test = train_test_split(imputed_df, test_size = 0.3, random_state = 69)"
   ]
  },
  {
   "cell_type": "code",
   "execution_count": 8,
   "metadata": {},
   "outputs": [
    {
     "data": {
      "text/plain": [
       "Rooms       0\n",
       "Price       0\n",
       "Distance    0\n",
       "Postcode    0\n",
       "dtype: int64"
      ]
     },
     "execution_count": 8,
     "metadata": {},
     "output_type": "execute_result"
    }
   ],
   "source": [
    "imputed_df.isnull().sum().sort_values(ascending = False)[:4]"
   ]
  },
  {
   "cell_type": "code",
   "execution_count": 9,
   "metadata": {},
   "outputs": [
    {
     "data": {
      "text/html": [
       "<div>\n",
       "<style scoped>\n",
       "    .dataframe tbody tr th:only-of-type {\n",
       "        vertical-align: middle;\n",
       "    }\n",
       "\n",
       "    .dataframe tbody tr th {\n",
       "        vertical-align: top;\n",
       "    }\n",
       "\n",
       "    .dataframe thead th {\n",
       "        text-align: right;\n",
       "    }\n",
       "</style>\n",
       "<table border=\"1\" class=\"dataframe\">\n",
       "  <thead>\n",
       "    <tr style=\"text-align: right;\">\n",
       "      <th></th>\n",
       "      <th>Rooms</th>\n",
       "      <th>Price</th>\n",
       "      <th>Distance</th>\n",
       "      <th>Postcode</th>\n",
       "      <th>Bedroom2</th>\n",
       "      <th>Bathroom</th>\n",
       "      <th>Car</th>\n",
       "      <th>Landsize</th>\n",
       "      <th>BuildingArea</th>\n",
       "      <th>YearBuilt</th>\n",
       "      <th>Lattitude</th>\n",
       "      <th>Longtitude</th>\n",
       "      <th>Propertycount</th>\n",
       "    </tr>\n",
       "  </thead>\n",
       "  <tbody>\n",
       "    <tr>\n",
       "      <th>0</th>\n",
       "      <td>2</td>\n",
       "      <td>1480000.0</td>\n",
       "      <td>2.5</td>\n",
       "      <td>3067.0</td>\n",
       "      <td>2.0</td>\n",
       "      <td>1.0</td>\n",
       "      <td>1.0</td>\n",
       "      <td>202.0</td>\n",
       "      <td>151.96765</td>\n",
       "      <td>1964.684217</td>\n",
       "      <td>-37.7996</td>\n",
       "      <td>144.9984</td>\n",
       "      <td>4019.0</td>\n",
       "    </tr>\n",
       "    <tr>\n",
       "      <th>1</th>\n",
       "      <td>2</td>\n",
       "      <td>1035000.0</td>\n",
       "      <td>2.5</td>\n",
       "      <td>3067.0</td>\n",
       "      <td>2.0</td>\n",
       "      <td>1.0</td>\n",
       "      <td>0.0</td>\n",
       "      <td>156.0</td>\n",
       "      <td>79.00000</td>\n",
       "      <td>1900.000000</td>\n",
       "      <td>-37.8079</td>\n",
       "      <td>144.9934</td>\n",
       "      <td>4019.0</td>\n",
       "    </tr>\n",
       "  </tbody>\n",
       "</table>\n",
       "</div>"
      ],
      "text/plain": [
       "   Rooms      Price  Distance  Postcode  Bedroom2  Bathroom  Car  Landsize  \\\n",
       "0      2  1480000.0       2.5    3067.0       2.0       1.0  1.0     202.0   \n",
       "1      2  1035000.0       2.5    3067.0       2.0       1.0  0.0     156.0   \n",
       "\n",
       "   BuildingArea    YearBuilt  Lattitude  Longtitude  Propertycount  \n",
       "0     151.96765  1964.684217   -37.7996    144.9984         4019.0  \n",
       "1      79.00000  1900.000000   -37.8079    144.9934         4019.0  "
      ]
     },
     "execution_count": 9,
     "metadata": {},
     "output_type": "execute_result"
    }
   ],
   "source": [
    "imputed_df[:2]"
   ]
  },
  {
   "cell_type": "code",
   "execution_count": 10,
   "metadata": {},
   "outputs": [
    {
     "data": {
      "text/html": [
       "<div>\n",
       "<style scoped>\n",
       "    .dataframe tbody tr th:only-of-type {\n",
       "        vertical-align: middle;\n",
       "    }\n",
       "\n",
       "    .dataframe tbody tr th {\n",
       "        vertical-align: top;\n",
       "    }\n",
       "\n",
       "    .dataframe thead th {\n",
       "        text-align: right;\n",
       "    }\n",
       "</style>\n",
       "<table border=\"1\" class=\"dataframe\">\n",
       "  <thead>\n",
       "    <tr style=\"text-align: right;\">\n",
       "      <th></th>\n",
       "      <th>Rooms</th>\n",
       "      <th>Price</th>\n",
       "      <th>Distance</th>\n",
       "      <th>Postcode</th>\n",
       "      <th>Bedroom2</th>\n",
       "      <th>Bathroom</th>\n",
       "      <th>Car</th>\n",
       "      <th>Landsize</th>\n",
       "      <th>BuildingArea</th>\n",
       "      <th>YearBuilt</th>\n",
       "      <th>Lattitude</th>\n",
       "      <th>Longtitude</th>\n",
       "      <th>Propertycount</th>\n",
       "    </tr>\n",
       "  </thead>\n",
       "  <tbody>\n",
       "    <tr>\n",
       "      <th>10872</th>\n",
       "      <td>4</td>\n",
       "      <td>478000.0</td>\n",
       "      <td>27.2</td>\n",
       "      <td>3024.0</td>\n",
       "      <td>4.0</td>\n",
       "      <td>2.0</td>\n",
       "      <td>2.0</td>\n",
       "      <td>400.0</td>\n",
       "      <td>151.54000</td>\n",
       "      <td>2008.0</td>\n",
       "      <td>-37.87047</td>\n",
       "      <td>144.59864</td>\n",
       "      <td>5262.0</td>\n",
       "    </tr>\n",
       "    <tr>\n",
       "      <th>6603</th>\n",
       "      <td>2</td>\n",
       "      <td>555000.0</td>\n",
       "      <td>5.1</td>\n",
       "      <td>3181.0</td>\n",
       "      <td>2.0</td>\n",
       "      <td>1.0</td>\n",
       "      <td>1.0</td>\n",
       "      <td>0.0</td>\n",
       "      <td>151.96765</td>\n",
       "      <td>1990.0</td>\n",
       "      <td>-37.85850</td>\n",
       "      <td>145.00040</td>\n",
       "      <td>4380.0</td>\n",
       "    </tr>\n",
       "  </tbody>\n",
       "</table>\n",
       "</div>"
      ],
      "text/plain": [
       "       Rooms     Price  Distance  Postcode  Bedroom2  Bathroom  Car  Landsize  \\\n",
       "10872      4  478000.0      27.2    3024.0       4.0       2.0  2.0     400.0   \n",
       "6603       2  555000.0       5.1    3181.0       2.0       1.0  1.0       0.0   \n",
       "\n",
       "       BuildingArea  YearBuilt  Lattitude  Longtitude  Propertycount  \n",
       "10872     151.54000     2008.0  -37.87047   144.59864         5262.0  \n",
       "6603      151.96765     1990.0  -37.85850   145.00040         4380.0  "
      ]
     },
     "execution_count": 10,
     "metadata": {},
     "output_type": "execute_result"
    }
   ],
   "source": [
    "train[:2]"
   ]
  },
  {
   "cell_type": "code",
   "execution_count": 11,
   "metadata": {},
   "outputs": [
    {
     "data": {
      "text/html": [
       "<div>\n",
       "<style scoped>\n",
       "    .dataframe tbody tr th:only-of-type {\n",
       "        vertical-align: middle;\n",
       "    }\n",
       "\n",
       "    .dataframe tbody tr th {\n",
       "        vertical-align: top;\n",
       "    }\n",
       "\n",
       "    .dataframe thead th {\n",
       "        text-align: right;\n",
       "    }\n",
       "</style>\n",
       "<table border=\"1\" class=\"dataframe\">\n",
       "  <thead>\n",
       "    <tr style=\"text-align: right;\">\n",
       "      <th></th>\n",
       "      <th>Rooms</th>\n",
       "      <th>Price</th>\n",
       "      <th>Distance</th>\n",
       "      <th>Postcode</th>\n",
       "      <th>Bedroom2</th>\n",
       "      <th>Bathroom</th>\n",
       "      <th>Car</th>\n",
       "      <th>Landsize</th>\n",
       "      <th>BuildingArea</th>\n",
       "      <th>YearBuilt</th>\n",
       "      <th>Lattitude</th>\n",
       "      <th>Longtitude</th>\n",
       "      <th>Propertycount</th>\n",
       "    </tr>\n",
       "  </thead>\n",
       "  <tbody>\n",
       "    <tr>\n",
       "      <th>10059</th>\n",
       "      <td>3</td>\n",
       "      <td>518000.0</td>\n",
       "      <td>10.5</td>\n",
       "      <td>3020.0</td>\n",
       "      <td>3.0</td>\n",
       "      <td>1.0</td>\n",
       "      <td>1.0</td>\n",
       "      <td>322.0</td>\n",
       "      <td>151.96765</td>\n",
       "      <td>1964.684217</td>\n",
       "      <td>-37.79209</td>\n",
       "      <td>144.82024</td>\n",
       "      <td>6763.0</td>\n",
       "    </tr>\n",
       "    <tr>\n",
       "      <th>6844</th>\n",
       "      <td>3</td>\n",
       "      <td>1110000.0</td>\n",
       "      <td>1.8</td>\n",
       "      <td>3053.0</td>\n",
       "      <td>3.0</td>\n",
       "      <td>2.0</td>\n",
       "      <td>1.0</td>\n",
       "      <td>0.0</td>\n",
       "      <td>151.96765</td>\n",
       "      <td>1964.684217</td>\n",
       "      <td>-37.79460</td>\n",
       "      <td>144.97160</td>\n",
       "      <td>6786.0</td>\n",
       "    </tr>\n",
       "  </tbody>\n",
       "</table>\n",
       "</div>"
      ],
      "text/plain": [
       "       Rooms      Price  Distance  Postcode  Bedroom2  Bathroom  Car  \\\n",
       "10059      3   518000.0      10.5    3020.0       3.0       1.0  1.0   \n",
       "6844       3  1110000.0       1.8    3053.0       3.0       2.0  1.0   \n",
       "\n",
       "       Landsize  BuildingArea    YearBuilt  Lattitude  Longtitude  \\\n",
       "10059     322.0     151.96765  1964.684217  -37.79209   144.82024   \n",
       "6844        0.0     151.96765  1964.684217  -37.79460   144.97160   \n",
       "\n",
       "       Propertycount  \n",
       "10059         6763.0  \n",
       "6844          6786.0  "
      ]
     },
     "execution_count": 11,
     "metadata": {},
     "output_type": "execute_result"
    }
   ],
   "source": [
    "test[:2]"
   ]
  },
  {
   "cell_type": "markdown",
   "metadata": {},
   "source": [
    "## MinMaxScaler\n",
    "-  smaller standard deviations through the process"
   ]
  },
  {
   "cell_type": "markdown",
   "metadata": {},
   "source": [
    "### sklearn"
   ]
  },
  {
   "cell_type": "code",
   "execution_count": 12,
   "metadata": {},
   "outputs": [
    {
     "name": "stdout",
     "output_type": "stream",
     "text": [
      "Mean Absolute Error: 174131.8521815462\n",
      "Mean Squared Error: 89052272815.75325\n",
      "Root Mean Squared Error: 298416.2743815311\n"
     ]
    }
   ],
   "source": [
    "mm_scaler = preprocessing.MinMaxScaler()\n",
    "\n",
    "start = time.time()\n",
    "\n",
    "#Scale the data\n",
    "df_mm = mm_scaler.fit_transform(imputed_df.drop(['Price'], axis =1))\n",
    "df_mm = pd.DataFrame(df_mm, columns=col_names)\n",
    "\n",
    "#Split the data\n",
    "X_train, X_test, y_train, y_test = train_test_split(df_mm, imputed_df['Price'], test_size=0.3, random_state=69)\n",
    "\n",
    "#Fit RandomForestRegressor model\n",
    "model = RandomForestRegressor(random_state = 42)\n",
    "model.fit(X_train, y_train)\n",
    "\n",
    "end=time.time()\n",
    "\n",
    "sklearn_preds = model.predict(X_test)\n",
    "\n",
    "# Get time and accuracy\n",
    "sklearn_time = np.round(end - start,4)\n",
    "sklearn_accuracy = np.round(r2_score(y_test, sklearn_preds),4)\n",
    "\n",
    "# Print Diff Error Values\n",
    "print('Mean Absolute Error:', mean_absolute_error(y_test, sklearn_preds))\n",
    "print('Mean Squared Error:', mean_squared_error(y_test, sklearn_preds))\n",
    "print('Root Mean Squared Error:', np.sqrt(mean_squared_error(y_test, sklearn_preds)))\n",
    "\n",
    "#Append Dataframe\n",
    "dtf_1.loc['sklearn'] = [sklearn_accuracy, sklearn_time]"
   ]
  },
  {
   "cell_type": "markdown",
   "metadata": {},
   "source": [
    "### preprocessy"
   ]
  },
  {
   "cell_type": "code",
   "execution_count": 13,
   "metadata": {},
   "outputs": [],
   "source": [
    "def preprocessy_score_dataset(params):\n",
    "\n",
    "    target_col = params[\"target_label\"]\n",
    "    start=time.time()\n",
    "    \n",
    "    Scaler().execute(params)\n",
    "    \n",
    "    # Train dataset\n",
    "    X_train = params[\"train_df\"].drop(target_col,axis =1)\n",
    "    y_train = params[\"train_df\"][[target_col]]\n",
    "    \n",
    "    # Test dataset\n",
    "    X_test = params[\"test_df\"].drop(target_col,axis =1)\n",
    "    y_test = params[\"test_df\"][[target_col]]\n",
    "    \n",
    "#     print(X_train[:2])\n",
    "#     print(X_test[:2])\n",
    "\n",
    "    # Fit RandomForestRegressor model\n",
    "    model = RandomForestRegressor(random_state = 42)\n",
    "    model.fit(X_train, y_train)\n",
    "    \n",
    "    end=time.time()\n",
    "    \n",
    "    preprocessy_preds = model.predict(X_test)\n",
    "\n",
    "    # Get time and accuracy\n",
    "    preprocessy_time = np.round(end - start,4)\n",
    "    preprocessy_accuracy = np.round(r2_score(y_test, preprocessy_preds),4)\n",
    "\n",
    "    # Print Diff Error Values\n",
    "    print('Mean Absolute Error:', mean_absolute_error(y_test, preprocessy_preds))\n",
    "    print('Mean Squared Error:', mean_squared_error(y_test, preprocessy_preds))\n",
    "    print('Root Mean Squared Error:', np.sqrt(mean_squared_error(y_test, preprocessy_preds)))\n",
    "    \n",
    "    return preprocessy_accuracy, preprocessy_time"
   ]
  },
  {
   "cell_type": "code",
   "execution_count": 14,
   "metadata": {},
   "outputs": [],
   "source": [
    "params = {\"train_df\": train, \"test_df\": test, \"target_label\": \"Price\", \"test_size\": 0.3, \"type\": \"MinMaxScaler\"}"
   ]
  },
  {
   "cell_type": "code",
   "execution_count": 15,
   "metadata": {},
   "outputs": [
    {
     "name": "stdout",
     "output_type": "stream",
     "text": [
      "Mean Absolute Error: 174010.92741858942\n",
      "Mean Squared Error: 88951856442.0704\n",
      "Root Mean Squared Error: 298247.9781022336\n"
     ]
    }
   ],
   "source": [
    "acc, t = preprocessy_score_dataset(params = params)\n",
    "\n",
    "dtf_1.loc['Preprocessy'] = [acc, t]"
   ]
  },
  {
   "cell_type": "markdown",
   "metadata": {},
   "source": [
    "## StandardScaler"
   ]
  },
  {
   "cell_type": "markdown",
   "metadata": {},
   "source": [
    "### sklearn"
   ]
  },
  {
   "cell_type": "code",
   "execution_count": 16,
   "metadata": {},
   "outputs": [
    {
     "name": "stdout",
     "output_type": "stream",
     "text": [
      "Mean Absolute Error: 174062.09716600043\n",
      "Mean Squared Error: 88994429193.78366\n",
      "Root Mean Squared Error: 298319.3409649861\n"
     ]
    }
   ],
   "source": [
    "s_scaler = preprocessing.StandardScaler()\n",
    "\n",
    "start = time.time()\n",
    "\n",
    "#Scale the data\n",
    "df_s = s_scaler.fit_transform(imputed_df.drop(['Price'], axis =1))\n",
    "df_s = pd.DataFrame(df_s, columns=col_names)\n",
    "\n",
    "#Split the data\n",
    "X_train, X_test, y_train, y_test = train_test_split(df_s, imputed_df['Price'], test_size=0.3, random_state=69)\n",
    "\n",
    "#Fit RandomForestRegressor model\n",
    "model = RandomForestRegressor(random_state = 42)\n",
    "model.fit(X_train, y_train)\n",
    "\n",
    "end=time.time()\n",
    "\n",
    "sklearn_preds = model.predict(X_test)\n",
    "\n",
    "# Get time and accuracy\n",
    "sklearn_time = np.round(end - start,4)\n",
    "sklearn_accuracy = np.round(r2_score(y_test, sklearn_preds),4)\n",
    "\n",
    "# Print Diff Error Values\n",
    "print('Mean Absolute Error:', mean_absolute_error(y_test, sklearn_preds))\n",
    "print('Mean Squared Error:', mean_squared_error(y_test, sklearn_preds))\n",
    "print('Root Mean Squared Error:', np.sqrt(mean_squared_error(y_test, sklearn_preds)))\n",
    "\n",
    "#Append Dataframe\n",
    "dtf_2.loc['sklearn'] = [sklearn_accuracy, sklearn_time]"
   ]
  },
  {
   "cell_type": "markdown",
   "metadata": {},
   "source": [
    "### preprocessy"
   ]
  },
  {
   "cell_type": "code",
   "execution_count": 17,
   "metadata": {},
   "outputs": [
    {
     "name": "stdout",
     "output_type": "stream",
     "text": [
      "Mean Absolute Error: 174010.92741858942\n",
      "Mean Squared Error: 88951856442.0704\n",
      "Root Mean Squared Error: 298247.9781022336\n"
     ]
    }
   ],
   "source": [
    "params = {\"train_df\": train, \"test_df\": test, \"target_label\": \"Price\", \"test_size\": 0.3, \"type\": \"StandardScaler\"}\n",
    "acc, t = preprocessy_score_dataset(params = params)\n",
    "\n",
    "dtf_2.loc['Preprocessy'] = [acc, t]"
   ]
  },
  {
   "cell_type": "markdown",
   "metadata": {},
   "source": [
    "## BinaryScaler"
   ]
  },
  {
   "cell_type": "markdown",
   "metadata": {},
   "source": [
    "### sklearn"
   ]
  },
  {
   "cell_type": "code",
   "execution_count": 18,
   "metadata": {},
   "outputs": [
    {
     "name": "stdout",
     "output_type": "stream",
     "text": [
      "Mean Absolute Error: 442584.36487377214\n",
      "Mean Squared Error: 405718702255.6247\n",
      "Root Mean Squared Error: 636960.5186003484\n"
     ]
    }
   ],
   "source": [
    "b_scaler = preprocessing.Binarizer()\n",
    "\n",
    "start = time.time()\n",
    "\n",
    "#Scale the data\n",
    "df_b = b_scaler.fit_transform(imputed_df.drop(['Price'], axis =1))\n",
    "df_b = pd.DataFrame(df_b, columns=col_names)\n",
    "\n",
    "#Split the data\n",
    "X_train, X_test, y_train, y_test = train_test_split(df_b, imputed_df['Price'], test_size=0.3, random_state=69)\n",
    "\n",
    "#Fit RandomForestRegressor model\n",
    "model = RandomForestRegressor(random_state = 42)\n",
    "model.fit(X_train, y_train)\n",
    "\n",
    "end=time.time()\n",
    "\n",
    "sklearn_preds = model.predict(X_test)\n",
    "\n",
    "# Get time and accuracy\n",
    "sklearn_time = np.round(end - start,4)\n",
    "sklearn_accuracy = np.round(r2_score(y_test, sklearn_preds),4)\n",
    "\n",
    "# Print Diff Error Values\n",
    "print('Mean Absolute Error:', mean_absolute_error(y_test, sklearn_preds))\n",
    "print('Mean Squared Error:', mean_squared_error(y_test, sklearn_preds))\n",
    "print('Root Mean Squared Error:', np.sqrt(mean_squared_error(y_test, sklearn_preds)))\n",
    "\n",
    "#Append Dataframe\n",
    "dtf_3.loc['sklearn'] = [sklearn_accuracy, sklearn_time]"
   ]
  },
  {
   "cell_type": "markdown",
   "metadata": {},
   "source": [
    "### preprocessy"
   ]
  },
  {
   "cell_type": "code",
   "execution_count": 19,
   "metadata": {},
   "outputs": [],
   "source": [
    "params = {\"train_df\": train, \"test_df\": test, \"target_label\": \"Price\", \"test_size\": 0.3, \"type\": \"BinaryScaler\"}"
   ]
  },
  {
   "cell_type": "code",
   "execution_count": 20,
   "metadata": {},
   "outputs": [
    {
     "name": "stdout",
     "output_type": "stream",
     "text": [
      "Mean Absolute Error: 174010.92741858942\n",
      "Mean Squared Error: 88951856442.0704\n",
      "Root Mean Squared Error: 298247.9781022336\n"
     ]
    }
   ],
   "source": [
    "acc, t = preprocessy_score_dataset(params)\n",
    "\n",
    "dtf_3.loc['Preprocessy'] = [acc, t]"
   ]
  },
  {
   "cell_type": "markdown",
   "metadata": {},
   "source": [
    "#### MinMaxScaler"
   ]
  },
  {
   "cell_type": "code",
   "execution_count": 21,
   "metadata": {},
   "outputs": [
    {
     "data": {
      "text/html": [
       "<div>\n",
       "<style scoped>\n",
       "    .dataframe tbody tr th:only-of-type {\n",
       "        vertical-align: middle;\n",
       "    }\n",
       "\n",
       "    .dataframe tbody tr th {\n",
       "        vertical-align: top;\n",
       "    }\n",
       "\n",
       "    .dataframe thead th {\n",
       "        text-align: right;\n",
       "    }\n",
       "</style>\n",
       "<table border=\"1\" class=\"dataframe\">\n",
       "  <thead>\n",
       "    <tr style=\"text-align: right;\">\n",
       "      <th></th>\n",
       "      <th>Accuracy</th>\n",
       "      <th>Time</th>\n",
       "    </tr>\n",
       "  </thead>\n",
       "  <tbody>\n",
       "    <tr>\n",
       "      <th>sklearn</th>\n",
       "      <td>0.7946</td>\n",
       "      <td>4.1067</td>\n",
       "    </tr>\n",
       "    <tr>\n",
       "      <th>Preprocessy</th>\n",
       "      <td>0.7948</td>\n",
       "      <td>4.0594</td>\n",
       "    </tr>\n",
       "  </tbody>\n",
       "</table>\n",
       "</div>"
      ],
      "text/plain": [
       "             Accuracy    Time\n",
       "sklearn        0.7946  4.1067\n",
       "Preprocessy    0.7948  4.0594"
      ]
     },
     "execution_count": 21,
     "metadata": {},
     "output_type": "execute_result"
    }
   ],
   "source": [
    "dtf_1"
   ]
  },
  {
   "cell_type": "markdown",
   "metadata": {},
   "source": [
    "#### StandardScaler"
   ]
  },
  {
   "cell_type": "code",
   "execution_count": 22,
   "metadata": {},
   "outputs": [
    {
     "data": {
      "text/html": [
       "<div>\n",
       "<style scoped>\n",
       "    .dataframe tbody tr th:only-of-type {\n",
       "        vertical-align: middle;\n",
       "    }\n",
       "\n",
       "    .dataframe tbody tr th {\n",
       "        vertical-align: top;\n",
       "    }\n",
       "\n",
       "    .dataframe thead th {\n",
       "        text-align: right;\n",
       "    }\n",
       "</style>\n",
       "<table border=\"1\" class=\"dataframe\">\n",
       "  <thead>\n",
       "    <tr style=\"text-align: right;\">\n",
       "      <th></th>\n",
       "      <th>Accuracy</th>\n",
       "      <th>Time</th>\n",
       "    </tr>\n",
       "  </thead>\n",
       "  <tbody>\n",
       "    <tr>\n",
       "      <th>sklearn</th>\n",
       "      <td>0.7947</td>\n",
       "      <td>4.0521</td>\n",
       "    </tr>\n",
       "    <tr>\n",
       "      <th>Preprocessy</th>\n",
       "      <td>0.7948</td>\n",
       "      <td>4.0472</td>\n",
       "    </tr>\n",
       "  </tbody>\n",
       "</table>\n",
       "</div>"
      ],
      "text/plain": [
       "             Accuracy    Time\n",
       "sklearn        0.7947  4.0521\n",
       "Preprocessy    0.7948  4.0472"
      ]
     },
     "execution_count": 22,
     "metadata": {},
     "output_type": "execute_result"
    }
   ],
   "source": [
    "dtf_2"
   ]
  },
  {
   "cell_type": "markdown",
   "metadata": {},
   "source": [
    "#### BinaryScaler"
   ]
  },
  {
   "cell_type": "code",
   "execution_count": 23,
   "metadata": {},
   "outputs": [
    {
     "data": {
      "text/html": [
       "<div>\n",
       "<style scoped>\n",
       "    .dataframe tbody tr th:only-of-type {\n",
       "        vertical-align: middle;\n",
       "    }\n",
       "\n",
       "    .dataframe tbody tr th {\n",
       "        vertical-align: top;\n",
       "    }\n",
       "\n",
       "    .dataframe thead th {\n",
       "        text-align: right;\n",
       "    }\n",
       "</style>\n",
       "<table border=\"1\" class=\"dataframe\">\n",
       "  <thead>\n",
       "    <tr style=\"text-align: right;\">\n",
       "      <th></th>\n",
       "      <th>Accuracy</th>\n",
       "      <th>Time</th>\n",
       "    </tr>\n",
       "  </thead>\n",
       "  <tbody>\n",
       "    <tr>\n",
       "      <th>sklearn</th>\n",
       "      <td>0.0643</td>\n",
       "      <td>0.2084</td>\n",
       "    </tr>\n",
       "    <tr>\n",
       "      <th>Preprocessy</th>\n",
       "      <td>0.7948</td>\n",
       "      <td>3.9504</td>\n",
       "    </tr>\n",
       "  </tbody>\n",
       "</table>\n",
       "</div>"
      ],
      "text/plain": [
       "             Accuracy    Time\n",
       "sklearn        0.0643  0.2084\n",
       "Preprocessy    0.7948  3.9504"
      ]
     },
     "execution_count": 23,
     "metadata": {},
     "output_type": "execute_result"
    }
   ],
   "source": [
    "dtf_3"
   ]
  },
  {
   "cell_type": "code",
   "execution_count": null,
   "metadata": {},
   "outputs": [],
   "source": []
  }
 ],
 "metadata": {
  "kernelspec": {
   "display_name": "Python 3",
   "language": "python",
   "name": "python3"
  },
  "language_info": {
   "codemirror_mode": {
    "name": "ipython",
    "version": 3
   },
   "file_extension": ".py",
   "mimetype": "text/x-python",
   "name": "python",
   "nbconvert_exporter": "python",
   "pygments_lexer": "ipython3",
   "version": "3.8.3"
  }
 },
 "nbformat": 4,
 "nbformat_minor": 4
}
