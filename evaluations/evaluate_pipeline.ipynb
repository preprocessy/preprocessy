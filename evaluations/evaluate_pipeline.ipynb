{
 "cells": [
  {
   "cell_type": "code",
   "execution_count": 1,
   "metadata": {},
   "outputs": [],
   "source": [
    "import os\n",
    "import sys\n",
    "module_path = os.path.abspath(os.path.join('..'))\n",
    "if module_path not in sys.path:\n",
    "    sys.path.append(module_path)"
   ]
  },
  {
   "cell_type": "code",
   "execution_count": 2,
   "metadata": {},
   "outputs": [],
   "source": [
    "from preprocessy.pipelines import StandardPipeline"
   ]
  },
  {
   "cell_type": "code",
   "execution_count": 3,
   "metadata": {},
   "outputs": [],
   "source": [
    "def test_input():\n",
    "    params = {'target_label':\"Survived\",'cat_cols':['Pclass','Sex','Parch','Embarked'],'drop':True,'column_list':[\"PassengerId\",\"Name\",\"Ticket\",\"Cabin\"]}\n",
    "    p = StandardPipeline(train_df_path=\"/Users/mac/pypi/preprocessy/datasets/titanic.csv\",test_df_path=\"/Users/mac/pypi/preprocessy/datasets/titanic.csv\", params=params)\n",
    "    p.process()\n",
    "    return params\n",
    "    \n",
    "    "
   ]
  },
  {
   "cell_type": "code",
   "execution_count": 4,
   "metadata": {
    "tags": []
   },
   "outputs": [
    {
     "output_type": "stream",
     "name": "stdout",
     "text": [
      "\n",
      "Pipeline Class: StandardPipeline\n",
      "\n",
      "+-----------------------+---------------------------------------------------------------------------------------+\n",
      "| Pipeline Property     | Value                                                                                 |\n",
      "+-----------------------+---------------------------------------------------------------------------------------+\n",
      "| Train Dataframe Path  | /Users/mac/pypi/preprocessy/datasets/titanic.csv                                      |\n",
      "| Test Dataframe Path   | /Users/mac/pypi/preprocessy/datasets/titanic.csv                                      |\n",
      "| Config File Path      | None                                                                                  |\n",
      "| Pipeline Stages       | Read file, Parse dataset, Execute, Encode, Handle outliers, Execute, Train test split |\n",
      "| Total Pipeline Stages | 7                                                                                     |\n",
      "| Total Params          | 6                                                                                     |\n",
      "+-----------------------+---------------------------------------------------------------------------------------+\n",
      "/Users/mac/pypi/preprocessy/preprocessy/parse/_summarize.py:30: UserWarning: Parameter 'target_label' is empty. If not provided and is present in dataframe, it may get encoded. To mitigate, provide the target_label from dataframe or provide explicit list of columns for encoding via the 'cat_cols' parameter\n",
      "  warnings.warn(\n",
      "\u001b[?25l\u001b[2K\n",
      "Processing...\n",
      "\n",
      "==> Completed Stage: Read file\n",
      "\n",
      "==> Completed Stage: Parse dataset\n",
      "\n",
      "==> Completed Stage: Execute\n",
      "\n",
      "==> Completed Stage: Encode\n",
      "\n",
      "==> Completed Stage: Handle outliers\n",
      "\n",
      "==> Completed Stage: Execute\n",
      "\n",
      "==> Completed Stage: Train test split\n",
      "\n",
      "Pipeline Stages |████████████████████████████████████████| 7/7 [100%] in 0.5s (1\n",
      "\u001b[32m\n",
      "Pipeline Completed Successfully\n",
      "\u001b[0m\n"
     ]
    },
    {
     "output_type": "execute_result",
     "data": {
      "text/plain": [
       "{'target_label': 'Survived',\n",
       " 'cat_cols': ['Pclass',\n",
       "  'Sex',\n",
       "  'Parch',\n",
       "  'Embarked',\n",
       "  'PclassEncoded',\n",
       "  'SexEncoded',\n",
       "  'ParchEncoded',\n",
       "  'EmbarkedEncoded',\n",
       "  'Survived',\n",
       "  'Survived'],\n",
       " 'drop': True,\n",
       " 'column_list': ['PassengerId', 'Name', 'Ticket', 'Cabin'],\n",
       " 'train_df_path': '/Users/mac/pypi/preprocessy/datasets/titanic.csv',\n",
       " 'test_df_path': '/Users/mac/pypi/preprocessy/datasets/titanic.csv',\n",
       " 'train_df':      Survived  Pclass     Sex   Age  SibSp  Parch     Fare Embarked  \\\n",
       " 0           0       3    male  22.0      1      0   7.2500        S   \n",
       " 1           1       1  female  38.0      1      0  71.2833        C   \n",
       " 3           1       1  female  35.0      1      0  53.1000        S   \n",
       " 9           1       2  female  14.0      1      0  30.0708        C   \n",
       " 13          0       3    male  39.0      1      5  31.2750        S   \n",
       " ..        ...     ...     ...   ...    ...    ...      ...      ...   \n",
       " 860         0       3    male  41.0      2      0  14.1083        S   \n",
       " 861         0       2    male  21.0      1      0  11.5000        S   \n",
       " 866         1       2  female  27.0      1      0  13.8583        C   \n",
       " 871         1       1  female  47.0      1      1  52.5542        S   \n",
       " 874         1       2  female  28.0      1      0  24.0000        C   \n",
       " \n",
       "     PclassEncoded SexEncoded ParchEncoded EmbarkedEncoded  \n",
       " 0               0          0            0               0  \n",
       " 1               1          1            0               1  \n",
       " 3               1          1            0               0  \n",
       " 9               2          1            0               1  \n",
       " 13              0          0            3               0  \n",
       " ..            ...        ...          ...             ...  \n",
       " 860             0          0            0               0  \n",
       " 861             2          0            0               0  \n",
       " 866             2          1            0               1  \n",
       " 871             1          1            1               0  \n",
       " 874             2          1            0               1  \n",
       " \n",
       " [175 rows x 12 columns],\n",
       " 'test_df':      Survived  Pclass     Sex   Age  SibSp  Parch     Fare Embarked  \\\n",
       " 0           0       3    male  22.0      1      0   7.2500        S   \n",
       " 1           1       1  female  38.0      1      0  71.2833        C   \n",
       " 3           1       1  female  35.0      1      0  53.1000        S   \n",
       " 9           1       2  female  14.0      1      0  30.0708        C   \n",
       " 13          0       3    male  39.0      1      5  31.2750        S   \n",
       " ..        ...     ...     ...   ...    ...    ...      ...      ...   \n",
       " 860         0       3    male  41.0      2      0  14.1083        S   \n",
       " 861         0       2    male  21.0      1      0  11.5000        S   \n",
       " 866         1       2  female  27.0      1      0  13.8583        C   \n",
       " 871         1       1  female  47.0      1      1  52.5542        S   \n",
       " 874         1       2  female  28.0      1      0  24.0000        C   \n",
       " \n",
       "     PclassEncoded SexEncoded ParchEncoded EmbarkedEncoded  \n",
       " 0               0          0            0               0  \n",
       " 1               1          1            0               1  \n",
       " 3               1          1            0               0  \n",
       " 9               2          1            0               1  \n",
       " 13              0          0            3               0  \n",
       " ..            ...        ...          ...             ...  \n",
       " 860             0          0            0               0  \n",
       " 861             2          0            0               0  \n",
       " 866             2          1            0               1  \n",
       " 871             1          1            1               0  \n",
       " 874             2          1            0               1  \n",
       " \n",
       " [175 rows x 12 columns],\n",
       " 'ord_cols': [],\n",
       " 'X_train':      Survived  Pclass     Sex   Age  SibSp  Parch     Fare Embarked  \\\n",
       " 0           0       3    male  22.0      1      0   7.2500        S   \n",
       " 1           1       1  female  38.0      1      0  71.2833        C   \n",
       " 3           1       1  female  35.0      1      0  53.1000        S   \n",
       " 9           1       2  female  14.0      1      0  30.0708        C   \n",
       " 13          0       3    male  39.0      1      5  31.2750        S   \n",
       " ..        ...     ...     ...   ...    ...    ...      ...      ...   \n",
       " 860         0       3    male  41.0      2      0  14.1083        S   \n",
       " 861         0       2    male  21.0      1      0  11.5000        S   \n",
       " 866         1       2  female  27.0      1      0  13.8583        C   \n",
       " 871         1       1  female  47.0      1      1  52.5542        S   \n",
       " 874         1       2  female  28.0      1      0  24.0000        C   \n",
       " \n",
       "     PclassEncoded SexEncoded ParchEncoded EmbarkedEncoded  \n",
       " 0               0          0            0               0  \n",
       " 1               1          1            0               1  \n",
       " 3               1          1            0               0  \n",
       " 9               2          1            0               1  \n",
       " 13              0          0            3               0  \n",
       " ..            ...        ...          ...             ...  \n",
       " 860             0          0            0               0  \n",
       " 861             2          0            0               0  \n",
       " 866             2          1            0               1  \n",
       " 871             1          1            1               0  \n",
       " 874             2          1            0               1  \n",
       " \n",
       " [175 rows x 12 columns],\n",
       " 'X_test':      Survived  Pclass     Sex   Age  SibSp  Parch     Fare Embarked  \\\n",
       " 0           0       3    male  22.0      1      0   7.2500        S   \n",
       " 1           1       1  female  38.0      1      0  71.2833        C   \n",
       " 3           1       1  female  35.0      1      0  53.1000        S   \n",
       " 9           1       2  female  14.0      1      0  30.0708        C   \n",
       " 13          0       3    male  39.0      1      5  31.2750        S   \n",
       " ..        ...     ...     ...   ...    ...    ...      ...      ...   \n",
       " 860         0       3    male  41.0      2      0  14.1083        S   \n",
       " 861         0       2    male  21.0      1      0  11.5000        S   \n",
       " 866         1       2  female  27.0      1      0  13.8583        C   \n",
       " 871         1       1  female  47.0      1      1  52.5542        S   \n",
       " 874         1       2  female  28.0      1      0  24.0000        C   \n",
       " \n",
       "     PclassEncoded SexEncoded ParchEncoded EmbarkedEncoded  \n",
       " 0               0          0            0               0  \n",
       " 1               1          1            0               1  \n",
       " 3               1          1            0               0  \n",
       " 9               2          1            0               1  \n",
       " 13              0          0            3               0  \n",
       " ..            ...        ...          ...             ...  \n",
       " 860             0          0            0               0  \n",
       " 861             2          0            0               0  \n",
       " 866             2          1            0               1  \n",
       " 871             1          1            1               0  \n",
       " 874             2          1            0               1  \n",
       " \n",
       " [175 rows x 12 columns],\n",
       " 'y_train': 0      0\n",
       " 1      1\n",
       " 3      1\n",
       " 9      1\n",
       " 13     0\n",
       "       ..\n",
       " 860    0\n",
       " 861    0\n",
       " 866    1\n",
       " 871    1\n",
       " 874    1\n",
       " Name: Survived, Length: 175, dtype: int64,\n",
       " 'y_test': 0      0\n",
       " 1      1\n",
       " 3      1\n",
       " 9      1\n",
       " 13     0\n",
       "       ..\n",
       " 860    0\n",
       " 861    0\n",
       " 866    1\n",
       " 871    1\n",
       " 874    1\n",
       " Name: Survived, Length: 175, dtype: int64}"
      ]
     },
     "metadata": {},
     "execution_count": 4
    }
   ],
   "source": [
    "params = test_input()\n",
    "params"
   ]
  },
  {
   "cell_type": "code",
   "execution_count": 10,
   "metadata": {},
   "outputs": [
    {
     "output_type": "execute_result",
     "data": {
      "text/plain": [
       "{'target_label': 'Survived',\n",
       " 'cat_cols': ['Pclass',\n",
       "  'Sex',\n",
       "  'Parch',\n",
       "  'Embarked',\n",
       "  'PclassEncoded',\n",
       "  'SexEncoded',\n",
       "  'ParchEncoded',\n",
       "  'EmbarkedEncoded',\n",
       "  'Survived',\n",
       "  'Survived'],\n",
       " 'drop': True,\n",
       " 'column_list': ['PassengerId', 'Name', 'Ticket', 'Cabin'],\n",
       " 'train_df_path': '/Users/mac/pypi/preprocessy/datasets/titanic.csv',\n",
       " 'test_df_path': '/Users/mac/pypi/preprocessy/datasets/titanic.csv',\n",
       " 'train_df':      Survived  Pclass     Sex   Age  SibSp  Parch     Fare Embarked  \\\n",
       " 0           0       3    male  22.0      1      0   7.2500        S   \n",
       " 1           1       1  female  38.0      1      0  71.2833        C   \n",
       " 3           1       1  female  35.0      1      0  53.1000        S   \n",
       " 9           1       2  female  14.0      1      0  30.0708        C   \n",
       " 13          0       3    male  39.0      1      5  31.2750        S   \n",
       " ..        ...     ...     ...   ...    ...    ...      ...      ...   \n",
       " 860         0       3    male  41.0      2      0  14.1083        S   \n",
       " 861         0       2    male  21.0      1      0  11.5000        S   \n",
       " 866         1       2  female  27.0      1      0  13.8583        C   \n",
       " 871         1       1  female  47.0      1      1  52.5542        S   \n",
       " 874         1       2  female  28.0      1      0  24.0000        C   \n",
       " \n",
       "     PclassEncoded SexEncoded ParchEncoded EmbarkedEncoded  \n",
       " 0               0          0            0               0  \n",
       " 1               1          1            0               1  \n",
       " 3               1          1            0               0  \n",
       " 9               2          1            0               1  \n",
       " 13              0          0            3               0  \n",
       " ..            ...        ...          ...             ...  \n",
       " 860             0          0            0               0  \n",
       " 861             2          0            0               0  \n",
       " 866             2          1            0               1  \n",
       " 871             1          1            1               0  \n",
       " 874             2          1            0               1  \n",
       " \n",
       " [175 rows x 12 columns],\n",
       " 'test_df':      Survived  Pclass     Sex   Age  SibSp  Parch     Fare Embarked  \\\n",
       " 0           0       3    male  22.0      1      0   7.2500        S   \n",
       " 1           1       1  female  38.0      1      0  71.2833        C   \n",
       " 3           1       1  female  35.0      1      0  53.1000        S   \n",
       " 9           1       2  female  14.0      1      0  30.0708        C   \n",
       " 13          0       3    male  39.0      1      5  31.2750        S   \n",
       " ..        ...     ...     ...   ...    ...    ...      ...      ...   \n",
       " 860         0       3    male  41.0      2      0  14.1083        S   \n",
       " 861         0       2    male  21.0      1      0  11.5000        S   \n",
       " 866         1       2  female  27.0      1      0  13.8583        C   \n",
       " 871         1       1  female  47.0      1      1  52.5542        S   \n",
       " 874         1       2  female  28.0      1      0  24.0000        C   \n",
       " \n",
       "     PclassEncoded SexEncoded ParchEncoded EmbarkedEncoded  \n",
       " 0               0          0            0               0  \n",
       " 1               1          1            0               1  \n",
       " 3               1          1            0               0  \n",
       " 9               2          1            0               1  \n",
       " 13              0          0            3               0  \n",
       " ..            ...        ...          ...             ...  \n",
       " 860             0          0            0               0  \n",
       " 861             2          0            0               0  \n",
       " 866             2          1            0               1  \n",
       " 871             1          1            1               0  \n",
       " 874             2          1            0               1  \n",
       " \n",
       " [175 rows x 12 columns],\n",
       " 'ord_cols': [],\n",
       " 'X_train':      Survived  Pclass     Sex   Age  SibSp  Parch     Fare Embarked  \\\n",
       " 0           0       3    male  22.0      1      0   7.2500        S   \n",
       " 1           1       1  female  38.0      1      0  71.2833        C   \n",
       " 3           1       1  female  35.0      1      0  53.1000        S   \n",
       " 9           1       2  female  14.0      1      0  30.0708        C   \n",
       " 13          0       3    male  39.0      1      5  31.2750        S   \n",
       " ..        ...     ...     ...   ...    ...    ...      ...      ...   \n",
       " 860         0       3    male  41.0      2      0  14.1083        S   \n",
       " 861         0       2    male  21.0      1      0  11.5000        S   \n",
       " 866         1       2  female  27.0      1      0  13.8583        C   \n",
       " 871         1       1  female  47.0      1      1  52.5542        S   \n",
       " 874         1       2  female  28.0      1      0  24.0000        C   \n",
       " \n",
       "     PclassEncoded SexEncoded ParchEncoded EmbarkedEncoded  \n",
       " 0               0          0            0               0  \n",
       " 1               1          1            0               1  \n",
       " 3               1          1            0               0  \n",
       " 9               2          1            0               1  \n",
       " 13              0          0            3               0  \n",
       " ..            ...        ...          ...             ...  \n",
       " 860             0          0            0               0  \n",
       " 861             2          0            0               0  \n",
       " 866             2          1            0               1  \n",
       " 871             1          1            1               0  \n",
       " 874             2          1            0               1  \n",
       " \n",
       " [175 rows x 12 columns],\n",
       " 'X_test':      Survived  Pclass     Sex   Age  SibSp  Parch     Fare Embarked  \\\n",
       " 0           0       3    male  22.0      1      0   7.2500        S   \n",
       " 1           1       1  female  38.0      1      0  71.2833        C   \n",
       " 3           1       1  female  35.0      1      0  53.1000        S   \n",
       " 9           1       2  female  14.0      1      0  30.0708        C   \n",
       " 13          0       3    male  39.0      1      5  31.2750        S   \n",
       " ..        ...     ...     ...   ...    ...    ...      ...      ...   \n",
       " 860         0       3    male  41.0      2      0  14.1083        S   \n",
       " 861         0       2    male  21.0      1      0  11.5000        S   \n",
       " 866         1       2  female  27.0      1      0  13.8583        C   \n",
       " 871         1       1  female  47.0      1      1  52.5542        S   \n",
       " 874         1       2  female  28.0      1      0  24.0000        C   \n",
       " \n",
       "     PclassEncoded SexEncoded ParchEncoded EmbarkedEncoded  \n",
       " 0               0          0            0               0  \n",
       " 1               1          1            0               1  \n",
       " 3               1          1            0               0  \n",
       " 9               2          1            0               1  \n",
       " 13              0          0            3               0  \n",
       " ..            ...        ...          ...             ...  \n",
       " 860             0          0            0               0  \n",
       " 861             2          0            0               0  \n",
       " 866             2          1            0               1  \n",
       " 871             1          1            1               0  \n",
       " 874             2          1            0               1  \n",
       " \n",
       " [175 rows x 12 columns],\n",
       " 'y_train': 0      0\n",
       " 1      1\n",
       " 3      1\n",
       " 9      1\n",
       " 13     0\n",
       "       ..\n",
       " 860    0\n",
       " 861    0\n",
       " 866    1\n",
       " 871    1\n",
       " 874    1\n",
       " Name: Survived, Length: 175, dtype: int64,\n",
       " 'y_test': 0      0\n",
       " 1      1\n",
       " 3      1\n",
       " 9      1\n",
       " 13     0\n",
       "       ..\n",
       " 860    0\n",
       " 861    0\n",
       " 866    1\n",
       " 871    1\n",
       " 874    1\n",
       " Name: Survived, Length: 175, dtype: int64}"
      ]
     },
     "metadata": {},
     "execution_count": 10
    }
   ],
   "source": [
    "params"
   ]
  },
  {
   "cell_type": "code",
   "execution_count": 23,
   "metadata": {},
   "outputs": [],
   "source": [
    "train_new = params[\"X_train\"]\n",
    "test_new = params[\"X_test\"]\n",
    "train_y = train_new[\"Survived\"]\n",
    "test_y = test_new[\"Survived\"]\n",
    "colstodrop = [\"Survived\",\"Sex\",\"Parch\",\"SurvivedEncoded\",\"PclassEncoded\",\"Embarked\"]\n",
    "train_new.drop(colstodrop,axis=1,inplace=True)\n",
    "test_new.drop(colstodrop,axis=1,inplace=True)"
   ]
  },
  {
   "cell_type": "code",
   "execution_count": 12,
   "metadata": {},
   "outputs": [],
   "source": [
    "\n",
    "import pandas as pd\n",
    "from sklearn.model_selection import train_test_split\n",
    "original = pd.read_csv(\"/Users/mac/preprocessy/datasets/titanic.csv\")\n",
    "cols = [\"PassengerId\",\"Name\",\"Ticket\",\"Cabin\"]\n",
    "original.drop(cols,axis=1,inplace=True)\n",
    "original.dropna(inplace=True)\n",
    "original[\"SexEncoded\"] = original[\"Sex\"].apply(lambda x: 0 if x=='female' else 1)\n",
    "original[\"EmbarkedEncoded\"] = original[\"Embarked\"].apply(lambda x: 0 if x=='C' else( 1 if x=='S' else 2))\n",
    "original.drop(['Sex','Embarked'],axis=1,inplace=True)\n",
    "y = original[\"Survived\"]\n",
    "X = original.drop([\"Survived\"],axis=1)\n",
    "trainx, testx, trainy, testy = train_test_split(X,y,test_size=0.2)\n"
   ]
  },
  {
   "cell_type": "code",
   "execution_count": 8,
   "metadata": {},
   "outputs": [],
   "source": [
    "from sklearn.linear_model import LogisticRegression\n"
   ]
  },
  {
   "cell_type": "code",
   "execution_count": 24,
   "metadata": {},
   "outputs": [
    {
     "data": {
      "text/plain": [
       "LogisticRegression(max_iter=200)"
      ]
     },
     "execution_count": 24,
     "metadata": {},
     "output_type": "execute_result"
    }
   ],
   "source": [
    "l = LogisticRegression(max_iter=200)\n",
    "l.fit(train_new,train_y)"
   ]
  },
  {
   "cell_type": "code",
   "execution_count": 26,
   "metadata": {},
   "outputs": [
    {
     "name": "stdout",
     "output_type": "stream",
     "text": [
      "model score: 0.817\n"
     ]
    }
   ],
   "source": [
    "print(\"model score: %.3f\" % l.score(test_new, test_y))"
   ]
  },
  {
   "cell_type": "code",
   "execution_count": 20,
   "metadata": {},
   "outputs": [],
   "source": [
    "def sc(X,y):\n",
    "    trainx, testx, trainy, testy = train_test_split(X,y,test_size=0.2)\n",
    "    l = LogisticRegression(max_iter=200)\n",
    "    l.fit(trainx,trainy)\n",
    "    t = l.score(testx, testy)\n",
    "    return t"
   ]
  },
  {
   "cell_type": "code",
   "execution_count": 21,
   "metadata": {},
   "outputs": [
    {
     "data": {
      "text/plain": [
       "0.793006993006993"
      ]
     },
     "execution_count": 21,
     "metadata": {},
     "output_type": "execute_result"
    }
   ],
   "source": [
    "z = []\n",
    "for _ in range(5):\n",
    "    z.append(sc(X,y))\n",
    "sum(z)/len(z)\n"
   ]
  },
  {
   "cell_type": "code",
   "execution_count": 19,
   "metadata": {},
   "outputs": [
    {
     "data": {
      "text/plain": [
       "[0.8391608391608392,\n",
       " 0.8391608391608392,\n",
       " 0.8391608391608392,\n",
       " 0.8391608391608392,\n",
       " 0.8391608391608392]"
      ]
     },
     "execution_count": 19,
     "metadata": {},
     "output_type": "execute_result"
    }
   ],
   "source": [
    "z"
   ]
  },
  {
   "cell_type": "code",
   "execution_count": null,
   "metadata": {},
   "outputs": [],
   "source": []
  }
 ],
 "metadata": {
  "interpreter": {
   "hash": "5a6cdbaa33f5d050f87055df30646481c4b08197cb93451113a95329c33238ee"
  },
  "kernelspec": {
   "name": "python3",
   "display_name": "Python 3.9.5 64-bit ('env': venv)"
  },
  "language_info": {
   "codemirror_mode": {
    "name": "ipython",
    "version": 3
   },
   "file_extension": ".py",
   "mimetype": "text/x-python",
   "name": "python",
   "nbconvert_exporter": "python",
   "pygments_lexer": "ipython3",
   "version": "3.9.5"
  }
 },
 "nbformat": 4,
 "nbformat_minor": 4
}
