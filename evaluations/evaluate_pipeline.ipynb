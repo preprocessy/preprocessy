{
 "metadata": {
  "language_info": {
   "codemirror_mode": {
    "name": "ipython",
    "version": 3
   },
   "file_extension": ".py",
   "mimetype": "text/x-python",
   "name": "python",
   "nbconvert_exporter": "python",
   "pygments_lexer": "ipython3",
   "version": "3.9.5"
  },
  "orig_nbformat": 4,
  "kernelspec": {
   "name": "python3",
   "display_name": "Python 3.9.5 64-bit ('env': venv)"
  },
  "interpreter": {
   "hash": "194b8a99210d64bd717a1b60ef3a53f521178399079cbbac3de4cf80163c40a0"
  }
 },
 "nbformat": 4,
 "nbformat_minor": 2,
 "cells": [
  {
   "cell_type": "code",
   "execution_count": 1,
   "metadata": {},
   "outputs": [],
   "source": [
    "import os\n",
    "import sys\n",
    "module_path = os.path.abspath(os.path.join('..'))\n",
    "if module_path not in sys.path:\n",
    "    sys.path.append(module_path)"
   ]
  },
  {
   "cell_type": "code",
   "execution_count": 2,
   "metadata": {},
   "outputs": [],
   "source": [
    "from preprocessy.pipelines import Preprocessy"
   ]
  },
  {
   "cell_type": "code",
   "execution_count": 3,
   "metadata": {},
   "outputs": [],
   "source": [
    "def test_input():\n",
    "    params = {'target_label':\"Survived\",'cat_cols':['Survived','Pclass','Sex','Parch','Embarked'],'drop':True,'column_list':[\"PassengerId\",\"Name\",\"Ticket\",\"Cabin\"]}\n",
    "    p = Preprocessy(train_df_path=\"/Users/mac/preprocessy/datasets/titanic.csv\",test_df_path=\"/Users/mac/preprocessy/datasets/titanic.csv\", params=params)\n",
    "    p.process()\n",
    "    return params\n",
    "    \n",
    "    "
   ]
  },
  {
   "cell_type": "code",
   "execution_count": 4,
   "metadata": {
    "tags": []
   },
   "outputs": [
    {
     "output_type": "stream",
     "name": "stdout",
     "text": [
      "----------Initializing pipeline----------\n",
      "-------------Completed reading and loading the .csv file in 0:00:00.141950 -------------\n",
      "-------------Completed calculating the categorical columns in 0:00:00.004607 -------------\n",
      "['Survived', 'Pclass', 'Sex', 'Parch', 'Embarked']\n",
      "/Users/mac/preprocessy/preprocessy/parse/_summarize.py:35: UserWarning: target_label may get encoded. Please remove target_label from dataframe or provide explicit list of columns for encoding.\n",
      "  warnings.warn(\n",
      "(889, 8)\n",
      "(712, 8)\n",
      "(712, 8)\n",
      "-------------Completed handling the null values in dataframe in 0:00:00.421217 -------------\n",
      "-------------Completed encoding categorical columns in 0:00:00.164116 ---------------\n",
      "-------------Completed scaling values in dataframe in 0:00:00.004591 -------------\n",
      "/Users/mac/preprocessy/preprocessy/encoding/_categorical.py:51: UserWarning: target_label may get encoded. Please remove target_label from dataframe or provide explicit list of columns for encoding.\n",
      "  warnings.warn(\n",
      "/Users/mac/preprocessy/preprocessy/encoding/_categorical.py:78: SettingWithCopyWarning: \n",
      "A value is trying to be set on a copy of a slice from a DataFrame.\n",
      "Try using .loc[row_indexer,col_indexer] = value instead\n",
      "\n",
      "See the caveats in the documentation: https://pandas.pydata.org/pandas-docs/stable/user_guide/indexing.html#returning-a-view-versus-a-copy\n",
      "  self.test_df[col + str(\"Encoded\")] = pd.factorize(\n",
      "/Users/mac/preprocessy/preprocessy/encoding/_categorical.py:81: SettingWithCopyWarning: \n",
      "A value is trying to be set on a copy of a slice from a DataFrame.\n",
      "Try using .loc[row_indexer,col_indexer] = value instead\n",
      "\n",
      "See the caveats in the documentation: https://pandas.pydata.org/pandas-docs/stable/user_guide/indexing.html#returning-a-view-versus-a-copy\n",
      "  self.test_df[col + str(\"Encoded\")] = self.test_df[\n",
      "/Users/mac/preprocessy/preprocessy/encoding/_categorical.py:84: SettingWithCopyWarning: \n",
      "A value is trying to be set on a copy of a slice from a DataFrame.\n",
      "Try using .loc[row_indexer,col_indexer] = value instead\n",
      "\n",
      "See the caveats in the documentation: https://pandas.pydata.org/pandas-docs/stable/user_guide/indexing.html#returning-a-view-versus-a-copy\n",
      "  self.train_df[col + str(\"Encoded\")] = pd.factorize(\n",
      "/Users/mac/preprocessy/preprocessy/encoding/_categorical.py:87: SettingWithCopyWarning: \n",
      "A value is trying to be set on a copy of a slice from a DataFrame.\n",
      "Try using .loc[row_indexer,col_indexer] = value instead\n",
      "\n",
      "See the caveats in the documentation: https://pandas.pydata.org/pandas-docs/stable/user_guide/indexing.html#returning-a-view-versus-a-copy\n",
      "  self.train_df[col + str(\"Encoded\")] = self.train_df[\n",
      "-------------Completed handling outliers in 0:00:00.325123 -------------\n"
     ]
    }
   ],
   "source": [
    "params = test_input()"
   ]
  },
  {
   "cell_type": "code",
   "execution_count": 5,
   "metadata": {},
   "outputs": [
    {
     "output_type": "execute_result",
     "data": {
      "text/plain": [
       "(178, 13)"
      ]
     },
     "metadata": {},
     "execution_count": 5
    }
   ],
   "source": [
    "params[\"train\"].shape"
   ]
  },
  {
   "cell_type": "code",
   "execution_count": 23,
   "metadata": {},
   "outputs": [],
   "source": [
    "train_new = params[\"train\"]\n",
    "test_new = params[\"test\"]\n",
    "train_y = train_new[\"Survived\"]\n",
    "test_y = test_new[\"Survived\"]\n",
    "colstodrop = [\"Survived\",\"Sex\",\"Parch\",\"SurvivedEncoded\",\"PclassEncoded\",\"Embarked\"]\n",
    "train_new.drop(colstodrop,axis=1,inplace=True)\n",
    "test_new.drop(colstodrop,axis=1,inplace=True)"
   ]
  },
  {
   "cell_type": "code",
   "execution_count": 6,
   "metadata": {},
   "outputs": [
    {
     "output_type": "execute_result",
     "data": {
      "text/plain": [
       "(570, 7)"
      ]
     },
     "metadata": {},
     "execution_count": 6
    }
   ],
   "source": [
    "train_new.shape"
   ]
  },
  {
   "cell_type": "code",
   "execution_count": 11,
   "metadata": {},
   "outputs": [],
   "source": [
    "import pandas as pd\n",
    "from sklearn.model_selection import train_test_split"
   ]
  },
  {
   "cell_type": "code",
   "execution_count": 12,
   "metadata": {},
   "outputs": [],
   "source": [
    "\n",
    "\n",
    "original = pd.read_csv(\"/Users/mac/preprocessy/datasets/titanic.csv\")\n",
    "cols = [\"PassengerId\",\"Name\",\"Ticket\",\"Cabin\"]\n",
    "original.drop(cols,axis=1,inplace=True)\n",
    "original.dropna(inplace=True)\n",
    "original[\"SexEncoded\"] = original[\"Sex\"].apply(lambda x: 0 if x=='female' else 1)\n",
    "original[\"EmbarkedEncoded\"] = original[\"Embarked\"].apply(lambda x: 0 if x=='C' else( 1 if x=='S' else 2))\n",
    "original.drop(['Sex','Embarked'],axis=1,inplace=True)\n",
    "y = original[\"Survived\"]\n",
    "X = original.drop([\"Survived\"],axis=1)\n",
    "trainx, testx, trainy, testy = train_test_split(X,y,test_size=0.2)\n"
   ]
  },
  {
   "cell_type": "code",
   "execution_count": 15,
   "metadata": {},
   "outputs": [
    {
     "output_type": "execute_result",
     "data": {
      "text/plain": [
       "(569, 7)"
      ]
     },
     "metadata": {},
     "execution_count": 15
    }
   ],
   "source": [
    "trainx.shape"
   ]
  },
  {
   "cell_type": "code",
   "execution_count": 8,
   "metadata": {},
   "outputs": [],
   "source": [
    "from sklearn.linear_model import LogisticRegression\n"
   ]
  },
  {
   "cell_type": "code",
   "execution_count": 24,
   "metadata": {},
   "outputs": [
    {
     "output_type": "execute_result",
     "data": {
      "text/plain": [
       "LogisticRegression(max_iter=200)"
      ]
     },
     "metadata": {},
     "execution_count": 24
    }
   ],
   "source": [
    "l = LogisticRegression(max_iter=200)\n",
    "l.fit(train_new,train_y)"
   ]
  },
  {
   "cell_type": "code",
   "execution_count": 26,
   "metadata": {},
   "outputs": [
    {
     "output_type": "stream",
     "name": "stdout",
     "text": [
      "model score: 0.817\n"
     ]
    }
   ],
   "source": [
    "print(\"model score: %.3f\" % l.score(test_new, test_y))"
   ]
  },
  {
   "cell_type": "code",
   "execution_count": 20,
   "metadata": {},
   "outputs": [],
   "source": [
    "def sc(X,y):\n",
    "    trainx, testx, trainy, testy = train_test_split(X,y,test_size=0.2)\n",
    "    l = LogisticRegression(max_iter=200)\n",
    "    l.fit(trainx,trainy)\n",
    "    t = l.score(testx, testy)\n",
    "    return t"
   ]
  },
  {
   "cell_type": "code",
   "execution_count": 21,
   "metadata": {},
   "outputs": [
    {
     "output_type": "execute_result",
     "data": {
      "text/plain": [
       "0.793006993006993"
      ]
     },
     "metadata": {},
     "execution_count": 21
    }
   ],
   "source": [
    "z = []\n",
    "for _ in range(5):\n",
    "    z.append(sc(X,y))\n",
    "sum(z)/len(z)\n"
   ]
  },
  {
   "cell_type": "code",
   "execution_count": 19,
   "metadata": {},
   "outputs": [
    {
     "output_type": "execute_result",
     "data": {
      "text/plain": [
       "[0.8391608391608392,\n",
       " 0.8391608391608392,\n",
       " 0.8391608391608392,\n",
       " 0.8391608391608392,\n",
       " 0.8391608391608392]"
      ]
     },
     "metadata": {},
     "execution_count": 19
    }
   ],
   "source": [
    "z"
   ]
  },
  {
   "cell_type": "code",
   "execution_count": null,
   "metadata": {},
   "outputs": [],
   "source": []
  }
 ]
}
