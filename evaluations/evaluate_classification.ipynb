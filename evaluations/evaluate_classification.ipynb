{
 "cells": [
  {
   "cell_type": "code",
   "execution_count": 1,
   "id": "c1b9a425",
   "metadata": {},
   "outputs": [],
   "source": [
    "import pandas as pd\n",
    "import numpy as np\n",
    "from preprocessy.pipelines import StandardPipeline, BasePipeline\n",
    "from sklearn.tree import DecisionTreeClassifier\n",
    "from sklearn import metrics\n",
    "import random\n",
    "import time\n",
    "import tracemalloc\n",
    "from sklearn.pipeline import Pipeline\n",
    "from sklearn.base import BaseEstimator, TransformerMixin\n",
    "from sklearn.impute import SimpleImputer\n",
    "from sklearn.preprocessing import StandardScaler\n",
    "from sklearn.preprocessing import OneHotEncoder\n",
    "from sklearn.model_selection import train_test_split\n",
    "from sklearn.compose import ColumnTransformer\n",
    "from sklearn.neighbors import LocalOutlierFactor\n",
    "from sklearn.metrics import mean_squared_error  "
   ]
  },
  {
   "cell_type": "code",
   "execution_count": 3,
   "id": "81679f87",
   "metadata": {},
   "outputs": [],
   "source": [
    "df = pd.read_csv('census.csv')"
   ]
  },
  {
   "cell_type": "code",
   "execution_count": 4,
   "id": "021bb354",
   "metadata": {},
   "outputs": [
    {
     "data": {
      "text/plain": [
       "(199523, 42)"
      ]
     },
     "execution_count": 4,
     "metadata": {},
     "output_type": "execute_result"
    }
   ],
   "source": [
    "df.shape"
   ]
  },
  {
   "cell_type": "markdown",
   "id": "c973761c",
   "metadata": {},
   "source": [
    "## Preprocessy"
   ]
  },
  {
   "cell_type": "code",
   "execution_count": 5,
   "id": "c331b289",
   "metadata": {},
   "outputs": [],
   "source": [
    "def test_preprocessy_pipeline(random_state):\n",
    "    cat_cols = ['F2','F3','F4','F5','F7','F8','F9','F10','F11','F12','F13','F14','F15','F16','F20','F21','F22','F23','F24','F26','F27','F28','F29','F30','F31','F32','F33','F34','F35','F36','F37','F38','F39','F40','F41']\n",
    "    cont_cols = ['F1','F6','F17','F18','F19','F25']\n",
    "    params = {\n",
    "        'target_label':\"F42\",\n",
    "        'cat_cols':cat_cols.copy(),\n",
    "        'test_size':0.2,\n",
    "        'remove_outliers': False,\n",
    "        'test_size':0.1,\n",
    "        'shuffle':True,\n",
    "        'random_state':random_state,\n",
    "        'n_splits':2\n",
    "    }\n",
    "    p = StandardPipeline(train_df_path=\"census.csv\", params=params)\n",
    "    res = p.process()\n",
    "    X_train = params['X_train'].drop(columns=cat_cols)\n",
    "    X_test = params['X_test'].drop(columns=cat_cols)\n",
    "    y_train = params['y_train']\n",
    "    y_test = params['y_test']\n",
    "    clf = DecisionTreeClassifier()\n",
    "    clf = clf.fit(X_train,y_train)\n",
    "    y_pred = clf.predict(X_test)\n",
    "    return metrics.accuracy_score(y_test, y_pred)"
   ]
  },
  {
   "cell_type": "code",
   "execution_count": 6,
   "id": "c14bbc73",
   "metadata": {},
   "outputs": [
    {
     "name": "stdout",
     "output_type": "stream",
     "text": [
      "\n",
      "Pipeline Class: StandardPipeline\n",
      "\n",
      "+-----------------------+---------------------------------------------------------------------------------------+\n",
      "| Pipeline Property     | Value                                                                                 |\n",
      "+-----------------------+---------------------------------------------------------------------------------------+\n",
      "| Train Dataframe Path  | ../datasets/classification/census.csv                                                 |\n",
      "| Test Dataframe Path   | None                                                                                  |\n",
      "| Config File Path      | None                                                                                  |\n",
      "| Pipeline Stages       | Read file, Parse dataset, Execute, Encode, Handle outliers, Execute, Train test split |\n",
      "| Total Pipeline Stages | 7                                                                                     |\n",
      "| Total Params          | 9                                                                                     |\n",
      "+-----------------------+---------------------------------------------------------------------------------------+\n",
      "Processing...\n",
      "==> Completed Stage: Read file\n",
      "==> Completed Stage: Parse dataset\n",
      "==> Completed Stage: Execute\n",
      "==> Completed Stage: Encode\n",
      "==> Completed Stage: Handle outliers\n"
     ]
    },
    {
     "name": "stderr",
     "output_type": "stream",
     "text": [
      "/usr/local/lib/python3.8/site-packages/preprocessy/outliers/_handleoutlier.py:116: UserWarning: remove_outliers and replace both are False, thus no operation will be performed on dataframe, please specify either of the argument as True \n",
      "  warnings.warn(\n"
     ]
    },
    {
     "name": "stdout",
     "output_type": "stream",
     "text": [
      "==> Completed Stage: Execute\n",
      "==> Completed Stage: Train test split\n",
      "Pipeline Stages |████████████████████████████████████████| 7/7 [100%] in 4.9s (1.42/s)\n",
      "\n",
      "Pipeline Completed Successfully\n",
      "\n",
      "\n",
      "Pipeline Class: StandardPipeline\n",
      "\n",
      "+-----------------------+---------------------------------------------------------------------------------------+\n",
      "| Pipeline Property     | Value                                                                                 |\n",
      "+-----------------------+---------------------------------------------------------------------------------------+\n",
      "| Train Dataframe Path  | ../datasets/classification/census.csv                                                 |\n",
      "| Test Dataframe Path   | None                                                                                  |\n",
      "| Config File Path      | None                                                                                  |\n",
      "| Pipeline Stages       | Read file, Parse dataset, Execute, Encode, Handle outliers, Execute, Train test split |\n",
      "| Total Pipeline Stages | 7                                                                                     |\n",
      "| Total Params          | 9                                                                                     |\n",
      "+-----------------------+---------------------------------------------------------------------------------------+\n",
      "Processing...\n",
      "==> Completed Stage: Read file\n",
      "==> Completed Stage: Parse dataset\n",
      "==> Completed Stage: Execute\n",
      "==> Completed Stage: Encode\n",
      "==> Completed Stage: Handle outliers\n"
     ]
    },
    {
     "name": "stderr",
     "output_type": "stream",
     "text": [
      "/usr/local/lib/python3.8/site-packages/preprocessy/outliers/_handleoutlier.py:116: UserWarning: remove_outliers and replace both are False, thus no operation will be performed on dataframe, please specify either of the argument as True \n",
      "  warnings.warn(\n"
     ]
    },
    {
     "name": "stdout",
     "output_type": "stream",
     "text": [
      "==> Completed Stage: Execute\n",
      "==> Completed Stage: Train test split\n",
      "Pipeline Stages |████████████████████████████████████████| 7/7 [100%] in 5.1s (1.38/s)\n",
      "\n",
      "Pipeline Completed Successfully\n",
      "\n",
      "\n",
      "Pipeline Class: StandardPipeline\n",
      "\n",
      "+-----------------------+---------------------------------------------------------------------------------------+\n",
      "| Pipeline Property     | Value                                                                                 |\n",
      "+-----------------------+---------------------------------------------------------------------------------------+\n",
      "| Train Dataframe Path  | ../datasets/classification/census.csv                                                 |\n",
      "| Test Dataframe Path   | None                                                                                  |\n",
      "| Config File Path      | None                                                                                  |\n",
      "| Pipeline Stages       | Read file, Parse dataset, Execute, Encode, Handle outliers, Execute, Train test split |\n",
      "| Total Pipeline Stages | 7                                                                                     |\n",
      "| Total Params          | 9                                                                                     |\n",
      "+-----------------------+---------------------------------------------------------------------------------------+\n",
      "Processing...\n",
      "==> Completed Stage: Read file\n",
      "==> Completed Stage: Parse dataset\n",
      "==> Completed Stage: Execute\n",
      "==> Completed Stage: Encode\n",
      "==> Completed Stage: Handle outliers\n"
     ]
    },
    {
     "name": "stderr",
     "output_type": "stream",
     "text": [
      "/usr/local/lib/python3.8/site-packages/preprocessy/outliers/_handleoutlier.py:116: UserWarning: remove_outliers and replace both are False, thus no operation will be performed on dataframe, please specify either of the argument as True \n",
      "  warnings.warn(\n"
     ]
    },
    {
     "name": "stdout",
     "output_type": "stream",
     "text": [
      "==> Completed Stage: Execute\n",
      "==> Completed Stage: Train test split\n",
      "Pipeline Stages |████████████████████████████████████████| 7/7 [100%] in 5.0s (1.41/s)\n",
      "\n",
      "Pipeline Completed Successfully\n",
      "\n",
      "\n",
      "Pipeline Class: StandardPipeline\n",
      "\n",
      "+-----------------------+---------------------------------------------------------------------------------------+\n",
      "| Pipeline Property     | Value                                                                                 |\n",
      "+-----------------------+---------------------------------------------------------------------------------------+\n",
      "| Train Dataframe Path  | ../datasets/classification/census.csv                                                 |\n",
      "| Test Dataframe Path   | None                                                                                  |\n",
      "| Config File Path      | None                                                                                  |\n",
      "| Pipeline Stages       | Read file, Parse dataset, Execute, Encode, Handle outliers, Execute, Train test split |\n",
      "| Total Pipeline Stages | 7                                                                                     |\n",
      "| Total Params          | 9                                                                                     |\n",
      "+-----------------------+---------------------------------------------------------------------------------------+\n",
      "Processing...\n",
      "==> Completed Stage: Read file\n",
      "==> Completed Stage: Parse dataset\n",
      "==> Completed Stage: Execute\n",
      "==> Completed Stage: Encode\n",
      "==> Completed Stage: Handle outliers\n"
     ]
    },
    {
     "name": "stderr",
     "output_type": "stream",
     "text": [
      "/usr/local/lib/python3.8/site-packages/preprocessy/outliers/_handleoutlier.py:116: UserWarning: remove_outliers and replace both are False, thus no operation will be performed on dataframe, please specify either of the argument as True \n",
      "  warnings.warn(\n"
     ]
    },
    {
     "name": "stdout",
     "output_type": "stream",
     "text": [
      "==> Completed Stage: Execute\n",
      "==> Completed Stage: Train test split\n",
      "Pipeline Stages |████████████████████████████████████████| 7/7 [100%] in 5.2s (1.34/s)\n",
      "\n",
      "Pipeline Completed Successfully\n",
      "\n",
      "\n",
      "Pipeline Class: StandardPipeline\n",
      "\n",
      "+-----------------------+---------------------------------------------------------------------------------------+\n",
      "| Pipeline Property     | Value                                                                                 |\n",
      "+-----------------------+---------------------------------------------------------------------------------------+\n",
      "| Train Dataframe Path  | ../datasets/classification/census.csv                                                 |\n",
      "| Test Dataframe Path   | None                                                                                  |\n",
      "| Config File Path      | None                                                                                  |\n",
      "| Pipeline Stages       | Read file, Parse dataset, Execute, Encode, Handle outliers, Execute, Train test split |\n",
      "| Total Pipeline Stages | 7                                                                                     |\n",
      "| Total Params          | 9                                                                                     |\n",
      "+-----------------------+---------------------------------------------------------------------------------------+\n",
      "Processing...\n",
      "==> Completed Stage: Read file\n",
      "==> Completed Stage: Parse dataset\n",
      "==> Completed Stage: Execute\n",
      "==> Completed Stage: Encode\n",
      "==> Completed Stage: Handle outliers\n"
     ]
    },
    {
     "name": "stderr",
     "output_type": "stream",
     "text": [
      "/usr/local/lib/python3.8/site-packages/preprocessy/outliers/_handleoutlier.py:116: UserWarning: remove_outliers and replace both are False, thus no operation will be performed on dataframe, please specify either of the argument as True \n",
      "  warnings.warn(\n"
     ]
    },
    {
     "name": "stdout",
     "output_type": "stream",
     "text": [
      "==> Completed Stage: Execute\n",
      "==> Completed Stage: Train test split\n",
      "Pipeline Stages |████████████████████████████████████████| 7/7 [100%] in 5.2s (1.35/s)\n",
      "\n",
      "Pipeline Completed Successfully\n",
      "\n",
      "\n",
      "Pipeline Class: StandardPipeline\n",
      "\n",
      "+-----------------------+---------------------------------------------------------------------------------------+\n",
      "| Pipeline Property     | Value                                                                                 |\n",
      "+-----------------------+---------------------------------------------------------------------------------------+\n",
      "| Train Dataframe Path  | ../datasets/classification/census.csv                                                 |\n",
      "| Test Dataframe Path   | None                                                                                  |\n",
      "| Config File Path      | None                                                                                  |\n",
      "| Pipeline Stages       | Read file, Parse dataset, Execute, Encode, Handle outliers, Execute, Train test split |\n",
      "| Total Pipeline Stages | 7                                                                                     |\n",
      "| Total Params          | 9                                                                                     |\n",
      "+-----------------------+---------------------------------------------------------------------------------------+\n",
      "Processing...\n",
      "==> Completed Stage: Read file\n",
      "==> Completed Stage: Parse dataset\n",
      "==> Completed Stage: Execute\n",
      "==> Completed Stage: Encode\n",
      "==> Completed Stage: Handle outliers\n"
     ]
    },
    {
     "name": "stderr",
     "output_type": "stream",
     "text": [
      "/usr/local/lib/python3.8/site-packages/preprocessy/outliers/_handleoutlier.py:116: UserWarning: remove_outliers and replace both are False, thus no operation will be performed on dataframe, please specify either of the argument as True \n",
      "  warnings.warn(\n"
     ]
    },
    {
     "name": "stdout",
     "output_type": "stream",
     "text": [
      "==> Completed Stage: Execute\n",
      "==> Completed Stage: Train test split\n",
      "Pipeline Stages |████████████████████████████████████████| 7/7 [100%] in 5.0s (1.40/s)\n",
      "\n",
      "Pipeline Completed Successfully\n",
      "\n",
      "\n",
      "Pipeline Class: StandardPipeline\n",
      "\n",
      "+-----------------------+---------------------------------------------------------------------------------------+\n",
      "| Pipeline Property     | Value                                                                                 |\n",
      "+-----------------------+---------------------------------------------------------------------------------------+\n",
      "| Train Dataframe Path  | ../datasets/classification/census.csv                                                 |\n",
      "| Test Dataframe Path   | None                                                                                  |\n",
      "| Config File Path      | None                                                                                  |\n",
      "| Pipeline Stages       | Read file, Parse dataset, Execute, Encode, Handle outliers, Execute, Train test split |\n",
      "| Total Pipeline Stages | 7                                                                                     |\n",
      "| Total Params          | 9                                                                                     |\n",
      "+-----------------------+---------------------------------------------------------------------------------------+\n",
      "Processing...\n",
      "==> Completed Stage: Read file\n",
      "==> Completed Stage: Parse dataset\n",
      "==> Completed Stage: Execute\n",
      "==> Completed Stage: Encode\n",
      "==> Completed Stage: Handle outliers\n"
     ]
    },
    {
     "name": "stderr",
     "output_type": "stream",
     "text": [
      "/usr/local/lib/python3.8/site-packages/preprocessy/outliers/_handleoutlier.py:116: UserWarning: remove_outliers and replace both are False, thus no operation will be performed on dataframe, please specify either of the argument as True \n",
      "  warnings.warn(\n"
     ]
    },
    {
     "name": "stdout",
     "output_type": "stream",
     "text": [
      "==> Completed Stage: Execute\n",
      "==> Completed Stage: Train test split\n",
      "Pipeline Stages |████████████████████████████████████████| 7/7 [100%] in 5.0s (1.40/s)\n",
      "\n",
      "Pipeline Completed Successfully\n",
      "\n",
      "\n",
      "Pipeline Class: StandardPipeline\n",
      "\n",
      "+-----------------------+---------------------------------------------------------------------------------------+\n",
      "| Pipeline Property     | Value                                                                                 |\n",
      "+-----------------------+---------------------------------------------------------------------------------------+\n",
      "| Train Dataframe Path  | ../datasets/classification/census.csv                                                 |\n",
      "| Test Dataframe Path   | None                                                                                  |\n",
      "| Config File Path      | None                                                                                  |\n",
      "| Pipeline Stages       | Read file, Parse dataset, Execute, Encode, Handle outliers, Execute, Train test split |\n",
      "| Total Pipeline Stages | 7                                                                                     |\n",
      "| Total Params          | 9                                                                                     |\n",
      "+-----------------------+---------------------------------------------------------------------------------------+\n",
      "Processing...\n",
      "==> Completed Stage: Read file\n",
      "==> Completed Stage: Parse dataset\n",
      "==> Completed Stage: Execute\n",
      "==> Completed Stage: Encode\n",
      "==> Completed Stage: Handle outliers\n"
     ]
    },
    {
     "name": "stderr",
     "output_type": "stream",
     "text": [
      "/usr/local/lib/python3.8/site-packages/preprocessy/outliers/_handleoutlier.py:116: UserWarning: remove_outliers and replace both are False, thus no operation will be performed on dataframe, please specify either of the argument as True \n",
      "  warnings.warn(\n"
     ]
    },
    {
     "name": "stdout",
     "output_type": "stream",
     "text": [
      "==> Completed Stage: Execute\n",
      "==> Completed Stage: Train test split\n",
      "Pipeline Stages |████████████████████████████████████████| 7/7 [100%] in 5.0s (1.40/s)\n",
      "\n",
      "Pipeline Completed Successfully\n",
      "\n",
      "\n",
      "Pipeline Class: StandardPipeline\n",
      "\n",
      "+-----------------------+---------------------------------------------------------------------------------------+\n",
      "| Pipeline Property     | Value                                                                                 |\n",
      "+-----------------------+---------------------------------------------------------------------------------------+\n",
      "| Train Dataframe Path  | ../datasets/classification/census.csv                                                 |\n",
      "| Test Dataframe Path   | None                                                                                  |\n",
      "| Config File Path      | None                                                                                  |\n",
      "| Pipeline Stages       | Read file, Parse dataset, Execute, Encode, Handle outliers, Execute, Train test split |\n",
      "| Total Pipeline Stages | 7                                                                                     |\n",
      "| Total Params          | 9                                                                                     |\n",
      "+-----------------------+---------------------------------------------------------------------------------------+\n",
      "Processing...\n",
      "==> Completed Stage: Read file\n",
      "==> Completed Stage: Parse dataset\n",
      "==> Completed Stage: Execute\n",
      "==> Completed Stage: Encode\n",
      "==> Completed Stage: Handle outliers\n"
     ]
    },
    {
     "name": "stderr",
     "output_type": "stream",
     "text": [
      "/usr/local/lib/python3.8/site-packages/preprocessy/outliers/_handleoutlier.py:116: UserWarning: remove_outliers and replace both are False, thus no operation will be performed on dataframe, please specify either of the argument as True \n",
      "  warnings.warn(\n"
     ]
    },
    {
     "name": "stdout",
     "output_type": "stream",
     "text": [
      "==> Completed Stage: Execute\n",
      "==> Completed Stage: Train test split\n",
      "Pipeline Stages |████████████████████████████████████████| 7/7 [100%] in 5.0s (1.40/s)\n",
      "\n",
      "Pipeline Completed Successfully\n",
      "\n",
      "\n",
      "Pipeline Class: StandardPipeline\n",
      "\n",
      "+-----------------------+---------------------------------------------------------------------------------------+\n",
      "| Pipeline Property     | Value                                                                                 |\n",
      "+-----------------------+---------------------------------------------------------------------------------------+\n",
      "| Train Dataframe Path  | ../datasets/classification/census.csv                                                 |\n",
      "| Test Dataframe Path   | None                                                                                  |\n",
      "| Config File Path      | None                                                                                  |\n",
      "| Pipeline Stages       | Read file, Parse dataset, Execute, Encode, Handle outliers, Execute, Train test split |\n",
      "| Total Pipeline Stages | 7                                                                                     |\n",
      "| Total Params          | 9                                                                                     |\n",
      "+-----------------------+---------------------------------------------------------------------------------------+\n",
      "Processing...\n",
      "==> Completed Stage: Read file\n",
      "==> Completed Stage: Parse dataset\n",
      "==> Completed Stage: Execute\n",
      "==> Completed Stage: Encode\n",
      "==> Completed Stage: Handle outliers\n"
     ]
    },
    {
     "name": "stderr",
     "output_type": "stream",
     "text": [
      "/usr/local/lib/python3.8/site-packages/preprocessy/outliers/_handleoutlier.py:116: UserWarning: remove_outliers and replace both are False, thus no operation will be performed on dataframe, please specify either of the argument as True \n",
      "  warnings.warn(\n"
     ]
    },
    {
     "name": "stdout",
     "output_type": "stream",
     "text": [
      "==> Completed Stage: Execute\n",
      "==> Completed Stage: Train test split\n",
      "Pipeline Stages |████████████████████████████████████████| 7/7 [100%] in 5.0s (1.40/s)\n",
      "\n",
      "Pipeline Completed Successfully\n",
      "\n",
      "\n",
      "Pipeline Class: StandardPipeline\n",
      "\n",
      "+-----------------------+---------------------------------------------------------------------------------------+\n",
      "| Pipeline Property     | Value                                                                                 |\n",
      "+-----------------------+---------------------------------------------------------------------------------------+\n",
      "| Train Dataframe Path  | ../datasets/classification/census.csv                                                 |\n",
      "| Test Dataframe Path   | None                                                                                  |\n",
      "| Config File Path      | None                                                                                  |\n",
      "| Pipeline Stages       | Read file, Parse dataset, Execute, Encode, Handle outliers, Execute, Train test split |\n",
      "| Total Pipeline Stages | 7                                                                                     |\n",
      "| Total Params          | 9                                                                                     |\n",
      "+-----------------------+---------------------------------------------------------------------------------------+\n",
      "Processing...\n",
      "==> Completed Stage: Read file\n",
      "==> Completed Stage: Parse dataset\n",
      "==> Completed Stage: Execute\n",
      "==> Completed Stage: Encode\n",
      "==> Completed Stage: Handle outliers\n"
     ]
    },
    {
     "name": "stderr",
     "output_type": "stream",
     "text": [
      "/usr/local/lib/python3.8/site-packages/preprocessy/outliers/_handleoutlier.py:116: UserWarning: remove_outliers and replace both are False, thus no operation will be performed on dataframe, please specify either of the argument as True \n",
      "  warnings.warn(\n"
     ]
    },
    {
     "name": "stdout",
     "output_type": "stream",
     "text": [
      "==> Completed Stage: Execute\n",
      "==> Completed Stage: Train test split\n",
      "Pipeline Stages |████████████████████████████████████████| 7/7 [100%] in 5.0s (1.41/s)\n",
      "\n",
      "Pipeline Completed Successfully\n",
      "\n",
      "\n",
      "Pipeline Class: StandardPipeline\n",
      "\n",
      "+-----------------------+---------------------------------------------------------------------------------------+\n",
      "| Pipeline Property     | Value                                                                                 |\n",
      "+-----------------------+---------------------------------------------------------------------------------------+\n",
      "| Train Dataframe Path  | ../datasets/classification/census.csv                                                 |\n",
      "| Test Dataframe Path   | None                                                                                  |\n",
      "| Config File Path      | None                                                                                  |\n",
      "| Pipeline Stages       | Read file, Parse dataset, Execute, Encode, Handle outliers, Execute, Train test split |\n",
      "| Total Pipeline Stages | 7                                                                                     |\n",
      "| Total Params          | 9                                                                                     |\n",
      "+-----------------------+---------------------------------------------------------------------------------------+\n",
      "Processing...\n",
      "==> Completed Stage: Read file\n",
      "==> Completed Stage: Parse dataset\n",
      "==> Completed Stage: Execute\n",
      "==> Completed Stage: Encode\n",
      "==> Completed Stage: Handle outliers\n"
     ]
    },
    {
     "name": "stderr",
     "output_type": "stream",
     "text": [
      "/usr/local/lib/python3.8/site-packages/preprocessy/outliers/_handleoutlier.py:116: UserWarning: remove_outliers and replace both are False, thus no operation will be performed on dataframe, please specify either of the argument as True \n",
      "  warnings.warn(\n"
     ]
    },
    {
     "name": "stdout",
     "output_type": "stream",
     "text": [
      "==> Completed Stage: Execute\n",
      "==> Completed Stage: Train test split\n",
      "Pipeline Stages |████████████████████████████████████████| 7/7 [100%] in 4.4s (1.60/s)\n",
      "\n",
      "Pipeline Completed Successfully\n",
      "\n",
      "\n",
      "Pipeline Class: StandardPipeline\n",
      "\n",
      "+-----------------------+---------------------------------------------------------------------------------------+\n",
      "| Pipeline Property     | Value                                                                                 |\n",
      "+-----------------------+---------------------------------------------------------------------------------------+\n",
      "| Train Dataframe Path  | ../datasets/classification/census.csv                                                 |\n",
      "| Test Dataframe Path   | None                                                                                  |\n",
      "| Config File Path      | None                                                                                  |\n",
      "| Pipeline Stages       | Read file, Parse dataset, Execute, Encode, Handle outliers, Execute, Train test split |\n",
      "| Total Pipeline Stages | 7                                                                                     |\n",
      "| Total Params          | 9                                                                                     |\n",
      "+-----------------------+---------------------------------------------------------------------------------------+\n",
      "Processing...\n",
      "==> Completed Stage: Read file\n",
      "==> Completed Stage: Parse dataset\n",
      "==> Completed Stage: Execute\n",
      "==> Completed Stage: Encode\n",
      "==> Completed Stage: Handle outliers\n"
     ]
    },
    {
     "name": "stderr",
     "output_type": "stream",
     "text": [
      "/usr/local/lib/python3.8/site-packages/preprocessy/outliers/_handleoutlier.py:116: UserWarning: remove_outliers and replace both are False, thus no operation will be performed on dataframe, please specify either of the argument as True \n",
      "  warnings.warn(\n"
     ]
    },
    {
     "name": "stdout",
     "output_type": "stream",
     "text": [
      "==> Completed Stage: Execute\n",
      "==> Completed Stage: Train test split\n",
      "Pipeline Stages |████████████████████████████████████████| 7/7 [100%] in 4.4s (1.58/s)\n",
      "\n",
      "Pipeline Completed Successfully\n",
      "\n",
      "\n",
      "Pipeline Class: StandardPipeline\n",
      "\n",
      "+-----------------------+---------------------------------------------------------------------------------------+\n",
      "| Pipeline Property     | Value                                                                                 |\n",
      "+-----------------------+---------------------------------------------------------------------------------------+\n",
      "| Train Dataframe Path  | ../datasets/classification/census.csv                                                 |\n",
      "| Test Dataframe Path   | None                                                                                  |\n",
      "| Config File Path      | None                                                                                  |\n",
      "| Pipeline Stages       | Read file, Parse dataset, Execute, Encode, Handle outliers, Execute, Train test split |\n",
      "| Total Pipeline Stages | 7                                                                                     |\n",
      "| Total Params          | 9                                                                                     |\n",
      "+-----------------------+---------------------------------------------------------------------------------------+\n",
      "Processing...\n",
      "==> Completed Stage: Read file\n",
      "==> Completed Stage: Parse dataset\n",
      "==> Completed Stage: Execute\n",
      "==> Completed Stage: Encode\n",
      "==> Completed Stage: Handle outliers\n"
     ]
    },
    {
     "name": "stderr",
     "output_type": "stream",
     "text": [
      "/usr/local/lib/python3.8/site-packages/preprocessy/outliers/_handleoutlier.py:116: UserWarning: remove_outliers and replace both are False, thus no operation will be performed on dataframe, please specify either of the argument as True \n",
      "  warnings.warn(\n"
     ]
    },
    {
     "name": "stdout",
     "output_type": "stream",
     "text": [
      "==> Completed Stage: Execute\n",
      "==> Completed Stage: Train test split\n",
      "Pipeline Stages |████████████████████████████████████████| 7/7 [100%] in 5.0s (1.40/s)\n",
      "\n",
      "Pipeline Completed Successfully\n",
      "\n",
      "\n",
      "Pipeline Class: StandardPipeline\n",
      "\n",
      "+-----------------------+---------------------------------------------------------------------------------------+\n",
      "| Pipeline Property     | Value                                                                                 |\n",
      "+-----------------------+---------------------------------------------------------------------------------------+\n",
      "| Train Dataframe Path  | ../datasets/classification/census.csv                                                 |\n",
      "| Test Dataframe Path   | None                                                                                  |\n",
      "| Config File Path      | None                                                                                  |\n",
      "| Pipeline Stages       | Read file, Parse dataset, Execute, Encode, Handle outliers, Execute, Train test split |\n",
      "| Total Pipeline Stages | 7                                                                                     |\n",
      "| Total Params          | 9                                                                                     |\n",
      "+-----------------------+---------------------------------------------------------------------------------------+\n",
      "Processing...\n",
      "==> Completed Stage: Read file\n",
      "==> Completed Stage: Parse dataset\n",
      "==> Completed Stage: Execute\n",
      "==> Completed Stage: Encode\n",
      "==> Completed Stage: Handle outliers\n"
     ]
    },
    {
     "name": "stderr",
     "output_type": "stream",
     "text": [
      "/usr/local/lib/python3.8/site-packages/preprocessy/outliers/_handleoutlier.py:116: UserWarning: remove_outliers and replace both are False, thus no operation will be performed on dataframe, please specify either of the argument as True \n",
      "  warnings.warn(\n"
     ]
    },
    {
     "name": "stdout",
     "output_type": "stream",
     "text": [
      "==> Completed Stage: Execute\n",
      "==> Completed Stage: Train test split\n",
      "Pipeline Stages |████████████████████████████████████████| 7/7 [100%] in 5.0s (1.41/s)\n",
      "\n",
      "Pipeline Completed Successfully\n",
      "\n",
      "\n",
      "Pipeline Class: StandardPipeline\n",
      "\n",
      "+-----------------------+---------------------------------------------------------------------------------------+\n",
      "| Pipeline Property     | Value                                                                                 |\n",
      "+-----------------------+---------------------------------------------------------------------------------------+\n",
      "| Train Dataframe Path  | ../datasets/classification/census.csv                                                 |\n",
      "| Test Dataframe Path   | None                                                                                  |\n",
      "| Config File Path      | None                                                                                  |\n",
      "| Pipeline Stages       | Read file, Parse dataset, Execute, Encode, Handle outliers, Execute, Train test split |\n",
      "| Total Pipeline Stages | 7                                                                                     |\n",
      "| Total Params          | 9                                                                                     |\n",
      "+-----------------------+---------------------------------------------------------------------------------------+\n",
      "Processing...\n",
      "==> Completed Stage: Read file\n",
      "==> Completed Stage: Parse dataset\n",
      "==> Completed Stage: Execute\n",
      "==> Completed Stage: Encode\n",
      "==> Completed Stage: Handle outliers\n"
     ]
    },
    {
     "name": "stderr",
     "output_type": "stream",
     "text": [
      "/usr/local/lib/python3.8/site-packages/preprocessy/outliers/_handleoutlier.py:116: UserWarning: remove_outliers and replace both are False, thus no operation will be performed on dataframe, please specify either of the argument as True \n",
      "  warnings.warn(\n"
     ]
    },
    {
     "name": "stdout",
     "output_type": "stream",
     "text": [
      "==> Completed Stage: Execute\n",
      "==> Completed Stage: Train test split\n",
      "Pipeline Stages |████████████████████████████████████████| 7/7 [100%] in 5.0s (1.41/s)\n",
      "\n",
      "Pipeline Completed Successfully\n",
      "\n",
      "\n",
      "Pipeline Class: StandardPipeline\n",
      "\n",
      "+-----------------------+---------------------------------------------------------------------------------------+\n",
      "| Pipeline Property     | Value                                                                                 |\n",
      "+-----------------------+---------------------------------------------------------------------------------------+\n",
      "| Train Dataframe Path  | ../datasets/classification/census.csv                                                 |\n",
      "| Test Dataframe Path   | None                                                                                  |\n",
      "| Config File Path      | None                                                                                  |\n",
      "| Pipeline Stages       | Read file, Parse dataset, Execute, Encode, Handle outliers, Execute, Train test split |\n",
      "| Total Pipeline Stages | 7                                                                                     |\n",
      "| Total Params          | 9                                                                                     |\n",
      "+-----------------------+---------------------------------------------------------------------------------------+\n",
      "Processing...\n",
      "==> Completed Stage: Read file\n",
      "==> Completed Stage: Parse dataset\n",
      "==> Completed Stage: Execute\n",
      "==> Completed Stage: Encode\n",
      "==> Completed Stage: Handle outliers\n"
     ]
    },
    {
     "name": "stderr",
     "output_type": "stream",
     "text": [
      "/usr/local/lib/python3.8/site-packages/preprocessy/outliers/_handleoutlier.py:116: UserWarning: remove_outliers and replace both are False, thus no operation will be performed on dataframe, please specify either of the argument as True \n",
      "  warnings.warn(\n"
     ]
    },
    {
     "name": "stdout",
     "output_type": "stream",
     "text": [
      "==> Completed Stage: Execute\n",
      "==> Completed Stage: Train test split\n",
      "Pipeline Stages |████████████████████████████████████████| 7/7 [100%] in 5.0s (1.41/s)\n",
      "\n",
      "Pipeline Completed Successfully\n",
      "\n",
      "\n",
      "Pipeline Class: StandardPipeline\n",
      "\n",
      "+-----------------------+---------------------------------------------------------------------------------------+\n",
      "| Pipeline Property     | Value                                                                                 |\n",
      "+-----------------------+---------------------------------------------------------------------------------------+\n",
      "| Train Dataframe Path  | ../datasets/classification/census.csv                                                 |\n",
      "| Test Dataframe Path   | None                                                                                  |\n",
      "| Config File Path      | None                                                                                  |\n",
      "| Pipeline Stages       | Read file, Parse dataset, Execute, Encode, Handle outliers, Execute, Train test split |\n",
      "| Total Pipeline Stages | 7                                                                                     |\n",
      "| Total Params          | 9                                                                                     |\n",
      "+-----------------------+---------------------------------------------------------------------------------------+\n",
      "Processing...\n",
      "==> Completed Stage: Read file\n",
      "==> Completed Stage: Parse dataset\n",
      "==> Completed Stage: Execute\n",
      "==> Completed Stage: Encode\n",
      "==> Completed Stage: Handle outliers\n"
     ]
    },
    {
     "name": "stderr",
     "output_type": "stream",
     "text": [
      "/usr/local/lib/python3.8/site-packages/preprocessy/outliers/_handleoutlier.py:116: UserWarning: remove_outliers and replace both are False, thus no operation will be performed on dataframe, please specify either of the argument as True \n",
      "  warnings.warn(\n"
     ]
    },
    {
     "name": "stdout",
     "output_type": "stream",
     "text": [
      "==> Completed Stage: Execute\n",
      "==> Completed Stage: Train test split\n",
      "Pipeline Stages |████████████████████████████████████████| 7/7 [100%] in 4.4s (1.59/s)\n",
      "\n",
      "Pipeline Completed Successfully\n",
      "\n",
      "\n",
      "Pipeline Class: StandardPipeline\n",
      "\n",
      "+-----------------------+---------------------------------------------------------------------------------------+\n",
      "| Pipeline Property     | Value                                                                                 |\n",
      "+-----------------------+---------------------------------------------------------------------------------------+\n",
      "| Train Dataframe Path  | ../datasets/classification/census.csv                                                 |\n",
      "| Test Dataframe Path   | None                                                                                  |\n",
      "| Config File Path      | None                                                                                  |\n",
      "| Pipeline Stages       | Read file, Parse dataset, Execute, Encode, Handle outliers, Execute, Train test split |\n",
      "| Total Pipeline Stages | 7                                                                                     |\n",
      "| Total Params          | 9                                                                                     |\n",
      "+-----------------------+---------------------------------------------------------------------------------------+\n",
      "Processing...\n",
      "==> Completed Stage: Read file\n",
      "==> Completed Stage: Parse dataset\n",
      "==> Completed Stage: Execute\n",
      "==> Completed Stage: Encode\n",
      "==> Completed Stage: Handle outliers\n"
     ]
    },
    {
     "name": "stderr",
     "output_type": "stream",
     "text": [
      "/usr/local/lib/python3.8/site-packages/preprocessy/outliers/_handleoutlier.py:116: UserWarning: remove_outliers and replace both are False, thus no operation will be performed on dataframe, please specify either of the argument as True \n",
      "  warnings.warn(\n"
     ]
    },
    {
     "name": "stdout",
     "output_type": "stream",
     "text": [
      "==> Completed Stage: Execute\n",
      "==> Completed Stage: Train test split\n",
      "Pipeline Stages |████████████████████████████████████████| 7/7 [100%] in 5.0s (1.40/s)\n",
      "\n",
      "Pipeline Completed Successfully\n",
      "\n",
      "\n",
      "Pipeline Class: StandardPipeline\n",
      "\n",
      "+-----------------------+---------------------------------------------------------------------------------------+\n",
      "| Pipeline Property     | Value                                                                                 |\n",
      "+-----------------------+---------------------------------------------------------------------------------------+\n",
      "| Train Dataframe Path  | ../datasets/classification/census.csv                                                 |\n",
      "| Test Dataframe Path   | None                                                                                  |\n",
      "| Config File Path      | None                                                                                  |\n",
      "| Pipeline Stages       | Read file, Parse dataset, Execute, Encode, Handle outliers, Execute, Train test split |\n",
      "| Total Pipeline Stages | 7                                                                                     |\n",
      "| Total Params          | 9                                                                                     |\n",
      "+-----------------------+---------------------------------------------------------------------------------------+\n",
      "Processing...\n",
      "==> Completed Stage: Read file\n",
      "==> Completed Stage: Parse dataset\n",
      "==> Completed Stage: Execute\n",
      "==> Completed Stage: Encode\n",
      "==> Completed Stage: Handle outliers\n"
     ]
    },
    {
     "name": "stderr",
     "output_type": "stream",
     "text": [
      "/usr/local/lib/python3.8/site-packages/preprocessy/outliers/_handleoutlier.py:116: UserWarning: remove_outliers and replace both are False, thus no operation will be performed on dataframe, please specify either of the argument as True \n",
      "  warnings.warn(\n"
     ]
    },
    {
     "name": "stdout",
     "output_type": "stream",
     "text": [
      "==> Completed Stage: Execute\n",
      "==> Completed Stage: Train test split\n",
      "Pipeline Stages |████████████████████████████████████████| 7/7 [100%] in 5.0s (1.40/s)\n",
      "\n",
      "Pipeline Completed Successfully\n",
      "\n",
      "\n",
      "Pipeline Class: StandardPipeline\n",
      "\n",
      "+-----------------------+---------------------------------------------------------------------------------------+\n",
      "| Pipeline Property     | Value                                                                                 |\n",
      "+-----------------------+---------------------------------------------------------------------------------------+\n",
      "| Train Dataframe Path  | ../datasets/classification/census.csv                                                 |\n",
      "| Test Dataframe Path   | None                                                                                  |\n",
      "| Config File Path      | None                                                                                  |\n",
      "| Pipeline Stages       | Read file, Parse dataset, Execute, Encode, Handle outliers, Execute, Train test split |\n",
      "| Total Pipeline Stages | 7                                                                                     |\n",
      "| Total Params          | 9                                                                                     |\n",
      "+-----------------------+---------------------------------------------------------------------------------------+\n",
      "Processing...\n",
      "==> Completed Stage: Read file\n",
      "==> Completed Stage: Parse dataset\n",
      "==> Completed Stage: Execute\n",
      "==> Completed Stage: Encode\n",
      "==> Completed Stage: Handle outliers\n"
     ]
    },
    {
     "name": "stderr",
     "output_type": "stream",
     "text": [
      "/usr/local/lib/python3.8/site-packages/preprocessy/outliers/_handleoutlier.py:116: UserWarning: remove_outliers and replace both are False, thus no operation will be performed on dataframe, please specify either of the argument as True \n",
      "  warnings.warn(\n"
     ]
    },
    {
     "name": "stdout",
     "output_type": "stream",
     "text": [
      "==> Completed Stage: Execute\n",
      "==> Completed Stage: Train test split\n",
      "Pipeline Stages |████████████████████████████████████████| 7/7 [100%] in 5.0s (1.40/s)\n",
      "\n",
      "Pipeline Completed Successfully\n",
      "\n",
      "\n",
      "Pipeline Class: StandardPipeline\n",
      "\n",
      "+-----------------------+---------------------------------------------------------------------------------------+\n",
      "| Pipeline Property     | Value                                                                                 |\n",
      "+-----------------------+---------------------------------------------------------------------------------------+\n",
      "| Train Dataframe Path  | ../datasets/classification/census.csv                                                 |\n",
      "| Test Dataframe Path   | None                                                                                  |\n",
      "| Config File Path      | None                                                                                  |\n",
      "| Pipeline Stages       | Read file, Parse dataset, Execute, Encode, Handle outliers, Execute, Train test split |\n",
      "| Total Pipeline Stages | 7                                                                                     |\n",
      "| Total Params          | 9                                                                                     |\n",
      "+-----------------------+---------------------------------------------------------------------------------------+\n",
      "Processing...\n",
      "==> Completed Stage: Read file\n",
      "==> Completed Stage: Parse dataset\n",
      "==> Completed Stage: Execute\n",
      "==> Completed Stage: Encode\n",
      "==> Completed Stage: Handle outliers\n"
     ]
    },
    {
     "name": "stderr",
     "output_type": "stream",
     "text": [
      "/usr/local/lib/python3.8/site-packages/preprocessy/outliers/_handleoutlier.py:116: UserWarning: remove_outliers and replace both are False, thus no operation will be performed on dataframe, please specify either of the argument as True \n",
      "  warnings.warn(\n"
     ]
    },
    {
     "name": "stdout",
     "output_type": "stream",
     "text": [
      "==> Completed Stage: Execute\n",
      "==> Completed Stage: Train test split\n",
      "Pipeline Stages |████████████████████████████████████████| 7/7 [100%] in 5.0s (1.40/s)\n",
      "\n",
      "Pipeline Completed Successfully\n",
      "\n",
      "\n",
      "Pipeline Class: StandardPipeline\n",
      "\n",
      "+-----------------------+---------------------------------------------------------------------------------------+\n",
      "| Pipeline Property     | Value                                                                                 |\n",
      "+-----------------------+---------------------------------------------------------------------------------------+\n",
      "| Train Dataframe Path  | ../datasets/classification/census.csv                                                 |\n",
      "| Test Dataframe Path   | None                                                                                  |\n",
      "| Config File Path      | None                                                                                  |\n",
      "| Pipeline Stages       | Read file, Parse dataset, Execute, Encode, Handle outliers, Execute, Train test split |\n",
      "| Total Pipeline Stages | 7                                                                                     |\n",
      "| Total Params          | 9                                                                                     |\n",
      "+-----------------------+---------------------------------------------------------------------------------------+\n",
      "Processing...\n",
      "==> Completed Stage: Read file\n",
      "==> Completed Stage: Parse dataset\n",
      "==> Completed Stage: Execute\n",
      "==> Completed Stage: Encode\n",
      "==> Completed Stage: Handle outliers\n"
     ]
    },
    {
     "name": "stderr",
     "output_type": "stream",
     "text": [
      "/usr/local/lib/python3.8/site-packages/preprocessy/outliers/_handleoutlier.py:116: UserWarning: remove_outliers and replace both are False, thus no operation will be performed on dataframe, please specify either of the argument as True \n",
      "  warnings.warn(\n"
     ]
    },
    {
     "name": "stdout",
     "output_type": "stream",
     "text": [
      "==> Completed Stage: Execute\n",
      "==> Completed Stage: Train test split\n",
      "Pipeline Stages |████████████████████████████████████████| 7/7 [100%] in 5.0s (1.40/s)\n",
      "\n",
      "Pipeline Completed Successfully\n",
      "\n",
      "\n",
      "Pipeline Class: StandardPipeline\n",
      "\n",
      "+-----------------------+---------------------------------------------------------------------------------------+\n",
      "| Pipeline Property     | Value                                                                                 |\n",
      "+-----------------------+---------------------------------------------------------------------------------------+\n",
      "| Train Dataframe Path  | ../datasets/classification/census.csv                                                 |\n",
      "| Test Dataframe Path   | None                                                                                  |\n",
      "| Config File Path      | None                                                                                  |\n",
      "| Pipeline Stages       | Read file, Parse dataset, Execute, Encode, Handle outliers, Execute, Train test split |\n",
      "| Total Pipeline Stages | 7                                                                                     |\n",
      "| Total Params          | 9                                                                                     |\n",
      "+-----------------------+---------------------------------------------------------------------------------------+\n",
      "Processing...\n",
      "==> Completed Stage: Read file\n",
      "==> Completed Stage: Parse dataset\n",
      "==> Completed Stage: Execute\n",
      "==> Completed Stage: Encode\n",
      "==> Completed Stage: Handle outliers\n"
     ]
    },
    {
     "name": "stderr",
     "output_type": "stream",
     "text": [
      "/usr/local/lib/python3.8/site-packages/preprocessy/outliers/_handleoutlier.py:116: UserWarning: remove_outliers and replace both are False, thus no operation will be performed on dataframe, please specify either of the argument as True \n",
      "  warnings.warn(\n"
     ]
    },
    {
     "name": "stdout",
     "output_type": "stream",
     "text": [
      "==> Completed Stage: Execute\n",
      "==> Completed Stage: Train test split\n",
      "Pipeline Stages |████████████████████████████████████████| 7/7 [100%] in 4.4s (1.60/s)\n",
      "\n",
      "Pipeline Completed Successfully\n",
      "\n",
      "\n",
      "Pipeline Class: StandardPipeline\n",
      "\n",
      "+-----------------------+---------------------------------------------------------------------------------------+\n",
      "| Pipeline Property     | Value                                                                                 |\n",
      "+-----------------------+---------------------------------------------------------------------------------------+\n",
      "| Train Dataframe Path  | ../datasets/classification/census.csv                                                 |\n",
      "| Test Dataframe Path   | None                                                                                  |\n",
      "| Config File Path      | None                                                                                  |\n",
      "| Pipeline Stages       | Read file, Parse dataset, Execute, Encode, Handle outliers, Execute, Train test split |\n",
      "| Total Pipeline Stages | 7                                                                                     |\n",
      "| Total Params          | 9                                                                                     |\n",
      "+-----------------------+---------------------------------------------------------------------------------------+\n",
      "Processing...\n",
      "==> Completed Stage: Read file\n",
      "==> Completed Stage: Parse dataset\n",
      "==> Completed Stage: Execute\n",
      "==> Completed Stage: Encode\n",
      "==> Completed Stage: Handle outliers\n"
     ]
    },
    {
     "name": "stderr",
     "output_type": "stream",
     "text": [
      "/usr/local/lib/python3.8/site-packages/preprocessy/outliers/_handleoutlier.py:116: UserWarning: remove_outliers and replace both are False, thus no operation will be performed on dataframe, please specify either of the argument as True \n",
      "  warnings.warn(\n"
     ]
    },
    {
     "name": "stdout",
     "output_type": "stream",
     "text": [
      "==> Completed Stage: Execute\n",
      "==> Completed Stage: Train test split\n",
      "Pipeline Stages |████████████████████████████████████████| 7/7 [100%] in 4.4s (1.58/s)\n",
      "\n",
      "Pipeline Completed Successfully\n",
      "\n",
      "\n",
      "Pipeline Class: StandardPipeline\n",
      "\n",
      "+-----------------------+---------------------------------------------------------------------------------------+\n",
      "| Pipeline Property     | Value                                                                                 |\n",
      "+-----------------------+---------------------------------------------------------------------------------------+\n",
      "| Train Dataframe Path  | ../datasets/classification/census.csv                                                 |\n",
      "| Test Dataframe Path   | None                                                                                  |\n",
      "| Config File Path      | None                                                                                  |\n",
      "| Pipeline Stages       | Read file, Parse dataset, Execute, Encode, Handle outliers, Execute, Train test split |\n",
      "| Total Pipeline Stages | 7                                                                                     |\n",
      "| Total Params          | 9                                                                                     |\n",
      "+-----------------------+---------------------------------------------------------------------------------------+\n",
      "Processing...\n",
      "==> Completed Stage: Read file\n",
      "==> Completed Stage: Parse dataset\n",
      "==> Completed Stage: Execute\n",
      "==> Completed Stage: Encode\n",
      "==> Completed Stage: Handle outliers\n"
     ]
    },
    {
     "name": "stderr",
     "output_type": "stream",
     "text": [
      "/usr/local/lib/python3.8/site-packages/preprocessy/outliers/_handleoutlier.py:116: UserWarning: remove_outliers and replace both are False, thus no operation will be performed on dataframe, please specify either of the argument as True \n",
      "  warnings.warn(\n"
     ]
    },
    {
     "name": "stdout",
     "output_type": "stream",
     "text": [
      "==> Completed Stage: Execute\n",
      "==> Completed Stage: Train test split\n",
      "Pipeline Stages |████████████████████████████████████████| 7/7 [100%] in 4.4s (1.59/s)\n",
      "\n",
      "Pipeline Completed Successfully\n",
      "\n",
      "\n",
      "Pipeline Class: StandardPipeline\n",
      "\n",
      "+-----------------------+---------------------------------------------------------------------------------------+\n",
      "| Pipeline Property     | Value                                                                                 |\n",
      "+-----------------------+---------------------------------------------------------------------------------------+\n",
      "| Train Dataframe Path  | ../datasets/classification/census.csv                                                 |\n",
      "| Test Dataframe Path   | None                                                                                  |\n",
      "| Config File Path      | None                                                                                  |\n",
      "| Pipeline Stages       | Read file, Parse dataset, Execute, Encode, Handle outliers, Execute, Train test split |\n",
      "| Total Pipeline Stages | 7                                                                                     |\n",
      "| Total Params          | 9                                                                                     |\n",
      "+-----------------------+---------------------------------------------------------------------------------------+\n",
      "Processing...\n",
      "==> Completed Stage: Read file\n",
      "==> Completed Stage: Parse dataset\n",
      "==> Completed Stage: Execute\n",
      "==> Completed Stage: Encode\n",
      "==> Completed Stage: Handle outliers\n"
     ]
    },
    {
     "name": "stderr",
     "output_type": "stream",
     "text": [
      "/usr/local/lib/python3.8/site-packages/preprocessy/outliers/_handleoutlier.py:116: UserWarning: remove_outliers and replace both are False, thus no operation will be performed on dataframe, please specify either of the argument as True \n",
      "  warnings.warn(\n"
     ]
    },
    {
     "name": "stdout",
     "output_type": "stream",
     "text": [
      "==> Completed Stage: Execute\n",
      "==> Completed Stage: Train test split\n",
      "Pipeline Stages |████████████████████████████████████████| 7/7 [100%] in 5.0s (1.39/s)\n",
      "\n",
      "Pipeline Completed Successfully\n",
      "\n",
      "\n",
      "Pipeline Class: StandardPipeline\n",
      "\n",
      "+-----------------------+---------------------------------------------------------------------------------------+\n",
      "| Pipeline Property     | Value                                                                                 |\n",
      "+-----------------------+---------------------------------------------------------------------------------------+\n",
      "| Train Dataframe Path  | ../datasets/classification/census.csv                                                 |\n",
      "| Test Dataframe Path   | None                                                                                  |\n",
      "| Config File Path      | None                                                                                  |\n",
      "| Pipeline Stages       | Read file, Parse dataset, Execute, Encode, Handle outliers, Execute, Train test split |\n",
      "| Total Pipeline Stages | 7                                                                                     |\n",
      "| Total Params          | 9                                                                                     |\n",
      "+-----------------------+---------------------------------------------------------------------------------------+\n",
      "Processing...\n",
      "==> Completed Stage: Read file\n",
      "==> Completed Stage: Parse dataset\n",
      "==> Completed Stage: Execute\n",
      "==> Completed Stage: Encode\n",
      "==> Completed Stage: Handle outliers\n"
     ]
    },
    {
     "name": "stderr",
     "output_type": "stream",
     "text": [
      "/usr/local/lib/python3.8/site-packages/preprocessy/outliers/_handleoutlier.py:116: UserWarning: remove_outliers and replace both are False, thus no operation will be performed on dataframe, please specify either of the argument as True \n",
      "  warnings.warn(\n"
     ]
    },
    {
     "name": "stdout",
     "output_type": "stream",
     "text": [
      "==> Completed Stage: Execute\n",
      "==> Completed Stage: Train test split\n",
      "Pipeline Stages |████████████████████████████████████████| 7/7 [100%] in 5.0s (1.40/s)\n",
      "\n",
      "Pipeline Completed Successfully\n",
      "\n",
      "\n",
      "Pipeline Class: StandardPipeline\n",
      "\n",
      "+-----------------------+---------------------------------------------------------------------------------------+\n",
      "| Pipeline Property     | Value                                                                                 |\n",
      "+-----------------------+---------------------------------------------------------------------------------------+\n",
      "| Train Dataframe Path  | ../datasets/classification/census.csv                                                 |\n",
      "| Test Dataframe Path   | None                                                                                  |\n",
      "| Config File Path      | None                                                                                  |\n",
      "| Pipeline Stages       | Read file, Parse dataset, Execute, Encode, Handle outliers, Execute, Train test split |\n",
      "| Total Pipeline Stages | 7                                                                                     |\n",
      "| Total Params          | 9                                                                                     |\n",
      "+-----------------------+---------------------------------------------------------------------------------------+\n",
      "Processing...\n",
      "==> Completed Stage: Read file\n",
      "==> Completed Stage: Parse dataset\n",
      "==> Completed Stage: Execute\n",
      "==> Completed Stage: Encode\n",
      "==> Completed Stage: Handle outliers\n"
     ]
    },
    {
     "name": "stderr",
     "output_type": "stream",
     "text": [
      "/usr/local/lib/python3.8/site-packages/preprocessy/outliers/_handleoutlier.py:116: UserWarning: remove_outliers and replace both are False, thus no operation will be performed on dataframe, please specify either of the argument as True \n",
      "  warnings.warn(\n"
     ]
    },
    {
     "name": "stdout",
     "output_type": "stream",
     "text": [
      "==> Completed Stage: Execute\n",
      "==> Completed Stage: Train test split\n",
      "Pipeline Stages |████████████████████████████████████████| 7/7 [100%] in 5.0s (1.40/s)\n",
      "\n",
      "Pipeline Completed Successfully\n",
      "\n",
      "\n",
      "Pipeline Class: StandardPipeline\n",
      "\n",
      "+-----------------------+---------------------------------------------------------------------------------------+\n",
      "| Pipeline Property     | Value                                                                                 |\n",
      "+-----------------------+---------------------------------------------------------------------------------------+\n",
      "| Train Dataframe Path  | ../datasets/classification/census.csv                                                 |\n",
      "| Test Dataframe Path   | None                                                                                  |\n",
      "| Config File Path      | None                                                                                  |\n",
      "| Pipeline Stages       | Read file, Parse dataset, Execute, Encode, Handle outliers, Execute, Train test split |\n",
      "| Total Pipeline Stages | 7                                                                                     |\n",
      "| Total Params          | 9                                                                                     |\n",
      "+-----------------------+---------------------------------------------------------------------------------------+\n",
      "Processing...\n",
      "==> Completed Stage: Read file\n",
      "==> Completed Stage: Parse dataset\n",
      "==> Completed Stage: Execute\n",
      "==> Completed Stage: Encode\n",
      "==> Completed Stage: Handle outliers\n"
     ]
    },
    {
     "name": "stderr",
     "output_type": "stream",
     "text": [
      "/usr/local/lib/python3.8/site-packages/preprocessy/outliers/_handleoutlier.py:116: UserWarning: remove_outliers and replace both are False, thus no operation will be performed on dataframe, please specify either of the argument as True \n",
      "  warnings.warn(\n"
     ]
    },
    {
     "name": "stdout",
     "output_type": "stream",
     "text": [
      "==> Completed Stage: Execute\n",
      "==> Completed Stage: Train test split\n",
      "Pipeline Stages |████████████████████████████████████████| 7/7 [100%] in 4.9s (1.41/s)\n",
      "\n",
      "Pipeline Completed Successfully\n",
      "\n",
      "\n",
      "Pipeline Class: StandardPipeline\n",
      "\n",
      "+-----------------------+---------------------------------------------------------------------------------------+\n",
      "| Pipeline Property     | Value                                                                                 |\n",
      "+-----------------------+---------------------------------------------------------------------------------------+\n",
      "| Train Dataframe Path  | ../datasets/classification/census.csv                                                 |\n",
      "| Test Dataframe Path   | None                                                                                  |\n",
      "| Config File Path      | None                                                                                  |\n",
      "| Pipeline Stages       | Read file, Parse dataset, Execute, Encode, Handle outliers, Execute, Train test split |\n",
      "| Total Pipeline Stages | 7                                                                                     |\n",
      "| Total Params          | 9                                                                                     |\n",
      "+-----------------------+---------------------------------------------------------------------------------------+\n",
      "Processing...\n",
      "==> Completed Stage: Read file\n",
      "==> Completed Stage: Parse dataset\n",
      "==> Completed Stage: Execute\n",
      "==> Completed Stage: Encode\n",
      "==> Completed Stage: Handle outliers\n"
     ]
    },
    {
     "name": "stderr",
     "output_type": "stream",
     "text": [
      "/usr/local/lib/python3.8/site-packages/preprocessy/outliers/_handleoutlier.py:116: UserWarning: remove_outliers and replace both are False, thus no operation will be performed on dataframe, please specify either of the argument as True \n",
      "  warnings.warn(\n"
     ]
    },
    {
     "name": "stdout",
     "output_type": "stream",
     "text": [
      "==> Completed Stage: Execute\n",
      "==> Completed Stage: Train test split\n",
      "Pipeline Stages |████████████████████████████████████████| 7/7 [100%] in 5.0s (1.41/s)\n",
      "\n",
      "Pipeline Completed Successfully\n",
      "\n",
      "\n",
      "Pipeline Class: StandardPipeline\n",
      "\n",
      "+-----------------------+---------------------------------------------------------------------------------------+\n",
      "| Pipeline Property     | Value                                                                                 |\n",
      "+-----------------------+---------------------------------------------------------------------------------------+\n",
      "| Train Dataframe Path  | ../datasets/classification/census.csv                                                 |\n",
      "| Test Dataframe Path   | None                                                                                  |\n",
      "| Config File Path      | None                                                                                  |\n",
      "| Pipeline Stages       | Read file, Parse dataset, Execute, Encode, Handle outliers, Execute, Train test split |\n",
      "| Total Pipeline Stages | 7                                                                                     |\n",
      "| Total Params          | 9                                                                                     |\n",
      "+-----------------------+---------------------------------------------------------------------------------------+\n",
      "Processing...\n",
      "==> Completed Stage: Read file\n",
      "==> Completed Stage: Parse dataset\n",
      "==> Completed Stage: Execute\n",
      "==> Completed Stage: Encode\n",
      "==> Completed Stage: Handle outliers\n"
     ]
    },
    {
     "name": "stderr",
     "output_type": "stream",
     "text": [
      "/usr/local/lib/python3.8/site-packages/preprocessy/outliers/_handleoutlier.py:116: UserWarning: remove_outliers and replace both are False, thus no operation will be performed on dataframe, please specify either of the argument as True \n",
      "  warnings.warn(\n"
     ]
    },
    {
     "name": "stdout",
     "output_type": "stream",
     "text": [
      "==> Completed Stage: Execute\n",
      "==> Completed Stage: Train test split\n",
      "Pipeline Stages |████████████████████████████████████████| 7/7 [100%] in 5.0s (1.41/s)\n",
      "\n",
      "Pipeline Completed Successfully\n",
      "\n",
      "\n",
      "Pipeline Class: StandardPipeline\n",
      "\n",
      "+-----------------------+---------------------------------------------------------------------------------------+\n",
      "| Pipeline Property     | Value                                                                                 |\n",
      "+-----------------------+---------------------------------------------------------------------------------------+\n",
      "| Train Dataframe Path  | ../datasets/classification/census.csv                                                 |\n",
      "| Test Dataframe Path   | None                                                                                  |\n",
      "| Config File Path      | None                                                                                  |\n",
      "| Pipeline Stages       | Read file, Parse dataset, Execute, Encode, Handle outliers, Execute, Train test split |\n",
      "| Total Pipeline Stages | 7                                                                                     |\n",
      "| Total Params          | 9                                                                                     |\n",
      "+-----------------------+---------------------------------------------------------------------------------------+\n",
      "Processing...\n",
      "==> Completed Stage: Read file\n",
      "==> Completed Stage: Parse dataset\n",
      "==> Completed Stage: Execute\n",
      "==> Completed Stage: Encode\n",
      "==> Completed Stage: Handle outliers\n"
     ]
    },
    {
     "name": "stderr",
     "output_type": "stream",
     "text": [
      "/usr/local/lib/python3.8/site-packages/preprocessy/outliers/_handleoutlier.py:116: UserWarning: remove_outliers and replace both are False, thus no operation will be performed on dataframe, please specify either of the argument as True \n",
      "  warnings.warn(\n"
     ]
    },
    {
     "name": "stdout",
     "output_type": "stream",
     "text": [
      "==> Completed Stage: Execute\n",
      "==> Completed Stage: Train test split\n",
      "Pipeline Stages |████████████████████████████████████████| 7/7 [100%] in 5.0s (1.40/s)\n",
      "\n",
      "Pipeline Completed Successfully\n",
      "\n",
      "\n",
      "Pipeline Class: StandardPipeline\n",
      "\n",
      "+-----------------------+---------------------------------------------------------------------------------------+\n",
      "| Pipeline Property     | Value                                                                                 |\n",
      "+-----------------------+---------------------------------------------------------------------------------------+\n",
      "| Train Dataframe Path  | ../datasets/classification/census.csv                                                 |\n",
      "| Test Dataframe Path   | None                                                                                  |\n",
      "| Config File Path      | None                                                                                  |\n",
      "| Pipeline Stages       | Read file, Parse dataset, Execute, Encode, Handle outliers, Execute, Train test split |\n",
      "| Total Pipeline Stages | 7                                                                                     |\n",
      "| Total Params          | 9                                                                                     |\n",
      "+-----------------------+---------------------------------------------------------------------------------------+\n",
      "Processing...\n",
      "==> Completed Stage: Read file\n",
      "==> Completed Stage: Parse dataset\n",
      "==> Completed Stage: Execute\n",
      "==> Completed Stage: Encode\n",
      "==> Completed Stage: Handle outliers\n"
     ]
    },
    {
     "name": "stderr",
     "output_type": "stream",
     "text": [
      "/usr/local/lib/python3.8/site-packages/preprocessy/outliers/_handleoutlier.py:116: UserWarning: remove_outliers and replace both are False, thus no operation will be performed on dataframe, please specify either of the argument as True \n",
      "  warnings.warn(\n"
     ]
    },
    {
     "name": "stdout",
     "output_type": "stream",
     "text": [
      "==> Completed Stage: Execute\n",
      "==> Completed Stage: Train test split\n",
      "Pipeline Stages |████████████████████████████████████████| 7/7 [100%] in 5.0s (1.40/s)\n",
      "\n",
      "Pipeline Completed Successfully\n",
      "\n",
      "\n",
      "Pipeline Class: StandardPipeline\n",
      "\n",
      "+-----------------------+---------------------------------------------------------------------------------------+\n",
      "| Pipeline Property     | Value                                                                                 |\n",
      "+-----------------------+---------------------------------------------------------------------------------------+\n",
      "| Train Dataframe Path  | ../datasets/classification/census.csv                                                 |\n",
      "| Test Dataframe Path   | None                                                                                  |\n",
      "| Config File Path      | None                                                                                  |\n",
      "| Pipeline Stages       | Read file, Parse dataset, Execute, Encode, Handle outliers, Execute, Train test split |\n",
      "| Total Pipeline Stages | 7                                                                                     |\n",
      "| Total Params          | 9                                                                                     |\n",
      "+-----------------------+---------------------------------------------------------------------------------------+\n",
      "Processing...\n",
      "==> Completed Stage: Read file\n",
      "==> Completed Stage: Parse dataset\n",
      "==> Completed Stage: Execute\n",
      "==> Completed Stage: Encode\n",
      "==> Completed Stage: Handle outliers\n"
     ]
    },
    {
     "name": "stderr",
     "output_type": "stream",
     "text": [
      "/usr/local/lib/python3.8/site-packages/preprocessy/outliers/_handleoutlier.py:116: UserWarning: remove_outliers and replace both are False, thus no operation will be performed on dataframe, please specify either of the argument as True \n",
      "  warnings.warn(\n"
     ]
    },
    {
     "name": "stdout",
     "output_type": "stream",
     "text": [
      "==> Completed Stage: Execute\n",
      "==> Completed Stage: Train test split\n",
      "Pipeline Stages |████████████████████████████████████████| 7/7 [100%] in 5.0s (1.40/s)\n",
      "\n",
      "Pipeline Completed Successfully\n",
      "\n",
      "\n",
      "Pipeline Class: StandardPipeline\n",
      "\n",
      "+-----------------------+---------------------------------------------------------------------------------------+\n",
      "| Pipeline Property     | Value                                                                                 |\n",
      "+-----------------------+---------------------------------------------------------------------------------------+\n",
      "| Train Dataframe Path  | ../datasets/classification/census.csv                                                 |\n",
      "| Test Dataframe Path   | None                                                                                  |\n",
      "| Config File Path      | None                                                                                  |\n",
      "| Pipeline Stages       | Read file, Parse dataset, Execute, Encode, Handle outliers, Execute, Train test split |\n",
      "| Total Pipeline Stages | 7                                                                                     |\n",
      "| Total Params          | 9                                                                                     |\n",
      "+-----------------------+---------------------------------------------------------------------------------------+\n",
      "Processing...\n",
      "==> Completed Stage: Read file\n",
      "==> Completed Stage: Parse dataset\n",
      "==> Completed Stage: Execute\n",
      "==> Completed Stage: Encode\n",
      "==> Completed Stage: Handle outliers\n"
     ]
    },
    {
     "name": "stderr",
     "output_type": "stream",
     "text": [
      "/usr/local/lib/python3.8/site-packages/preprocessy/outliers/_handleoutlier.py:116: UserWarning: remove_outliers and replace both are False, thus no operation will be performed on dataframe, please specify either of the argument as True \n",
      "  warnings.warn(\n"
     ]
    },
    {
     "name": "stdout",
     "output_type": "stream",
     "text": [
      "==> Completed Stage: Execute\n",
      "==> Completed Stage: Train test split\n",
      "Pipeline Stages |████████████████████████████████████████| 7/7 [100%] in 5.0s (1.40/s)\n",
      "\n",
      "Pipeline Completed Successfully\n",
      "\n",
      "\n",
      "Pipeline Class: StandardPipeline\n",
      "\n",
      "+-----------------------+---------------------------------------------------------------------------------------+\n",
      "| Pipeline Property     | Value                                                                                 |\n",
      "+-----------------------+---------------------------------------------------------------------------------------+\n",
      "| Train Dataframe Path  | ../datasets/classification/census.csv                                                 |\n",
      "| Test Dataframe Path   | None                                                                                  |\n",
      "| Config File Path      | None                                                                                  |\n",
      "| Pipeline Stages       | Read file, Parse dataset, Execute, Encode, Handle outliers, Execute, Train test split |\n",
      "| Total Pipeline Stages | 7                                                                                     |\n",
      "| Total Params          | 9                                                                                     |\n",
      "+-----------------------+---------------------------------------------------------------------------------------+\n",
      "Processing...\n",
      "==> Completed Stage: Read file\n",
      "==> Completed Stage: Parse dataset\n",
      "==> Completed Stage: Execute\n",
      "==> Completed Stage: Encode\n",
      "==> Completed Stage: Handle outliers\n"
     ]
    },
    {
     "name": "stderr",
     "output_type": "stream",
     "text": [
      "/usr/local/lib/python3.8/site-packages/preprocessy/outliers/_handleoutlier.py:116: UserWarning: remove_outliers and replace both are False, thus no operation will be performed on dataframe, please specify either of the argument as True \n",
      "  warnings.warn(\n"
     ]
    },
    {
     "name": "stdout",
     "output_type": "stream",
     "text": [
      "==> Completed Stage: Execute\n",
      "==> Completed Stage: Train test split\n",
      "Pipeline Stages |████████████████████████████████████████| 7/7 [100%] in 5.0s (1.40/s)\n",
      "\n",
      "Pipeline Completed Successfully\n",
      "\n",
      "\n",
      "Pipeline Class: StandardPipeline\n",
      "\n",
      "+-----------------------+---------------------------------------------------------------------------------------+\n",
      "| Pipeline Property     | Value                                                                                 |\n",
      "+-----------------------+---------------------------------------------------------------------------------------+\n",
      "| Train Dataframe Path  | ../datasets/classification/census.csv                                                 |\n",
      "| Test Dataframe Path   | None                                                                                  |\n",
      "| Config File Path      | None                                                                                  |\n",
      "| Pipeline Stages       | Read file, Parse dataset, Execute, Encode, Handle outliers, Execute, Train test split |\n",
      "| Total Pipeline Stages | 7                                                                                     |\n",
      "| Total Params          | 9                                                                                     |\n",
      "+-----------------------+---------------------------------------------------------------------------------------+\n",
      "Processing...\n",
      "==> Completed Stage: Read file\n",
      "==> Completed Stage: Parse dataset\n",
      "==> Completed Stage: Execute\n",
      "==> Completed Stage: Encode\n",
      "==> Completed Stage: Handle outliers\n"
     ]
    },
    {
     "name": "stderr",
     "output_type": "stream",
     "text": [
      "/usr/local/lib/python3.8/site-packages/preprocessy/outliers/_handleoutlier.py:116: UserWarning: remove_outliers and replace both are False, thus no operation will be performed on dataframe, please specify either of the argument as True \n",
      "  warnings.warn(\n"
     ]
    },
    {
     "name": "stdout",
     "output_type": "stream",
     "text": [
      "==> Completed Stage: Execute\n",
      "==> Completed Stage: Train test split\n",
      "Pipeline Stages |████████████████████████████████████████| 7/7 [100%] in 5.0s (1.41/s)\n",
      "\n",
      "Pipeline Completed Successfully\n",
      "\n",
      "\n",
      "Pipeline Class: StandardPipeline\n",
      "\n",
      "+-----------------------+---------------------------------------------------------------------------------------+\n",
      "| Pipeline Property     | Value                                                                                 |\n",
      "+-----------------------+---------------------------------------------------------------------------------------+\n",
      "| Train Dataframe Path  | ../datasets/classification/census.csv                                                 |\n",
      "| Test Dataframe Path   | None                                                                                  |\n",
      "| Config File Path      | None                                                                                  |\n",
      "| Pipeline Stages       | Read file, Parse dataset, Execute, Encode, Handle outliers, Execute, Train test split |\n",
      "| Total Pipeline Stages | 7                                                                                     |\n",
      "| Total Params          | 9                                                                                     |\n",
      "+-----------------------+---------------------------------------------------------------------------------------+\n",
      "Processing...\n",
      "==> Completed Stage: Read file\n",
      "==> Completed Stage: Parse dataset\n",
      "==> Completed Stage: Execute\n",
      "==> Completed Stage: Encode\n",
      "==> Completed Stage: Handle outliers\n"
     ]
    },
    {
     "name": "stderr",
     "output_type": "stream",
     "text": [
      "/usr/local/lib/python3.8/site-packages/preprocessy/outliers/_handleoutlier.py:116: UserWarning: remove_outliers and replace both are False, thus no operation will be performed on dataframe, please specify either of the argument as True \n",
      "  warnings.warn(\n"
     ]
    },
    {
     "name": "stdout",
     "output_type": "stream",
     "text": [
      "==> Completed Stage: Execute\n",
      "==> Completed Stage: Train test split\n",
      "Pipeline Stages |████████████████████████████████████████| 7/7 [100%] in 5.0s (1.40/s)\n",
      "\n",
      "Pipeline Completed Successfully\n",
      "\n",
      "\n",
      "Pipeline Class: StandardPipeline\n",
      "\n",
      "+-----------------------+---------------------------------------------------------------------------------------+\n",
      "| Pipeline Property     | Value                                                                                 |\n",
      "+-----------------------+---------------------------------------------------------------------------------------+\n",
      "| Train Dataframe Path  | ../datasets/classification/census.csv                                                 |\n",
      "| Test Dataframe Path   | None                                                                                  |\n",
      "| Config File Path      | None                                                                                  |\n",
      "| Pipeline Stages       | Read file, Parse dataset, Execute, Encode, Handle outliers, Execute, Train test split |\n",
      "| Total Pipeline Stages | 7                                                                                     |\n",
      "| Total Params          | 9                                                                                     |\n",
      "+-----------------------+---------------------------------------------------------------------------------------+\n",
      "Processing...\n",
      "==> Completed Stage: Read file\n",
      "==> Completed Stage: Parse dataset\n",
      "==> Completed Stage: Execute\n",
      "==> Completed Stage: Encode\n",
      "==> Completed Stage: Handle outliers\n"
     ]
    },
    {
     "name": "stderr",
     "output_type": "stream",
     "text": [
      "/usr/local/lib/python3.8/site-packages/preprocessy/outliers/_handleoutlier.py:116: UserWarning: remove_outliers and replace both are False, thus no operation will be performed on dataframe, please specify either of the argument as True \n",
      "  warnings.warn(\n"
     ]
    },
    {
     "name": "stdout",
     "output_type": "stream",
     "text": [
      "==> Completed Stage: Execute\n",
      "==> Completed Stage: Train test split\n",
      "Pipeline Stages |████████████████████████████████████████| 7/7 [100%] in 4.7s (1.48/s)\n",
      "\n",
      "Pipeline Completed Successfully\n",
      "\n",
      "\n",
      "Pipeline Class: StandardPipeline\n",
      "\n",
      "+-----------------------+---------------------------------------------------------------------------------------+\n",
      "| Pipeline Property     | Value                                                                                 |\n",
      "+-----------------------+---------------------------------------------------------------------------------------+\n",
      "| Train Dataframe Path  | ../datasets/classification/census.csv                                                 |\n",
      "| Test Dataframe Path   | None                                                                                  |\n",
      "| Config File Path      | None                                                                                  |\n",
      "| Pipeline Stages       | Read file, Parse dataset, Execute, Encode, Handle outliers, Execute, Train test split |\n",
      "| Total Pipeline Stages | 7                                                                                     |\n",
      "| Total Params          | 9                                                                                     |\n",
      "+-----------------------+---------------------------------------------------------------------------------------+\n",
      "Processing...\n",
      "==> Completed Stage: Read file\n",
      "==> Completed Stage: Parse dataset\n",
      "==> Completed Stage: Execute\n",
      "==> Completed Stage: Encode\n",
      "==> Completed Stage: Handle outliers\n"
     ]
    },
    {
     "name": "stderr",
     "output_type": "stream",
     "text": [
      "/usr/local/lib/python3.8/site-packages/preprocessy/outliers/_handleoutlier.py:116: UserWarning: remove_outliers and replace both are False, thus no operation will be performed on dataframe, please specify either of the argument as True \n",
      "  warnings.warn(\n"
     ]
    },
    {
     "name": "stdout",
     "output_type": "stream",
     "text": [
      "==> Completed Stage: Execute\n",
      "==> Completed Stage: Train test split\n",
      "Pipeline Stages |████████████████████████████████████████| 7/7 [100%] in 5.0s (1.39/s)\n",
      "\n",
      "Pipeline Completed Successfully\n",
      "\n",
      "\n",
      "Pipeline Class: StandardPipeline\n",
      "\n",
      "+-----------------------+---------------------------------------------------------------------------------------+\n",
      "| Pipeline Property     | Value                                                                                 |\n",
      "+-----------------------+---------------------------------------------------------------------------------------+\n",
      "| Train Dataframe Path  | ../datasets/classification/census.csv                                                 |\n",
      "| Test Dataframe Path   | None                                                                                  |\n",
      "| Config File Path      | None                                                                                  |\n",
      "| Pipeline Stages       | Read file, Parse dataset, Execute, Encode, Handle outliers, Execute, Train test split |\n",
      "| Total Pipeline Stages | 7                                                                                     |\n",
      "| Total Params          | 9                                                                                     |\n",
      "+-----------------------+---------------------------------------------------------------------------------------+\n",
      "Processing...\n",
      "==> Completed Stage: Read file\n",
      "==> Completed Stage: Parse dataset\n",
      "==> Completed Stage: Execute\n",
      "==> Completed Stage: Encode\n",
      "==> Completed Stage: Handle outliers\n"
     ]
    },
    {
     "name": "stderr",
     "output_type": "stream",
     "text": [
      "/usr/local/lib/python3.8/site-packages/preprocessy/outliers/_handleoutlier.py:116: UserWarning: remove_outliers and replace both are False, thus no operation will be performed on dataframe, please specify either of the argument as True \n",
      "  warnings.warn(\n"
     ]
    },
    {
     "name": "stdout",
     "output_type": "stream",
     "text": [
      "==> Completed Stage: Execute\n",
      "==> Completed Stage: Train test split\n",
      "Pipeline Stages |████████████████████████████████████████| 7/7 [100%] in 5.0s (1.40/s)\n",
      "\n",
      "Pipeline Completed Successfully\n",
      "\n",
      "\n",
      "Pipeline Class: StandardPipeline\n",
      "\n",
      "+-----------------------+---------------------------------------------------------------------------------------+\n",
      "| Pipeline Property     | Value                                                                                 |\n",
      "+-----------------------+---------------------------------------------------------------------------------------+\n",
      "| Train Dataframe Path  | ../datasets/classification/census.csv                                                 |\n",
      "| Test Dataframe Path   | None                                                                                  |\n",
      "| Config File Path      | None                                                                                  |\n",
      "| Pipeline Stages       | Read file, Parse dataset, Execute, Encode, Handle outliers, Execute, Train test split |\n",
      "| Total Pipeline Stages | 7                                                                                     |\n",
      "| Total Params          | 9                                                                                     |\n",
      "+-----------------------+---------------------------------------------------------------------------------------+\n",
      "Processing...\n",
      "==> Completed Stage: Read file\n",
      "==> Completed Stage: Parse dataset\n",
      "==> Completed Stage: Execute\n",
      "==> Completed Stage: Encode\n",
      "==> Completed Stage: Handle outliers\n"
     ]
    },
    {
     "name": "stderr",
     "output_type": "stream",
     "text": [
      "/usr/local/lib/python3.8/site-packages/preprocessy/outliers/_handleoutlier.py:116: UserWarning: remove_outliers and replace both are False, thus no operation will be performed on dataframe, please specify either of the argument as True \n",
      "  warnings.warn(\n"
     ]
    },
    {
     "name": "stdout",
     "output_type": "stream",
     "text": [
      "==> Completed Stage: Execute\n",
      "==> Completed Stage: Train test split\n",
      "Pipeline Stages |████████████████████████████████████████| 7/7 [100%] in 4.8s (1.46/s)\n",
      "\n",
      "Pipeline Completed Successfully\n",
      "\n",
      "\n",
      "Pipeline Class: StandardPipeline\n",
      "\n",
      "+-----------------------+---------------------------------------------------------------------------------------+\n",
      "| Pipeline Property     | Value                                                                                 |\n",
      "+-----------------------+---------------------------------------------------------------------------------------+\n",
      "| Train Dataframe Path  | ../datasets/classification/census.csv                                                 |\n",
      "| Test Dataframe Path   | None                                                                                  |\n",
      "| Config File Path      | None                                                                                  |\n",
      "| Pipeline Stages       | Read file, Parse dataset, Execute, Encode, Handle outliers, Execute, Train test split |\n",
      "| Total Pipeline Stages | 7                                                                                     |\n",
      "| Total Params          | 9                                                                                     |\n",
      "+-----------------------+---------------------------------------------------------------------------------------+\n",
      "Processing...\n",
      "==> Completed Stage: Read file\n",
      "==> Completed Stage: Parse dataset\n",
      "==> Completed Stage: Execute\n",
      "==> Completed Stage: Encode\n",
      "==> Completed Stage: Handle outliers\n"
     ]
    },
    {
     "name": "stderr",
     "output_type": "stream",
     "text": [
      "/usr/local/lib/python3.8/site-packages/preprocessy/outliers/_handleoutlier.py:116: UserWarning: remove_outliers and replace both are False, thus no operation will be performed on dataframe, please specify either of the argument as True \n",
      "  warnings.warn(\n"
     ]
    },
    {
     "name": "stdout",
     "output_type": "stream",
     "text": [
      "==> Completed Stage: Execute\n",
      "==> Completed Stage: Train test split\n",
      "Pipeline Stages |████████████████████████████████████████| 7/7 [100%] in 5.0s (1.40/s)\n",
      "\n",
      "Pipeline Completed Successfully\n",
      "\n",
      "\n",
      "Pipeline Class: StandardPipeline\n",
      "\n",
      "+-----------------------+---------------------------------------------------------------------------------------+\n",
      "| Pipeline Property     | Value                                                                                 |\n",
      "+-----------------------+---------------------------------------------------------------------------------------+\n",
      "| Train Dataframe Path  | ../datasets/classification/census.csv                                                 |\n",
      "| Test Dataframe Path   | None                                                                                  |\n",
      "| Config File Path      | None                                                                                  |\n",
      "| Pipeline Stages       | Read file, Parse dataset, Execute, Encode, Handle outliers, Execute, Train test split |\n",
      "| Total Pipeline Stages | 7                                                                                     |\n",
      "| Total Params          | 9                                                                                     |\n",
      "+-----------------------+---------------------------------------------------------------------------------------+\n",
      "Processing...\n",
      "==> Completed Stage: Read file\n",
      "==> Completed Stage: Parse dataset\n",
      "==> Completed Stage: Execute\n",
      "==> Completed Stage: Encode\n",
      "==> Completed Stage: Handle outliers\n"
     ]
    },
    {
     "name": "stderr",
     "output_type": "stream",
     "text": [
      "/usr/local/lib/python3.8/site-packages/preprocessy/outliers/_handleoutlier.py:116: UserWarning: remove_outliers and replace both are False, thus no operation will be performed on dataframe, please specify either of the argument as True \n",
      "  warnings.warn(\n"
     ]
    },
    {
     "name": "stdout",
     "output_type": "stream",
     "text": [
      "==> Completed Stage: Execute\n",
      "==> Completed Stage: Train test split\n",
      "Pipeline Stages |████████████████████████████████████████| 7/7 [100%] in 4.8s (1.47/s)\n",
      "\n",
      "Pipeline Completed Successfully\n",
      "\n",
      "\n",
      "Pipeline Class: StandardPipeline\n",
      "\n",
      "+-----------------------+---------------------------------------------------------------------------------------+\n",
      "| Pipeline Property     | Value                                                                                 |\n",
      "+-----------------------+---------------------------------------------------------------------------------------+\n",
      "| Train Dataframe Path  | ../datasets/classification/census.csv                                                 |\n",
      "| Test Dataframe Path   | None                                                                                  |\n",
      "| Config File Path      | None                                                                                  |\n",
      "| Pipeline Stages       | Read file, Parse dataset, Execute, Encode, Handle outliers, Execute, Train test split |\n",
      "| Total Pipeline Stages | 7                                                                                     |\n",
      "| Total Params          | 9                                                                                     |\n",
      "+-----------------------+---------------------------------------------------------------------------------------+\n",
      "Processing...\n",
      "==> Completed Stage: Read file\n",
      "==> Completed Stage: Parse dataset\n",
      "==> Completed Stage: Execute\n",
      "==> Completed Stage: Encode\n",
      "==> Completed Stage: Handle outliers\n"
     ]
    },
    {
     "name": "stderr",
     "output_type": "stream",
     "text": [
      "/usr/local/lib/python3.8/site-packages/preprocessy/outliers/_handleoutlier.py:116: UserWarning: remove_outliers and replace both are False, thus no operation will be performed on dataframe, please specify either of the argument as True \n",
      "  warnings.warn(\n"
     ]
    },
    {
     "name": "stdout",
     "output_type": "stream",
     "text": [
      "==> Completed Stage: Execute\n",
      "==> Completed Stage: Train test split\n",
      "Pipeline Stages |████████████████████████████████████████| 7/7 [100%] in 4.7s (1.47/s)\n",
      "\n",
      "Pipeline Completed Successfully\n",
      "\n",
      "\n",
      "Pipeline Class: StandardPipeline\n",
      "\n",
      "+-----------------------+---------------------------------------------------------------------------------------+\n",
      "| Pipeline Property     | Value                                                                                 |\n",
      "+-----------------------+---------------------------------------------------------------------------------------+\n",
      "| Train Dataframe Path  | ../datasets/classification/census.csv                                                 |\n",
      "| Test Dataframe Path   | None                                                                                  |\n",
      "| Config File Path      | None                                                                                  |\n",
      "| Pipeline Stages       | Read file, Parse dataset, Execute, Encode, Handle outliers, Execute, Train test split |\n",
      "| Total Pipeline Stages | 7                                                                                     |\n",
      "| Total Params          | 9                                                                                     |\n",
      "+-----------------------+---------------------------------------------------------------------------------------+\n",
      "Processing...\n",
      "==> Completed Stage: Read file\n",
      "==> Completed Stage: Parse dataset\n",
      "==> Completed Stage: Execute\n",
      "==> Completed Stage: Encode\n",
      "==> Completed Stage: Handle outliers\n"
     ]
    },
    {
     "name": "stderr",
     "output_type": "stream",
     "text": [
      "/usr/local/lib/python3.8/site-packages/preprocessy/outliers/_handleoutlier.py:116: UserWarning: remove_outliers and replace both are False, thus no operation will be performed on dataframe, please specify either of the argument as True \n",
      "  warnings.warn(\n"
     ]
    },
    {
     "name": "stdout",
     "output_type": "stream",
     "text": [
      "==> Completed Stage: Execute\n",
      "==> Completed Stage: Train test split\n",
      "Pipeline Stages |████████████████████████████████████████| 7/7 [100%] in 4.8s (1.46/s)\n",
      "\n",
      "Pipeline Completed Successfully\n",
      "\n",
      "\n",
      "Pipeline Class: StandardPipeline\n",
      "\n",
      "+-----------------------+---------------------------------------------------------------------------------------+\n",
      "| Pipeline Property     | Value                                                                                 |\n",
      "+-----------------------+---------------------------------------------------------------------------------------+\n",
      "| Train Dataframe Path  | ../datasets/classification/census.csv                                                 |\n",
      "| Test Dataframe Path   | None                                                                                  |\n",
      "| Config File Path      | None                                                                                  |\n",
      "| Pipeline Stages       | Read file, Parse dataset, Execute, Encode, Handle outliers, Execute, Train test split |\n",
      "| Total Pipeline Stages | 7                                                                                     |\n",
      "| Total Params          | 9                                                                                     |\n",
      "+-----------------------+---------------------------------------------------------------------------------------+\n",
      "Processing...\n",
      "==> Completed Stage: Read file\n",
      "==> Completed Stage: Parse dataset\n",
      "==> Completed Stage: Execute\n",
      "==> Completed Stage: Encode\n",
      "==> Completed Stage: Handle outliers\n"
     ]
    },
    {
     "name": "stderr",
     "output_type": "stream",
     "text": [
      "/usr/local/lib/python3.8/site-packages/preprocessy/outliers/_handleoutlier.py:116: UserWarning: remove_outliers and replace both are False, thus no operation will be performed on dataframe, please specify either of the argument as True \n",
      "  warnings.warn(\n"
     ]
    },
    {
     "name": "stdout",
     "output_type": "stream",
     "text": [
      "==> Completed Stage: Execute\n",
      "==> Completed Stage: Train test split\n",
      "Pipeline Stages |████████████████████████████████████████| 7/7 [100%] in 5.0s (1.40/s)\n",
      "\n",
      "Pipeline Completed Successfully\n",
      "\n",
      "\n",
      "Pipeline Class: StandardPipeline\n",
      "\n",
      "+-----------------------+---------------------------------------------------------------------------------------+\n",
      "| Pipeline Property     | Value                                                                                 |\n",
      "+-----------------------+---------------------------------------------------------------------------------------+\n",
      "| Train Dataframe Path  | ../datasets/classification/census.csv                                                 |\n",
      "| Test Dataframe Path   | None                                                                                  |\n",
      "| Config File Path      | None                                                                                  |\n",
      "| Pipeline Stages       | Read file, Parse dataset, Execute, Encode, Handle outliers, Execute, Train test split |\n",
      "| Total Pipeline Stages | 7                                                                                     |\n",
      "| Total Params          | 9                                                                                     |\n",
      "+-----------------------+---------------------------------------------------------------------------------------+\n",
      "Processing...\n",
      "==> Completed Stage: Read file\n",
      "==> Completed Stage: Parse dataset\n",
      "==> Completed Stage: Execute\n",
      "==> Completed Stage: Encode\n",
      "==> Completed Stage: Handle outliers\n"
     ]
    },
    {
     "name": "stderr",
     "output_type": "stream",
     "text": [
      "/usr/local/lib/python3.8/site-packages/preprocessy/outliers/_handleoutlier.py:116: UserWarning: remove_outliers and replace both are False, thus no operation will be performed on dataframe, please specify either of the argument as True \n",
      "  warnings.warn(\n"
     ]
    },
    {
     "name": "stdout",
     "output_type": "stream",
     "text": [
      "==> Completed Stage: Execute\n",
      "==> Completed Stage: Train test split\n",
      "Pipeline Stages |████████████████████████████████████████| 7/7 [100%] in 4.7s (1.49/s)\n",
      "\n",
      "Pipeline Completed Successfully\n",
      "\n",
      "\n",
      "Pipeline Class: StandardPipeline\n",
      "\n",
      "+-----------------------+---------------------------------------------------------------------------------------+\n",
      "| Pipeline Property     | Value                                                                                 |\n",
      "+-----------------------+---------------------------------------------------------------------------------------+\n",
      "| Train Dataframe Path  | ../datasets/classification/census.csv                                                 |\n",
      "| Test Dataframe Path   | None                                                                                  |\n",
      "| Config File Path      | None                                                                                  |\n",
      "| Pipeline Stages       | Read file, Parse dataset, Execute, Encode, Handle outliers, Execute, Train test split |\n",
      "| Total Pipeline Stages | 7                                                                                     |\n",
      "| Total Params          | 9                                                                                     |\n",
      "+-----------------------+---------------------------------------------------------------------------------------+\n",
      "Processing...\n",
      "==> Completed Stage: Read file\n",
      "==> Completed Stage: Parse dataset\n",
      "==> Completed Stage: Execute\n",
      "==> Completed Stage: Encode\n",
      "==> Completed Stage: Handle outliers\n"
     ]
    },
    {
     "name": "stderr",
     "output_type": "stream",
     "text": [
      "/usr/local/lib/python3.8/site-packages/preprocessy/outliers/_handleoutlier.py:116: UserWarning: remove_outliers and replace both are False, thus no operation will be performed on dataframe, please specify either of the argument as True \n",
      "  warnings.warn(\n"
     ]
    },
    {
     "name": "stdout",
     "output_type": "stream",
     "text": [
      "==> Completed Stage: Execute\n",
      "==> Completed Stage: Train test split\n",
      "Pipeline Stages |████████████████████████████████████████| 7/7 [100%] in 4.7s (1.49/s)\n",
      "\n",
      "Pipeline Completed Successfully\n",
      "\n",
      "\n",
      "Pipeline Class: StandardPipeline\n",
      "\n",
      "+-----------------------+---------------------------------------------------------------------------------------+\n",
      "| Pipeline Property     | Value                                                                                 |\n",
      "+-----------------------+---------------------------------------------------------------------------------------+\n",
      "| Train Dataframe Path  | ../datasets/classification/census.csv                                                 |\n",
      "| Test Dataframe Path   | None                                                                                  |\n",
      "| Config File Path      | None                                                                                  |\n",
      "| Pipeline Stages       | Read file, Parse dataset, Execute, Encode, Handle outliers, Execute, Train test split |\n",
      "| Total Pipeline Stages | 7                                                                                     |\n",
      "| Total Params          | 9                                                                                     |\n",
      "+-----------------------+---------------------------------------------------------------------------------------+\n",
      "Processing...\n",
      "==> Completed Stage: Read file\n",
      "==> Completed Stage: Parse dataset\n",
      "==> Completed Stage: Execute\n",
      "==> Completed Stage: Encode\n",
      "==> Completed Stage: Handle outliers\n"
     ]
    },
    {
     "name": "stderr",
     "output_type": "stream",
     "text": [
      "/usr/local/lib/python3.8/site-packages/preprocessy/outliers/_handleoutlier.py:116: UserWarning: remove_outliers and replace both are False, thus no operation will be performed on dataframe, please specify either of the argument as True \n",
      "  warnings.warn(\n"
     ]
    },
    {
     "name": "stdout",
     "output_type": "stream",
     "text": [
      "==> Completed Stage: Execute\n",
      "==> Completed Stage: Train test split\n",
      "Pipeline Stages |████████████████████████████████████████| 7/7 [100%] in 5.0s (1.41/s)\n",
      "\n",
      "Pipeline Completed Successfully\n",
      "\n",
      "\n",
      "Pipeline Class: StandardPipeline\n",
      "\n",
      "+-----------------------+---------------------------------------------------------------------------------------+\n",
      "| Pipeline Property     | Value                                                                                 |\n",
      "+-----------------------+---------------------------------------------------------------------------------------+\n",
      "| Train Dataframe Path  | ../datasets/classification/census.csv                                                 |\n",
      "| Test Dataframe Path   | None                                                                                  |\n",
      "| Config File Path      | None                                                                                  |\n",
      "| Pipeline Stages       | Read file, Parse dataset, Execute, Encode, Handle outliers, Execute, Train test split |\n",
      "| Total Pipeline Stages | 7                                                                                     |\n",
      "| Total Params          | 9                                                                                     |\n",
      "+-----------------------+---------------------------------------------------------------------------------------+\n",
      "Processing...\n",
      "==> Completed Stage: Read file\n",
      "==> Completed Stage: Parse dataset\n",
      "==> Completed Stage: Execute\n",
      "==> Completed Stage: Encode\n",
      "==> Completed Stage: Handle outliers\n"
     ]
    },
    {
     "name": "stderr",
     "output_type": "stream",
     "text": [
      "/usr/local/lib/python3.8/site-packages/preprocessy/outliers/_handleoutlier.py:116: UserWarning: remove_outliers and replace both are False, thus no operation will be performed on dataframe, please specify either of the argument as True \n",
      "  warnings.warn(\n"
     ]
    },
    {
     "name": "stdout",
     "output_type": "stream",
     "text": [
      "==> Completed Stage: Execute\n",
      "==> Completed Stage: Train test split\n",
      "Pipeline Stages |████████████████████████████████████████| 7/7 [100%] in 4.7s (1.49/s)\n",
      "\n",
      "Pipeline Completed Successfully\n",
      "\n",
      "\n",
      "Pipeline Class: StandardPipeline\n",
      "\n",
      "+-----------------------+---------------------------------------------------------------------------------------+\n",
      "| Pipeline Property     | Value                                                                                 |\n",
      "+-----------------------+---------------------------------------------------------------------------------------+\n",
      "| Train Dataframe Path  | ../datasets/classification/census.csv                                                 |\n",
      "| Test Dataframe Path   | None                                                                                  |\n",
      "| Config File Path      | None                                                                                  |\n",
      "| Pipeline Stages       | Read file, Parse dataset, Execute, Encode, Handle outliers, Execute, Train test split |\n",
      "| Total Pipeline Stages | 7                                                                                     |\n",
      "| Total Params          | 9                                                                                     |\n",
      "+-----------------------+---------------------------------------------------------------------------------------+\n",
      "Processing...\n",
      "==> Completed Stage: Read file\n",
      "==> Completed Stage: Parse dataset\n",
      "==> Completed Stage: Execute\n",
      "==> Completed Stage: Encode\n",
      "==> Completed Stage: Handle outliers\n"
     ]
    },
    {
     "name": "stderr",
     "output_type": "stream",
     "text": [
      "/usr/local/lib/python3.8/site-packages/preprocessy/outliers/_handleoutlier.py:116: UserWarning: remove_outliers and replace both are False, thus no operation will be performed on dataframe, please specify either of the argument as True \n",
      "  warnings.warn(\n"
     ]
    },
    {
     "name": "stdout",
     "output_type": "stream",
     "text": [
      "==> Completed Stage: Execute\n",
      "==> Completed Stage: Train test split\n",
      "Pipeline Stages |████████████████████████████████████████| 7/7 [100%] in 4.7s (1.49/s)\n",
      "\n",
      "Pipeline Completed Successfully\n",
      "\n",
      "\n",
      "Pipeline Class: StandardPipeline\n",
      "\n",
      "+-----------------------+---------------------------------------------------------------------------------------+\n",
      "| Pipeline Property     | Value                                                                                 |\n",
      "+-----------------------+---------------------------------------------------------------------------------------+\n",
      "| Train Dataframe Path  | ../datasets/classification/census.csv                                                 |\n",
      "| Test Dataframe Path   | None                                                                                  |\n",
      "| Config File Path      | None                                                                                  |\n",
      "| Pipeline Stages       | Read file, Parse dataset, Execute, Encode, Handle outliers, Execute, Train test split |\n",
      "| Total Pipeline Stages | 7                                                                                     |\n",
      "| Total Params          | 9                                                                                     |\n",
      "+-----------------------+---------------------------------------------------------------------------------------+\n",
      "Processing...\n",
      "==> Completed Stage: Read file\n",
      "==> Completed Stage: Parse dataset\n",
      "==> Completed Stage: Execute\n",
      "==> Completed Stage: Encode\n",
      "==> Completed Stage: Handle outliers\n"
     ]
    },
    {
     "name": "stderr",
     "output_type": "stream",
     "text": [
      "/usr/local/lib/python3.8/site-packages/preprocessy/outliers/_handleoutlier.py:116: UserWarning: remove_outliers and replace both are False, thus no operation will be performed on dataframe, please specify either of the argument as True \n",
      "  warnings.warn(\n"
     ]
    },
    {
     "name": "stdout",
     "output_type": "stream",
     "text": [
      "==> Completed Stage: Execute\n",
      "==> Completed Stage: Train test split\n",
      "Pipeline Stages |████████████████████████████████████████| 7/7 [100%] in 4.7s (1.49/s)\n",
      "\n",
      "Pipeline Completed Successfully\n",
      "\n",
      "\n",
      "Pipeline Class: StandardPipeline\n",
      "\n",
      "+-----------------------+---------------------------------------------------------------------------------------+\n",
      "| Pipeline Property     | Value                                                                                 |\n",
      "+-----------------------+---------------------------------------------------------------------------------------+\n",
      "| Train Dataframe Path  | ../datasets/classification/census.csv                                                 |\n",
      "| Test Dataframe Path   | None                                                                                  |\n",
      "| Config File Path      | None                                                                                  |\n",
      "| Pipeline Stages       | Read file, Parse dataset, Execute, Encode, Handle outliers, Execute, Train test split |\n",
      "| Total Pipeline Stages | 7                                                                                     |\n",
      "| Total Params          | 9                                                                                     |\n",
      "+-----------------------+---------------------------------------------------------------------------------------+\n",
      "Processing...\n",
      "==> Completed Stage: Read file\n",
      "==> Completed Stage: Parse dataset\n",
      "==> Completed Stage: Execute\n",
      "==> Completed Stage: Encode\n",
      "==> Completed Stage: Handle outliers\n"
     ]
    },
    {
     "name": "stderr",
     "output_type": "stream",
     "text": [
      "/usr/local/lib/python3.8/site-packages/preprocessy/outliers/_handleoutlier.py:116: UserWarning: remove_outliers and replace both are False, thus no operation will be performed on dataframe, please specify either of the argument as True \n",
      "  warnings.warn(\n"
     ]
    },
    {
     "name": "stdout",
     "output_type": "stream",
     "text": [
      "==> Completed Stage: Execute\n",
      "==> Completed Stage: Train test split\n",
      "Pipeline Stages |████████████████████████████████████████| 7/7 [100%] in 4.7s (1.49/s)\n",
      "\n",
      "Pipeline Completed Successfully\n",
      "\n",
      "\n",
      "Pipeline Class: StandardPipeline\n",
      "\n",
      "+-----------------------+---------------------------------------------------------------------------------------+\n",
      "| Pipeline Property     | Value                                                                                 |\n",
      "+-----------------------+---------------------------------------------------------------------------------------+\n",
      "| Train Dataframe Path  | ../datasets/classification/census.csv                                                 |\n",
      "| Test Dataframe Path   | None                                                                                  |\n",
      "| Config File Path      | None                                                                                  |\n",
      "| Pipeline Stages       | Read file, Parse dataset, Execute, Encode, Handle outliers, Execute, Train test split |\n",
      "| Total Pipeline Stages | 7                                                                                     |\n",
      "| Total Params          | 9                                                                                     |\n",
      "+-----------------------+---------------------------------------------------------------------------------------+\n",
      "Processing...\n",
      "==> Completed Stage: Read file\n",
      "==> Completed Stage: Parse dataset\n",
      "==> Completed Stage: Execute\n",
      "==> Completed Stage: Encode\n",
      "==> Completed Stage: Handle outliers\n"
     ]
    },
    {
     "name": "stderr",
     "output_type": "stream",
     "text": [
      "/usr/local/lib/python3.8/site-packages/preprocessy/outliers/_handleoutlier.py:116: UserWarning: remove_outliers and replace both are False, thus no operation will be performed on dataframe, please specify either of the argument as True \n",
      "  warnings.warn(\n"
     ]
    },
    {
     "name": "stdout",
     "output_type": "stream",
     "text": [
      "==> Completed Stage: Execute\n",
      "==> Completed Stage: Train test split\n",
      "Pipeline Stages |████████████████████████████████████████| 7/7 [100%] in 4.7s (1.48/s)\n",
      "\n",
      "Pipeline Completed Successfully\n",
      "\n",
      "\n",
      "Pipeline Class: StandardPipeline\n",
      "\n",
      "+-----------------------+---------------------------------------------------------------------------------------+\n",
      "| Pipeline Property     | Value                                                                                 |\n",
      "+-----------------------+---------------------------------------------------------------------------------------+\n",
      "| Train Dataframe Path  | ../datasets/classification/census.csv                                                 |\n",
      "| Test Dataframe Path   | None                                                                                  |\n",
      "| Config File Path      | None                                                                                  |\n",
      "| Pipeline Stages       | Read file, Parse dataset, Execute, Encode, Handle outliers, Execute, Train test split |\n",
      "| Total Pipeline Stages | 7                                                                                     |\n",
      "| Total Params          | 9                                                                                     |\n",
      "+-----------------------+---------------------------------------------------------------------------------------+\n",
      "Processing...\n",
      "==> Completed Stage: Read file\n",
      "==> Completed Stage: Parse dataset\n",
      "==> Completed Stage: Execute\n",
      "==> Completed Stage: Encode\n",
      "==> Completed Stage: Handle outliers\n"
     ]
    },
    {
     "name": "stderr",
     "output_type": "stream",
     "text": [
      "/usr/local/lib/python3.8/site-packages/preprocessy/outliers/_handleoutlier.py:116: UserWarning: remove_outliers and replace both are False, thus no operation will be performed on dataframe, please specify either of the argument as True \n",
      "  warnings.warn(\n"
     ]
    },
    {
     "name": "stdout",
     "output_type": "stream",
     "text": [
      "==> Completed Stage: Execute\n",
      "==> Completed Stage: Train test split\n",
      "Pipeline Stages |████████████████████████████████████████| 7/7 [100%] in 4.4s (1.61/s)\n",
      "\n",
      "Pipeline Completed Successfully\n",
      "\n",
      "\n",
      "Pipeline Class: StandardPipeline\n",
      "\n",
      "+-----------------------+---------------------------------------------------------------------------------------+\n",
      "| Pipeline Property     | Value                                                                                 |\n",
      "+-----------------------+---------------------------------------------------------------------------------------+\n",
      "| Train Dataframe Path  | ../datasets/classification/census.csv                                                 |\n",
      "| Test Dataframe Path   | None                                                                                  |\n",
      "| Config File Path      | None                                                                                  |\n",
      "| Pipeline Stages       | Read file, Parse dataset, Execute, Encode, Handle outliers, Execute, Train test split |\n",
      "| Total Pipeline Stages | 7                                                                                     |\n",
      "| Total Params          | 9                                                                                     |\n",
      "+-----------------------+---------------------------------------------------------------------------------------+\n",
      "Processing...\n",
      "==> Completed Stage: Read file\n",
      "==> Completed Stage: Parse dataset\n",
      "==> Completed Stage: Execute\n",
      "==> Completed Stage: Encode\n",
      "==> Completed Stage: Handle outliers\n"
     ]
    },
    {
     "name": "stderr",
     "output_type": "stream",
     "text": [
      "/usr/local/lib/python3.8/site-packages/preprocessy/outliers/_handleoutlier.py:116: UserWarning: remove_outliers and replace both are False, thus no operation will be performed on dataframe, please specify either of the argument as True \n",
      "  warnings.warn(\n"
     ]
    },
    {
     "name": "stdout",
     "output_type": "stream",
     "text": [
      "==> Completed Stage: Execute\n",
      "==> Completed Stage: Train test split\n",
      "Pipeline Stages |████████████████████████████████████████| 7/7 [100%] in 4.4s (1.61/s)\n",
      "\n",
      "Pipeline Completed Successfully\n",
      "\n",
      "\n",
      "Pipeline Class: StandardPipeline\n",
      "\n",
      "+-----------------------+---------------------------------------------------------------------------------------+\n",
      "| Pipeline Property     | Value                                                                                 |\n",
      "+-----------------------+---------------------------------------------------------------------------------------+\n",
      "| Train Dataframe Path  | ../datasets/classification/census.csv                                                 |\n",
      "| Test Dataframe Path   | None                                                                                  |\n",
      "| Config File Path      | None                                                                                  |\n",
      "| Pipeline Stages       | Read file, Parse dataset, Execute, Encode, Handle outliers, Execute, Train test split |\n",
      "| Total Pipeline Stages | 7                                                                                     |\n",
      "| Total Params          | 9                                                                                     |\n",
      "+-----------------------+---------------------------------------------------------------------------------------+\n",
      "Processing...\n",
      "==> Completed Stage: Read file\n",
      "==> Completed Stage: Parse dataset\n",
      "==> Completed Stage: Execute\n",
      "==> Completed Stage: Encode\n",
      "==> Completed Stage: Handle outliers\n"
     ]
    },
    {
     "name": "stderr",
     "output_type": "stream",
     "text": [
      "/usr/local/lib/python3.8/site-packages/preprocessy/outliers/_handleoutlier.py:116: UserWarning: remove_outliers and replace both are False, thus no operation will be performed on dataframe, please specify either of the argument as True \n",
      "  warnings.warn(\n"
     ]
    },
    {
     "name": "stdout",
     "output_type": "stream",
     "text": [
      "==> Completed Stage: Execute\n",
      "==> Completed Stage: Train test split\n",
      "Pipeline Stages |████████████████████████████████████████| 7/7 [100%] in 4.9s (1.42/s)\n",
      "\n",
      "Pipeline Completed Successfully\n",
      "\n",
      "\n",
      "Pipeline Class: StandardPipeline\n",
      "\n",
      "+-----------------------+---------------------------------------------------------------------------------------+\n",
      "| Pipeline Property     | Value                                                                                 |\n",
      "+-----------------------+---------------------------------------------------------------------------------------+\n",
      "| Train Dataframe Path  | ../datasets/classification/census.csv                                                 |\n",
      "| Test Dataframe Path   | None                                                                                  |\n",
      "| Config File Path      | None                                                                                  |\n",
      "| Pipeline Stages       | Read file, Parse dataset, Execute, Encode, Handle outliers, Execute, Train test split |\n",
      "| Total Pipeline Stages | 7                                                                                     |\n",
      "| Total Params          | 9                                                                                     |\n",
      "+-----------------------+---------------------------------------------------------------------------------------+\n",
      "Processing...\n",
      "==> Completed Stage: Read file\n",
      "==> Completed Stage: Parse dataset\n",
      "==> Completed Stage: Execute\n",
      "==> Completed Stage: Encode\n",
      "==> Completed Stage: Handle outliers\n"
     ]
    },
    {
     "name": "stderr",
     "output_type": "stream",
     "text": [
      "/usr/local/lib/python3.8/site-packages/preprocessy/outliers/_handleoutlier.py:116: UserWarning: remove_outliers and replace both are False, thus no operation will be performed on dataframe, please specify either of the argument as True \n",
      "  warnings.warn(\n"
     ]
    },
    {
     "name": "stdout",
     "output_type": "stream",
     "text": [
      "==> Completed Stage: Execute\n",
      "==> Completed Stage: Train test split\n",
      "Pipeline Stages |████████████████████████████████████████| 7/7 [100%] in 5.0s (1.41/s)\n",
      "\n",
      "Pipeline Completed Successfully\n",
      "\n",
      "\n",
      "Pipeline Class: StandardPipeline\n",
      "\n",
      "+-----------------------+---------------------------------------------------------------------------------------+\n",
      "| Pipeline Property     | Value                                                                                 |\n",
      "+-----------------------+---------------------------------------------------------------------------------------+\n",
      "| Train Dataframe Path  | ../datasets/classification/census.csv                                                 |\n",
      "| Test Dataframe Path   | None                                                                                  |\n",
      "| Config File Path      | None                                                                                  |\n",
      "| Pipeline Stages       | Read file, Parse dataset, Execute, Encode, Handle outliers, Execute, Train test split |\n",
      "| Total Pipeline Stages | 7                                                                                     |\n",
      "| Total Params          | 9                                                                                     |\n",
      "+-----------------------+---------------------------------------------------------------------------------------+\n",
      "Processing...\n",
      "==> Completed Stage: Read file\n",
      "==> Completed Stage: Parse dataset\n",
      "==> Completed Stage: Execute\n",
      "==> Completed Stage: Encode\n",
      "==> Completed Stage: Handle outliers\n"
     ]
    },
    {
     "name": "stderr",
     "output_type": "stream",
     "text": [
      "/usr/local/lib/python3.8/site-packages/preprocessy/outliers/_handleoutlier.py:116: UserWarning: remove_outliers and replace both are False, thus no operation will be performed on dataframe, please specify either of the argument as True \n",
      "  warnings.warn(\n"
     ]
    },
    {
     "name": "stdout",
     "output_type": "stream",
     "text": [
      "==> Completed Stage: Execute\n",
      "==> Completed Stage: Train test split\n",
      "Pipeline Stages |████████████████████████████████████████| 7/7 [100%] in 4.7s (1.49/s)\n",
      "\n",
      "Pipeline Completed Successfully\n",
      "\n",
      "\n",
      "Pipeline Class: StandardPipeline\n",
      "\n",
      "+-----------------------+---------------------------------------------------------------------------------------+\n",
      "| Pipeline Property     | Value                                                                                 |\n",
      "+-----------------------+---------------------------------------------------------------------------------------+\n",
      "| Train Dataframe Path  | ../datasets/classification/census.csv                                                 |\n",
      "| Test Dataframe Path   | None                                                                                  |\n",
      "| Config File Path      | None                                                                                  |\n",
      "| Pipeline Stages       | Read file, Parse dataset, Execute, Encode, Handle outliers, Execute, Train test split |\n",
      "| Total Pipeline Stages | 7                                                                                     |\n",
      "| Total Params          | 9                                                                                     |\n",
      "+-----------------------+---------------------------------------------------------------------------------------+\n",
      "Processing...\n",
      "==> Completed Stage: Read file\n",
      "==> Completed Stage: Parse dataset\n",
      "==> Completed Stage: Execute\n",
      "==> Completed Stage: Encode\n",
      "==> Completed Stage: Handle outliers\n"
     ]
    },
    {
     "name": "stderr",
     "output_type": "stream",
     "text": [
      "/usr/local/lib/python3.8/site-packages/preprocessy/outliers/_handleoutlier.py:116: UserWarning: remove_outliers and replace both are False, thus no operation will be performed on dataframe, please specify either of the argument as True \n",
      "  warnings.warn(\n"
     ]
    },
    {
     "name": "stdout",
     "output_type": "stream",
     "text": [
      "==> Completed Stage: Execute\n",
      "==> Completed Stage: Train test split\n",
      "Pipeline Stages |████████████████████████████████████████| 7/7 [100%] in 4.7s (1.49/s)\n",
      "\n",
      "Pipeline Completed Successfully\n",
      "\n",
      "\n",
      "Pipeline Class: StandardPipeline\n",
      "\n",
      "+-----------------------+---------------------------------------------------------------------------------------+\n",
      "| Pipeline Property     | Value                                                                                 |\n",
      "+-----------------------+---------------------------------------------------------------------------------------+\n",
      "| Train Dataframe Path  | ../datasets/classification/census.csv                                                 |\n",
      "| Test Dataframe Path   | None                                                                                  |\n",
      "| Config File Path      | None                                                                                  |\n",
      "| Pipeline Stages       | Read file, Parse dataset, Execute, Encode, Handle outliers, Execute, Train test split |\n",
      "| Total Pipeline Stages | 7                                                                                     |\n",
      "| Total Params          | 9                                                                                     |\n",
      "+-----------------------+---------------------------------------------------------------------------------------+\n",
      "Processing...\n",
      "==> Completed Stage: Read file\n",
      "==> Completed Stage: Parse dataset\n",
      "==> Completed Stage: Execute\n",
      "==> Completed Stage: Encode\n",
      "==> Completed Stage: Handle outliers\n"
     ]
    },
    {
     "name": "stderr",
     "output_type": "stream",
     "text": [
      "/usr/local/lib/python3.8/site-packages/preprocessy/outliers/_handleoutlier.py:116: UserWarning: remove_outliers and replace both are False, thus no operation will be performed on dataframe, please specify either of the argument as True \n",
      "  warnings.warn(\n"
     ]
    },
    {
     "name": "stdout",
     "output_type": "stream",
     "text": [
      "==> Completed Stage: Execute\n",
      "==> Completed Stage: Train test split\n",
      "Pipeline Stages |████████████████████████████████████████| 7/7 [100%] in 5.1s (1.37/s)\n",
      "\n",
      "Pipeline Completed Successfully\n",
      "\n",
      "\n",
      "Pipeline Class: StandardPipeline\n",
      "\n",
      "+-----------------------+---------------------------------------------------------------------------------------+\n",
      "| Pipeline Property     | Value                                                                                 |\n",
      "+-----------------------+---------------------------------------------------------------------------------------+\n",
      "| Train Dataframe Path  | ../datasets/classification/census.csv                                                 |\n",
      "| Test Dataframe Path   | None                                                                                  |\n",
      "| Config File Path      | None                                                                                  |\n",
      "| Pipeline Stages       | Read file, Parse dataset, Execute, Encode, Handle outliers, Execute, Train test split |\n",
      "| Total Pipeline Stages | 7                                                                                     |\n",
      "| Total Params          | 9                                                                                     |\n",
      "+-----------------------+---------------------------------------------------------------------------------------+\n",
      "Processing...\n",
      "==> Completed Stage: Read file\n",
      "==> Completed Stage: Parse dataset\n",
      "==> Completed Stage: Execute\n",
      "==> Completed Stage: Encode\n",
      "==> Completed Stage: Handle outliers\n"
     ]
    },
    {
     "name": "stderr",
     "output_type": "stream",
     "text": [
      "/usr/local/lib/python3.8/site-packages/preprocessy/outliers/_handleoutlier.py:116: UserWarning: remove_outliers and replace both are False, thus no operation will be performed on dataframe, please specify either of the argument as True \n",
      "  warnings.warn(\n"
     ]
    },
    {
     "name": "stdout",
     "output_type": "stream",
     "text": [
      "==> Completed Stage: Execute\n",
      "==> Completed Stage: Train test split\n",
      "Pipeline Stages |████████████████████████████████████████| 7/7 [100%] in 4.8s (1.45/s)\n",
      "\n",
      "Pipeline Completed Successfully\n",
      "\n",
      "\n",
      "Pipeline Class: StandardPipeline\n",
      "\n",
      "+-----------------------+---------------------------------------------------------------------------------------+\n",
      "| Pipeline Property     | Value                                                                                 |\n",
      "+-----------------------+---------------------------------------------------------------------------------------+\n",
      "| Train Dataframe Path  | ../datasets/classification/census.csv                                                 |\n",
      "| Test Dataframe Path   | None                                                                                  |\n",
      "| Config File Path      | None                                                                                  |\n",
      "| Pipeline Stages       | Read file, Parse dataset, Execute, Encode, Handle outliers, Execute, Train test split |\n",
      "| Total Pipeline Stages | 7                                                                                     |\n",
      "| Total Params          | 9                                                                                     |\n",
      "+-----------------------+---------------------------------------------------------------------------------------+\n",
      "Processing...\n",
      "==> Completed Stage: Read file\n",
      "==> Completed Stage: Parse dataset\n",
      "==> Completed Stage: Execute\n",
      "==> Completed Stage: Encode\n",
      "==> Completed Stage: Handle outliers\n"
     ]
    },
    {
     "name": "stderr",
     "output_type": "stream",
     "text": [
      "/usr/local/lib/python3.8/site-packages/preprocessy/outliers/_handleoutlier.py:116: UserWarning: remove_outliers and replace both are False, thus no operation will be performed on dataframe, please specify either of the argument as True \n",
      "  warnings.warn(\n"
     ]
    },
    {
     "name": "stdout",
     "output_type": "stream",
     "text": [
      "==> Completed Stage: Execute\n",
      "==> Completed Stage: Train test split\n",
      "Pipeline Stages |████████████████████████████████████████| 7/7 [100%] in 4.8s (1.45/s)\n",
      "\n",
      "Pipeline Completed Successfully\n",
      "\n",
      "\n",
      "Pipeline Class: StandardPipeline\n",
      "\n",
      "+-----------------------+---------------------------------------------------------------------------------------+\n",
      "| Pipeline Property     | Value                                                                                 |\n",
      "+-----------------------+---------------------------------------------------------------------------------------+\n",
      "| Train Dataframe Path  | ../datasets/classification/census.csv                                                 |\n",
      "| Test Dataframe Path   | None                                                                                  |\n",
      "| Config File Path      | None                                                                                  |\n",
      "| Pipeline Stages       | Read file, Parse dataset, Execute, Encode, Handle outliers, Execute, Train test split |\n",
      "| Total Pipeline Stages | 7                                                                                     |\n",
      "| Total Params          | 9                                                                                     |\n",
      "+-----------------------+---------------------------------------------------------------------------------------+\n",
      "Processing...\n",
      "==> Completed Stage: Read file\n",
      "==> Completed Stage: Parse dataset\n",
      "==> Completed Stage: Execute\n",
      "==> Completed Stage: Encode\n",
      "==> Completed Stage: Handle outliers\n"
     ]
    },
    {
     "name": "stderr",
     "output_type": "stream",
     "text": [
      "/usr/local/lib/python3.8/site-packages/preprocessy/outliers/_handleoutlier.py:116: UserWarning: remove_outliers and replace both are False, thus no operation will be performed on dataframe, please specify either of the argument as True \n",
      "  warnings.warn(\n"
     ]
    },
    {
     "name": "stdout",
     "output_type": "stream",
     "text": [
      "==> Completed Stage: Execute\n",
      "==> Completed Stage: Train test split\n",
      "Pipeline Stages |████████████████████████████████████████| 7/7 [100%] in 5.3s (1.33/s)\n",
      "\n",
      "Pipeline Completed Successfully\n",
      "\n",
      "\n",
      "Pipeline Class: StandardPipeline\n",
      "\n",
      "+-----------------------+---------------------------------------------------------------------------------------+\n",
      "| Pipeline Property     | Value                                                                                 |\n",
      "+-----------------------+---------------------------------------------------------------------------------------+\n",
      "| Train Dataframe Path  | ../datasets/classification/census.csv                                                 |\n",
      "| Test Dataframe Path   | None                                                                                  |\n",
      "| Config File Path      | None                                                                                  |\n",
      "| Pipeline Stages       | Read file, Parse dataset, Execute, Encode, Handle outliers, Execute, Train test split |\n",
      "| Total Pipeline Stages | 7                                                                                     |\n",
      "| Total Params          | 9                                                                                     |\n",
      "+-----------------------+---------------------------------------------------------------------------------------+\n",
      "Processing...\n",
      "==> Completed Stage: Read file\n",
      "==> Completed Stage: Parse dataset\n",
      "==> Completed Stage: Execute\n",
      "==> Completed Stage: Encode\n",
      "==> Completed Stage: Handle outliers\n"
     ]
    },
    {
     "name": "stderr",
     "output_type": "stream",
     "text": [
      "/usr/local/lib/python3.8/site-packages/preprocessy/outliers/_handleoutlier.py:116: UserWarning: remove_outliers and replace both are False, thus no operation will be performed on dataframe, please specify either of the argument as True \n",
      "  warnings.warn(\n"
     ]
    },
    {
     "name": "stdout",
     "output_type": "stream",
     "text": [
      "==> Completed Stage: Execute\n",
      "==> Completed Stage: Train test split\n",
      "Pipeline Stages |████████████████████████████████████████| 7/7 [100%] in 5.0s (1.41/s)\n",
      "\n",
      "Pipeline Completed Successfully\n",
      "\n",
      "\n",
      "Pipeline Class: StandardPipeline\n",
      "\n",
      "+-----------------------+---------------------------------------------------------------------------------------+\n",
      "| Pipeline Property     | Value                                                                                 |\n",
      "+-----------------------+---------------------------------------------------------------------------------------+\n",
      "| Train Dataframe Path  | ../datasets/classification/census.csv                                                 |\n",
      "| Test Dataframe Path   | None                                                                                  |\n",
      "| Config File Path      | None                                                                                  |\n",
      "| Pipeline Stages       | Read file, Parse dataset, Execute, Encode, Handle outliers, Execute, Train test split |\n",
      "| Total Pipeline Stages | 7                                                                                     |\n",
      "| Total Params          | 9                                                                                     |\n",
      "+-----------------------+---------------------------------------------------------------------------------------+\n",
      "Processing...\n",
      "==> Completed Stage: Read file\n",
      "==> Completed Stage: Parse dataset\n",
      "==> Completed Stage: Execute\n",
      "==> Completed Stage: Encode\n",
      "==> Completed Stage: Handle outliers\n"
     ]
    },
    {
     "name": "stderr",
     "output_type": "stream",
     "text": [
      "/usr/local/lib/python3.8/site-packages/preprocessy/outliers/_handleoutlier.py:116: UserWarning: remove_outliers and replace both are False, thus no operation will be performed on dataframe, please specify either of the argument as True \n",
      "  warnings.warn(\n"
     ]
    },
    {
     "name": "stdout",
     "output_type": "stream",
     "text": [
      "==> Completed Stage: Execute\n",
      "==> Completed Stage: Train test split\n",
      "Pipeline Stages |████████████████████████████████████████| 7/7 [100%] in 6.5s (1.08/s)\n",
      "\n",
      "Pipeline Completed Successfully\n",
      "\n",
      "\n",
      "Pipeline Class: StandardPipeline\n",
      "\n",
      "+-----------------------+---------------------------------------------------------------------------------------+\n",
      "| Pipeline Property     | Value                                                                                 |\n",
      "+-----------------------+---------------------------------------------------------------------------------------+\n",
      "| Train Dataframe Path  | ../datasets/classification/census.csv                                                 |\n",
      "| Test Dataframe Path   | None                                                                                  |\n",
      "| Config File Path      | None                                                                                  |\n",
      "| Pipeline Stages       | Read file, Parse dataset, Execute, Encode, Handle outliers, Execute, Train test split |\n",
      "| Total Pipeline Stages | 7                                                                                     |\n",
      "| Total Params          | 9                                                                                     |\n",
      "+-----------------------+---------------------------------------------------------------------------------------+\n",
      "Processing...\n",
      "==> Completed Stage: Read file\n",
      "==> Completed Stage: Parse dataset\n",
      "==> Completed Stage: Execute\n",
      "==> Completed Stage: Encode\n",
      "==> Completed Stage: Handle outliers\n"
     ]
    },
    {
     "name": "stderr",
     "output_type": "stream",
     "text": [
      "/usr/local/lib/python3.8/site-packages/preprocessy/outliers/_handleoutlier.py:116: UserWarning: remove_outliers and replace both are False, thus no operation will be performed on dataframe, please specify either of the argument as True \n",
      "  warnings.warn(\n"
     ]
    },
    {
     "name": "stdout",
     "output_type": "stream",
     "text": [
      "==> Completed Stage: Execute\n",
      "==> Completed Stage: Train test split\n",
      "Pipeline Stages |████████████████████████████████████████| 7/7 [100%] in 5.3s (1.31/s)\n",
      "\n",
      "Pipeline Completed Successfully\n",
      "\n",
      "\n",
      "Pipeline Class: StandardPipeline\n",
      "\n",
      "+-----------------------+---------------------------------------------------------------------------------------+\n",
      "| Pipeline Property     | Value                                                                                 |\n",
      "+-----------------------+---------------------------------------------------------------------------------------+\n",
      "| Train Dataframe Path  | ../datasets/classification/census.csv                                                 |\n",
      "| Test Dataframe Path   | None                                                                                  |\n",
      "| Config File Path      | None                                                                                  |\n",
      "| Pipeline Stages       | Read file, Parse dataset, Execute, Encode, Handle outliers, Execute, Train test split |\n",
      "| Total Pipeline Stages | 7                                                                                     |\n",
      "| Total Params          | 9                                                                                     |\n",
      "+-----------------------+---------------------------------------------------------------------------------------+\n",
      "Processing...\n",
      "==> Completed Stage: Read file\n",
      "==> Completed Stage: Parse dataset\n",
      "==> Completed Stage: Execute\n",
      "==> Completed Stage: Encode\n",
      "==> Completed Stage: Handle outliers\n"
     ]
    },
    {
     "name": "stderr",
     "output_type": "stream",
     "text": [
      "/usr/local/lib/python3.8/site-packages/preprocessy/outliers/_handleoutlier.py:116: UserWarning: remove_outliers and replace both are False, thus no operation will be performed on dataframe, please specify either of the argument as True \n",
      "  warnings.warn(\n"
     ]
    },
    {
     "name": "stdout",
     "output_type": "stream",
     "text": [
      "==> Completed Stage: Execute\n",
      "==> Completed Stage: Train test split\n",
      "Pipeline Stages |████████████████████████████████████████| 7/7 [100%] in 5.1s (1.38/s)\n",
      "\n",
      "Pipeline Completed Successfully\n",
      "\n",
      "\n",
      "Pipeline Class: StandardPipeline\n",
      "\n",
      "+-----------------------+---------------------------------------------------------------------------------------+\n",
      "| Pipeline Property     | Value                                                                                 |\n",
      "+-----------------------+---------------------------------------------------------------------------------------+\n",
      "| Train Dataframe Path  | ../datasets/classification/census.csv                                                 |\n",
      "| Test Dataframe Path   | None                                                                                  |\n",
      "| Config File Path      | None                                                                                  |\n",
      "| Pipeline Stages       | Read file, Parse dataset, Execute, Encode, Handle outliers, Execute, Train test split |\n",
      "| Total Pipeline Stages | 7                                                                                     |\n",
      "| Total Params          | 9                                                                                     |\n",
      "+-----------------------+---------------------------------------------------------------------------------------+\n",
      "Processing...\n",
      "==> Completed Stage: Read file\n",
      "==> Completed Stage: Parse dataset\n",
      "==> Completed Stage: Execute\n",
      "==> Completed Stage: Encode\n",
      "==> Completed Stage: Handle outliers\n"
     ]
    },
    {
     "name": "stderr",
     "output_type": "stream",
     "text": [
      "/usr/local/lib/python3.8/site-packages/preprocessy/outliers/_handleoutlier.py:116: UserWarning: remove_outliers and replace both are False, thus no operation will be performed on dataframe, please specify either of the argument as True \n",
      "  warnings.warn(\n"
     ]
    },
    {
     "name": "stdout",
     "output_type": "stream",
     "text": [
      "==> Completed Stage: Execute\n",
      "==> Completed Stage: Train test split\n",
      "Pipeline Stages |████████████████████████████████████████| 7/7 [100%] in 5.3s (1.32/s)\n",
      "\n",
      "Pipeline Completed Successfully\n",
      "\n",
      "\n",
      "Pipeline Class: StandardPipeline\n",
      "\n",
      "+-----------------------+---------------------------------------------------------------------------------------+\n",
      "| Pipeline Property     | Value                                                                                 |\n",
      "+-----------------------+---------------------------------------------------------------------------------------+\n",
      "| Train Dataframe Path  | ../datasets/classification/census.csv                                                 |\n",
      "| Test Dataframe Path   | None                                                                                  |\n",
      "| Config File Path      | None                                                                                  |\n",
      "| Pipeline Stages       | Read file, Parse dataset, Execute, Encode, Handle outliers, Execute, Train test split |\n",
      "| Total Pipeline Stages | 7                                                                                     |\n",
      "| Total Params          | 9                                                                                     |\n",
      "+-----------------------+---------------------------------------------------------------------------------------+\n",
      "Processing...\n",
      "==> Completed Stage: Read file\n",
      "==> Completed Stage: Parse dataset\n",
      "==> Completed Stage: Execute\n",
      "==> Completed Stage: Encode\n",
      "==> Completed Stage: Handle outliers\n"
     ]
    },
    {
     "name": "stderr",
     "output_type": "stream",
     "text": [
      "/usr/local/lib/python3.8/site-packages/preprocessy/outliers/_handleoutlier.py:116: UserWarning: remove_outliers and replace both are False, thus no operation will be performed on dataframe, please specify either of the argument as True \n",
      "  warnings.warn(\n"
     ]
    },
    {
     "name": "stdout",
     "output_type": "stream",
     "text": [
      "==> Completed Stage: Execute\n",
      "==> Completed Stage: Train test split\n",
      "Pipeline Stages |████████████████████████████████████████| 7/7 [100%] in 5.7s (1.22/s)\n",
      "\n",
      "Pipeline Completed Successfully\n",
      "\n",
      "\n",
      "Pipeline Class: StandardPipeline\n",
      "\n",
      "+-----------------------+---------------------------------------------------------------------------------------+\n",
      "| Pipeline Property     | Value                                                                                 |\n",
      "+-----------------------+---------------------------------------------------------------------------------------+\n",
      "| Train Dataframe Path  | ../datasets/classification/census.csv                                                 |\n",
      "| Test Dataframe Path   | None                                                                                  |\n",
      "| Config File Path      | None                                                                                  |\n",
      "| Pipeline Stages       | Read file, Parse dataset, Execute, Encode, Handle outliers, Execute, Train test split |\n",
      "| Total Pipeline Stages | 7                                                                                     |\n",
      "| Total Params          | 9                                                                                     |\n",
      "+-----------------------+---------------------------------------------------------------------------------------+\n",
      "Processing...\n",
      "==> Completed Stage: Read file\n",
      "==> Completed Stage: Parse dataset\n",
      "==> Completed Stage: Execute\n",
      "==> Completed Stage: Encode\n",
      "==> Completed Stage: Handle outliers\n"
     ]
    },
    {
     "name": "stderr",
     "output_type": "stream",
     "text": [
      "/usr/local/lib/python3.8/site-packages/preprocessy/outliers/_handleoutlier.py:116: UserWarning: remove_outliers and replace both are False, thus no operation will be performed on dataframe, please specify either of the argument as True \n",
      "  warnings.warn(\n"
     ]
    },
    {
     "name": "stdout",
     "output_type": "stream",
     "text": [
      "==> Completed Stage: Execute\n",
      "==> Completed Stage: Train test split\n",
      "Pipeline Stages |████████████████████████████████████████| 7/7 [100%] in 6.1s (1.16/s)\n",
      "\n",
      "Pipeline Completed Successfully\n",
      "\n",
      "\n",
      "Pipeline Class: StandardPipeline\n",
      "\n",
      "+-----------------------+---------------------------------------------------------------------------------------+\n",
      "| Pipeline Property     | Value                                                                                 |\n",
      "+-----------------------+---------------------------------------------------------------------------------------+\n",
      "| Train Dataframe Path  | ../datasets/classification/census.csv                                                 |\n",
      "| Test Dataframe Path   | None                                                                                  |\n",
      "| Config File Path      | None                                                                                  |\n",
      "| Pipeline Stages       | Read file, Parse dataset, Execute, Encode, Handle outliers, Execute, Train test split |\n",
      "| Total Pipeline Stages | 7                                                                                     |\n",
      "| Total Params          | 9                                                                                     |\n",
      "+-----------------------+---------------------------------------------------------------------------------------+\n",
      "Processing...\n",
      "==> Completed Stage: Read file\n",
      "==> Completed Stage: Parse dataset\n",
      "==> Completed Stage: Execute\n",
      "==> Completed Stage: Encode\n",
      "==> Completed Stage: Handle outliers\n"
     ]
    },
    {
     "name": "stderr",
     "output_type": "stream",
     "text": [
      "/usr/local/lib/python3.8/site-packages/preprocessy/outliers/_handleoutlier.py:116: UserWarning: remove_outliers and replace both are False, thus no operation will be performed on dataframe, please specify either of the argument as True \n",
      "  warnings.warn(\n"
     ]
    },
    {
     "name": "stdout",
     "output_type": "stream",
     "text": [
      "==> Completed Stage: Execute\n",
      "==> Completed Stage: Train test split\n",
      "Pipeline Stages |████████████████████████████████████████| 7/7 [100%] in 5.1s (1.37/s)\n",
      "\n",
      "Pipeline Completed Successfully\n",
      "\n",
      "\n",
      "Pipeline Class: StandardPipeline\n",
      "\n",
      "+-----------------------+---------------------------------------------------------------------------------------+\n",
      "| Pipeline Property     | Value                                                                                 |\n",
      "+-----------------------+---------------------------------------------------------------------------------------+\n",
      "| Train Dataframe Path  | ../datasets/classification/census.csv                                                 |\n",
      "| Test Dataframe Path   | None                                                                                  |\n",
      "| Config File Path      | None                                                                                  |\n",
      "| Pipeline Stages       | Read file, Parse dataset, Execute, Encode, Handle outliers, Execute, Train test split |\n",
      "| Total Pipeline Stages | 7                                                                                     |\n",
      "| Total Params          | 9                                                                                     |\n",
      "+-----------------------+---------------------------------------------------------------------------------------+\n",
      "Processing...\n",
      "==> Completed Stage: Read file\n",
      "==> Completed Stage: Parse dataset\n",
      "==> Completed Stage: Execute\n",
      "==> Completed Stage: Encode\n",
      "==> Completed Stage: Handle outliers\n"
     ]
    },
    {
     "name": "stderr",
     "output_type": "stream",
     "text": [
      "/usr/local/lib/python3.8/site-packages/preprocessy/outliers/_handleoutlier.py:116: UserWarning: remove_outliers and replace both are False, thus no operation will be performed on dataframe, please specify either of the argument as True \n",
      "  warnings.warn(\n"
     ]
    },
    {
     "name": "stdout",
     "output_type": "stream",
     "text": [
      "==> Completed Stage: Execute\n",
      "==> Completed Stage: Train test split\n",
      "Pipeline Stages |████████████████████████████████████████| 7/7 [100%] in 5.1s (1.38/s)\n",
      "\n",
      "Pipeline Completed Successfully\n",
      "\n",
      "\n",
      "Pipeline Class: StandardPipeline\n",
      "\n",
      "+-----------------------+---------------------------------------------------------------------------------------+\n",
      "| Pipeline Property     | Value                                                                                 |\n",
      "+-----------------------+---------------------------------------------------------------------------------------+\n",
      "| Train Dataframe Path  | ../datasets/classification/census.csv                                                 |\n",
      "| Test Dataframe Path   | None                                                                                  |\n",
      "| Config File Path      | None                                                                                  |\n",
      "| Pipeline Stages       | Read file, Parse dataset, Execute, Encode, Handle outliers, Execute, Train test split |\n",
      "| Total Pipeline Stages | 7                                                                                     |\n",
      "| Total Params          | 9                                                                                     |\n",
      "+-----------------------+---------------------------------------------------------------------------------------+\n",
      "Processing...\n",
      "==> Completed Stage: Read file\n",
      "==> Completed Stage: Parse dataset\n",
      "==> Completed Stage: Execute\n",
      "==> Completed Stage: Encode\n",
      "==> Completed Stage: Handle outliers\n"
     ]
    },
    {
     "name": "stderr",
     "output_type": "stream",
     "text": [
      "/usr/local/lib/python3.8/site-packages/preprocessy/outliers/_handleoutlier.py:116: UserWarning: remove_outliers and replace both are False, thus no operation will be performed on dataframe, please specify either of the argument as True \n",
      "  warnings.warn(\n"
     ]
    },
    {
     "name": "stdout",
     "output_type": "stream",
     "text": [
      "==> Completed Stage: Execute\n",
      "==> Completed Stage: Train test split\n",
      "Pipeline Stages |████████████████████████████████████████| 7/7 [100%] in 4.9s (1.42/s)\n",
      "\n",
      "Pipeline Completed Successfully\n",
      "\n",
      "\n",
      "Pipeline Class: StandardPipeline\n",
      "\n",
      "+-----------------------+---------------------------------------------------------------------------------------+\n",
      "| Pipeline Property     | Value                                                                                 |\n",
      "+-----------------------+---------------------------------------------------------------------------------------+\n",
      "| Train Dataframe Path  | ../datasets/classification/census.csv                                                 |\n",
      "| Test Dataframe Path   | None                                                                                  |\n",
      "| Config File Path      | None                                                                                  |\n",
      "| Pipeline Stages       | Read file, Parse dataset, Execute, Encode, Handle outliers, Execute, Train test split |\n",
      "| Total Pipeline Stages | 7                                                                                     |\n",
      "| Total Params          | 9                                                                                     |\n",
      "+-----------------------+---------------------------------------------------------------------------------------+\n",
      "Processing...\n",
      "==> Completed Stage: Read file\n",
      "==> Completed Stage: Parse dataset\n",
      "==> Completed Stage: Execute\n",
      "==> Completed Stage: Encode\n",
      "==> Completed Stage: Handle outliers\n"
     ]
    },
    {
     "name": "stderr",
     "output_type": "stream",
     "text": [
      "/usr/local/lib/python3.8/site-packages/preprocessy/outliers/_handleoutlier.py:116: UserWarning: remove_outliers and replace both are False, thus no operation will be performed on dataframe, please specify either of the argument as True \n",
      "  warnings.warn(\n"
     ]
    },
    {
     "name": "stdout",
     "output_type": "stream",
     "text": [
      "==> Completed Stage: Execute\n",
      "==> Completed Stage: Train test split\n",
      "Pipeline Stages |████████████████████████████████████████| 7/7 [100%] in 4.9s (1.44/s)\n",
      "\n",
      "Pipeline Completed Successfully\n",
      "\n",
      "\n",
      "Pipeline Class: StandardPipeline\n",
      "\n",
      "+-----------------------+---------------------------------------------------------------------------------------+\n",
      "| Pipeline Property     | Value                                                                                 |\n",
      "+-----------------------+---------------------------------------------------------------------------------------+\n",
      "| Train Dataframe Path  | ../datasets/classification/census.csv                                                 |\n",
      "| Test Dataframe Path   | None                                                                                  |\n",
      "| Config File Path      | None                                                                                  |\n",
      "| Pipeline Stages       | Read file, Parse dataset, Execute, Encode, Handle outliers, Execute, Train test split |\n",
      "| Total Pipeline Stages | 7                                                                                     |\n",
      "| Total Params          | 9                                                                                     |\n",
      "+-----------------------+---------------------------------------------------------------------------------------+\n",
      "Processing...\n",
      "==> Completed Stage: Read file\n",
      "==> Completed Stage: Parse dataset\n",
      "==> Completed Stage: Execute\n",
      "==> Completed Stage: Encode\n",
      "==> Completed Stage: Handle outliers\n"
     ]
    },
    {
     "name": "stderr",
     "output_type": "stream",
     "text": [
      "/usr/local/lib/python3.8/site-packages/preprocessy/outliers/_handleoutlier.py:116: UserWarning: remove_outliers and replace both are False, thus no operation will be performed on dataframe, please specify either of the argument as True \n",
      "  warnings.warn(\n"
     ]
    },
    {
     "name": "stdout",
     "output_type": "stream",
     "text": [
      "==> Completed Stage: Execute\n",
      "==> Completed Stage: Train test split\n",
      "Pipeline Stages |████████████████████████████████████████| 7/7 [100%] in 4.8s (1.45/s)\n",
      "\n",
      "Pipeline Completed Successfully\n",
      "\n",
      "\n",
      "Pipeline Class: StandardPipeline\n",
      "\n",
      "+-----------------------+---------------------------------------------------------------------------------------+\n",
      "| Pipeline Property     | Value                                                                                 |\n",
      "+-----------------------+---------------------------------------------------------------------------------------+\n",
      "| Train Dataframe Path  | ../datasets/classification/census.csv                                                 |\n",
      "| Test Dataframe Path   | None                                                                                  |\n",
      "| Config File Path      | None                                                                                  |\n",
      "| Pipeline Stages       | Read file, Parse dataset, Execute, Encode, Handle outliers, Execute, Train test split |\n",
      "| Total Pipeline Stages | 7                                                                                     |\n",
      "| Total Params          | 9                                                                                     |\n",
      "+-----------------------+---------------------------------------------------------------------------------------+\n",
      "Processing...\n",
      "==> Completed Stage: Read file\n",
      "==> Completed Stage: Parse dataset\n",
      "==> Completed Stage: Execute\n",
      "==> Completed Stage: Encode\n",
      "==> Completed Stage: Handle outliers\n"
     ]
    },
    {
     "name": "stderr",
     "output_type": "stream",
     "text": [
      "/usr/local/lib/python3.8/site-packages/preprocessy/outliers/_handleoutlier.py:116: UserWarning: remove_outliers and replace both are False, thus no operation will be performed on dataframe, please specify either of the argument as True \n",
      "  warnings.warn(\n"
     ]
    },
    {
     "name": "stdout",
     "output_type": "stream",
     "text": [
      "==> Completed Stage: Execute\n",
      "==> Completed Stage: Train test split\n",
      "Pipeline Stages |████████████████████████████████████████| 7/7 [100%] in 4.9s (1.44/s)\n",
      "\n",
      "Pipeline Completed Successfully\n",
      "\n",
      "\n",
      "Pipeline Class: StandardPipeline\n",
      "\n",
      "+-----------------------+---------------------------------------------------------------------------------------+\n",
      "| Pipeline Property     | Value                                                                                 |\n",
      "+-----------------------+---------------------------------------------------------------------------------------+\n",
      "| Train Dataframe Path  | ../datasets/classification/census.csv                                                 |\n",
      "| Test Dataframe Path   | None                                                                                  |\n",
      "| Config File Path      | None                                                                                  |\n",
      "| Pipeline Stages       | Read file, Parse dataset, Execute, Encode, Handle outliers, Execute, Train test split |\n",
      "| Total Pipeline Stages | 7                                                                                     |\n",
      "| Total Params          | 9                                                                                     |\n",
      "+-----------------------+---------------------------------------------------------------------------------------+\n",
      "Processing...\n",
      "==> Completed Stage: Read file\n",
      "==> Completed Stage: Parse dataset\n",
      "==> Completed Stage: Execute\n",
      "==> Completed Stage: Encode\n",
      "==> Completed Stage: Handle outliers\n"
     ]
    },
    {
     "name": "stderr",
     "output_type": "stream",
     "text": [
      "/usr/local/lib/python3.8/site-packages/preprocessy/outliers/_handleoutlier.py:116: UserWarning: remove_outliers and replace both are False, thus no operation will be performed on dataframe, please specify either of the argument as True \n",
      "  warnings.warn(\n"
     ]
    },
    {
     "name": "stdout",
     "output_type": "stream",
     "text": [
      "==> Completed Stage: Execute\n",
      "==> Completed Stage: Train test split\n",
      "Pipeline Stages |████████████████████████████████████████| 7/7 [100%] in 5.0s (1.41/s)\n",
      "\n",
      "Pipeline Completed Successfully\n",
      "\n",
      "\n",
      "Pipeline Class: StandardPipeline\n",
      "\n",
      "+-----------------------+---------------------------------------------------------------------------------------+\n",
      "| Pipeline Property     | Value                                                                                 |\n",
      "+-----------------------+---------------------------------------------------------------------------------------+\n",
      "| Train Dataframe Path  | ../datasets/classification/census.csv                                                 |\n",
      "| Test Dataframe Path   | None                                                                                  |\n",
      "| Config File Path      | None                                                                                  |\n",
      "| Pipeline Stages       | Read file, Parse dataset, Execute, Encode, Handle outliers, Execute, Train test split |\n",
      "| Total Pipeline Stages | 7                                                                                     |\n",
      "| Total Params          | 9                                                                                     |\n",
      "+-----------------------+---------------------------------------------------------------------------------------+\n",
      "Processing...\n",
      "==> Completed Stage: Read file\n",
      "==> Completed Stage: Parse dataset\n",
      "==> Completed Stage: Execute\n",
      "==> Completed Stage: Encode\n",
      "==> Completed Stage: Handle outliers\n"
     ]
    },
    {
     "name": "stderr",
     "output_type": "stream",
     "text": [
      "/usr/local/lib/python3.8/site-packages/preprocessy/outliers/_handleoutlier.py:116: UserWarning: remove_outliers and replace both are False, thus no operation will be performed on dataframe, please specify either of the argument as True \n",
      "  warnings.warn(\n"
     ]
    },
    {
     "name": "stdout",
     "output_type": "stream",
     "text": [
      "==> Completed Stage: Execute\n",
      "==> Completed Stage: Train test split\n",
      "Pipeline Stages |████████████████████████████████████████| 7/7 [100%] in 5.1s (1.36/s)\n",
      "\n",
      "Pipeline Completed Successfully\n",
      "\n",
      "\n",
      "Pipeline Class: StandardPipeline\n",
      "\n",
      "+-----------------------+---------------------------------------------------------------------------------------+\n",
      "| Pipeline Property     | Value                                                                                 |\n",
      "+-----------------------+---------------------------------------------------------------------------------------+\n",
      "| Train Dataframe Path  | ../datasets/classification/census.csv                                                 |\n",
      "| Test Dataframe Path   | None                                                                                  |\n",
      "| Config File Path      | None                                                                                  |\n",
      "| Pipeline Stages       | Read file, Parse dataset, Execute, Encode, Handle outliers, Execute, Train test split |\n",
      "| Total Pipeline Stages | 7                                                                                     |\n",
      "| Total Params          | 9                                                                                     |\n",
      "+-----------------------+---------------------------------------------------------------------------------------+\n",
      "Processing...\n",
      "==> Completed Stage: Read file\n",
      "==> Completed Stage: Parse dataset\n",
      "==> Completed Stage: Execute\n",
      "==> Completed Stage: Encode\n",
      "==> Completed Stage: Handle outliers\n"
     ]
    },
    {
     "name": "stderr",
     "output_type": "stream",
     "text": [
      "/usr/local/lib/python3.8/site-packages/preprocessy/outliers/_handleoutlier.py:116: UserWarning: remove_outliers and replace both are False, thus no operation will be performed on dataframe, please specify either of the argument as True \n",
      "  warnings.warn(\n"
     ]
    },
    {
     "name": "stdout",
     "output_type": "stream",
     "text": [
      "==> Completed Stage: Execute\n",
      "==> Completed Stage: Train test split\n",
      "Pipeline Stages |████████████████████████████████████████| 7/7 [100%] in 5.0s (1.41/s)\n",
      "\n",
      "Pipeline Completed Successfully\n",
      "\n",
      "\n",
      "Pipeline Class: StandardPipeline\n",
      "\n",
      "+-----------------------+---------------------------------------------------------------------------------------+\n",
      "| Pipeline Property     | Value                                                                                 |\n",
      "+-----------------------+---------------------------------------------------------------------------------------+\n",
      "| Train Dataframe Path  | ../datasets/classification/census.csv                                                 |\n",
      "| Test Dataframe Path   | None                                                                                  |\n",
      "| Config File Path      | None                                                                                  |\n",
      "| Pipeline Stages       | Read file, Parse dataset, Execute, Encode, Handle outliers, Execute, Train test split |\n",
      "| Total Pipeline Stages | 7                                                                                     |\n",
      "| Total Params          | 9                                                                                     |\n",
      "+-----------------------+---------------------------------------------------------------------------------------+\n",
      "Processing...\n",
      "==> Completed Stage: Read file\n",
      "==> Completed Stage: Parse dataset\n",
      "==> Completed Stage: Execute\n",
      "==> Completed Stage: Encode\n",
      "==> Completed Stage: Handle outliers\n"
     ]
    },
    {
     "name": "stderr",
     "output_type": "stream",
     "text": [
      "/usr/local/lib/python3.8/site-packages/preprocessy/outliers/_handleoutlier.py:116: UserWarning: remove_outliers and replace both are False, thus no operation will be performed on dataframe, please specify either of the argument as True \n",
      "  warnings.warn(\n"
     ]
    },
    {
     "name": "stdout",
     "output_type": "stream",
     "text": [
      "==> Completed Stage: Execute\n",
      "==> Completed Stage: Train test split\n",
      "Pipeline Stages |████████████████████████████████████████| 7/7 [100%] in 5.2s (1.35/s)\n",
      "\n",
      "Pipeline Completed Successfully\n",
      "\n",
      "\n",
      "Pipeline Class: StandardPipeline\n",
      "\n",
      "+-----------------------+---------------------------------------------------------------------------------------+\n",
      "| Pipeline Property     | Value                                                                                 |\n",
      "+-----------------------+---------------------------------------------------------------------------------------+\n",
      "| Train Dataframe Path  | ../datasets/classification/census.csv                                                 |\n",
      "| Test Dataframe Path   | None                                                                                  |\n",
      "| Config File Path      | None                                                                                  |\n",
      "| Pipeline Stages       | Read file, Parse dataset, Execute, Encode, Handle outliers, Execute, Train test split |\n",
      "| Total Pipeline Stages | 7                                                                                     |\n",
      "| Total Params          | 9                                                                                     |\n",
      "+-----------------------+---------------------------------------------------------------------------------------+\n",
      "Processing...\n",
      "==> Completed Stage: Read file\n",
      "==> Completed Stage: Parse dataset\n",
      "==> Completed Stage: Execute\n",
      "==> Completed Stage: Encode\n",
      "==> Completed Stage: Handle outliers\n"
     ]
    },
    {
     "name": "stderr",
     "output_type": "stream",
     "text": [
      "/usr/local/lib/python3.8/site-packages/preprocessy/outliers/_handleoutlier.py:116: UserWarning: remove_outliers and replace both are False, thus no operation will be performed on dataframe, please specify either of the argument as True \n",
      "  warnings.warn(\n"
     ]
    },
    {
     "name": "stdout",
     "output_type": "stream",
     "text": [
      "==> Completed Stage: Execute\n",
      "==> Completed Stage: Train test split\n",
      "Pipeline Stages |████████████████████████████████████████| 7/7 [100%] in 5.0s (1.41/s)\n",
      "\n",
      "Pipeline Completed Successfully\n",
      "\n",
      "\n",
      "Pipeline Class: StandardPipeline\n",
      "\n",
      "+-----------------------+---------------------------------------------------------------------------------------+\n",
      "| Pipeline Property     | Value                                                                                 |\n",
      "+-----------------------+---------------------------------------------------------------------------------------+\n",
      "| Train Dataframe Path  | ../datasets/classification/census.csv                                                 |\n",
      "| Test Dataframe Path   | None                                                                                  |\n",
      "| Config File Path      | None                                                                                  |\n",
      "| Pipeline Stages       | Read file, Parse dataset, Execute, Encode, Handle outliers, Execute, Train test split |\n",
      "| Total Pipeline Stages | 7                                                                                     |\n",
      "| Total Params          | 9                                                                                     |\n",
      "+-----------------------+---------------------------------------------------------------------------------------+\n",
      "Processing...\n",
      "==> Completed Stage: Read file\n",
      "==> Completed Stage: Parse dataset\n",
      "==> Completed Stage: Execute\n",
      "==> Completed Stage: Encode\n",
      "==> Completed Stage: Handle outliers\n"
     ]
    },
    {
     "name": "stderr",
     "output_type": "stream",
     "text": [
      "/usr/local/lib/python3.8/site-packages/preprocessy/outliers/_handleoutlier.py:116: UserWarning: remove_outliers and replace both are False, thus no operation will be performed on dataframe, please specify either of the argument as True \n",
      "  warnings.warn(\n"
     ]
    },
    {
     "name": "stdout",
     "output_type": "stream",
     "text": [
      "==> Completed Stage: Execute\n",
      "==> Completed Stage: Train test split\n",
      "Pipeline Stages |████████████████████████████████████████| 7/7 [100%] in 5.5s (1.27/s)\n",
      "\n",
      "Pipeline Completed Successfully\n",
      "\n",
      "\n",
      "Pipeline Class: StandardPipeline\n",
      "\n",
      "+-----------------------+---------------------------------------------------------------------------------------+\n",
      "| Pipeline Property     | Value                                                                                 |\n",
      "+-----------------------+---------------------------------------------------------------------------------------+\n",
      "| Train Dataframe Path  | ../datasets/classification/census.csv                                                 |\n",
      "| Test Dataframe Path   | None                                                                                  |\n",
      "| Config File Path      | None                                                                                  |\n",
      "| Pipeline Stages       | Read file, Parse dataset, Execute, Encode, Handle outliers, Execute, Train test split |\n",
      "| Total Pipeline Stages | 7                                                                                     |\n",
      "| Total Params          | 9                                                                                     |\n",
      "+-----------------------+---------------------------------------------------------------------------------------+\n",
      "Processing...\n",
      "==> Completed Stage: Read file\n",
      "==> Completed Stage: Parse dataset\n",
      "==> Completed Stage: Execute\n",
      "==> Completed Stage: Encode\n",
      "==> Completed Stage: Handle outliers\n"
     ]
    },
    {
     "name": "stderr",
     "output_type": "stream",
     "text": [
      "/usr/local/lib/python3.8/site-packages/preprocessy/outliers/_handleoutlier.py:116: UserWarning: remove_outliers and replace both are False, thus no operation will be performed on dataframe, please specify either of the argument as True \n",
      "  warnings.warn(\n"
     ]
    },
    {
     "name": "stdout",
     "output_type": "stream",
     "text": [
      "==> Completed Stage: Execute\n",
      "==> Completed Stage: Train test split\n",
      "Pipeline Stages |████████████████████████████████████████| 7/7 [100%] in 6.1s (1.15/s)\n",
      "\n",
      "Pipeline Completed Successfully\n",
      "\n",
      "\n",
      "Pipeline Class: StandardPipeline\n",
      "\n",
      "+-----------------------+---------------------------------------------------------------------------------------+\n",
      "| Pipeline Property     | Value                                                                                 |\n",
      "+-----------------------+---------------------------------------------------------------------------------------+\n",
      "| Train Dataframe Path  | ../datasets/classification/census.csv                                                 |\n",
      "| Test Dataframe Path   | None                                                                                  |\n",
      "| Config File Path      | None                                                                                  |\n",
      "| Pipeline Stages       | Read file, Parse dataset, Execute, Encode, Handle outliers, Execute, Train test split |\n",
      "| Total Pipeline Stages | 7                                                                                     |\n",
      "| Total Params          | 9                                                                                     |\n",
      "+-----------------------+---------------------------------------------------------------------------------------+\n",
      "Processing...\n",
      "==> Completed Stage: Read file\n",
      "==> Completed Stage: Parse dataset\n",
      "==> Completed Stage: Execute\n",
      "==> Completed Stage: Encode\n",
      "==> Completed Stage: Handle outliers\n"
     ]
    },
    {
     "name": "stderr",
     "output_type": "stream",
     "text": [
      "/usr/local/lib/python3.8/site-packages/preprocessy/outliers/_handleoutlier.py:116: UserWarning: remove_outliers and replace both are False, thus no operation will be performed on dataframe, please specify either of the argument as True \n",
      "  warnings.warn(\n"
     ]
    },
    {
     "name": "stdout",
     "output_type": "stream",
     "text": [
      "==> Completed Stage: Execute\n",
      "==> Completed Stage: Train test split\n",
      "Pipeline Stages |████████████████████████████████████████| 7/7 [100%] in 5.9s (1.19/s)\n",
      "\n",
      "Pipeline Completed Successfully\n",
      "\n",
      "\n",
      "Pipeline Class: StandardPipeline\n",
      "\n",
      "+-----------------------+---------------------------------------------------------------------------------------+\n",
      "| Pipeline Property     | Value                                                                                 |\n",
      "+-----------------------+---------------------------------------------------------------------------------------+\n",
      "| Train Dataframe Path  | ../datasets/classification/census.csv                                                 |\n",
      "| Test Dataframe Path   | None                                                                                  |\n",
      "| Config File Path      | None                                                                                  |\n",
      "| Pipeline Stages       | Read file, Parse dataset, Execute, Encode, Handle outliers, Execute, Train test split |\n",
      "| Total Pipeline Stages | 7                                                                                     |\n",
      "| Total Params          | 9                                                                                     |\n",
      "+-----------------------+---------------------------------------------------------------------------------------+\n",
      "Processing...\n",
      "==> Completed Stage: Read file\n",
      "==> Completed Stage: Parse dataset\n",
      "==> Completed Stage: Execute\n",
      "==> Completed Stage: Encode\n",
      "==> Completed Stage: Handle outliers\n"
     ]
    },
    {
     "name": "stderr",
     "output_type": "stream",
     "text": [
      "/usr/local/lib/python3.8/site-packages/preprocessy/outliers/_handleoutlier.py:116: UserWarning: remove_outliers and replace both are False, thus no operation will be performed on dataframe, please specify either of the argument as True \n",
      "  warnings.warn(\n"
     ]
    },
    {
     "name": "stdout",
     "output_type": "stream",
     "text": [
      "==> Completed Stage: Execute\n",
      "==> Completed Stage: Train test split\n",
      "Pipeline Stages |████████████████████████████████████████| 7/7 [100%] in 5.4s (1.30/s)\n",
      "\n",
      "Pipeline Completed Successfully\n",
      "\n",
      "\n",
      "Pipeline Class: StandardPipeline\n",
      "\n",
      "+-----------------------+---------------------------------------------------------------------------------------+\n",
      "| Pipeline Property     | Value                                                                                 |\n",
      "+-----------------------+---------------------------------------------------------------------------------------+\n",
      "| Train Dataframe Path  | ../datasets/classification/census.csv                                                 |\n",
      "| Test Dataframe Path   | None                                                                                  |\n",
      "| Config File Path      | None                                                                                  |\n",
      "| Pipeline Stages       | Read file, Parse dataset, Execute, Encode, Handle outliers, Execute, Train test split |\n",
      "| Total Pipeline Stages | 7                                                                                     |\n",
      "| Total Params          | 9                                                                                     |\n",
      "+-----------------------+---------------------------------------------------------------------------------------+\n",
      "Processing...\n",
      "==> Completed Stage: Read file\n",
      "==> Completed Stage: Parse dataset\n",
      "==> Completed Stage: Execute\n",
      "==> Completed Stage: Encode\n",
      "==> Completed Stage: Handle outliers\n"
     ]
    },
    {
     "name": "stderr",
     "output_type": "stream",
     "text": [
      "/usr/local/lib/python3.8/site-packages/preprocessy/outliers/_handleoutlier.py:116: UserWarning: remove_outliers and replace both are False, thus no operation will be performed on dataframe, please specify either of the argument as True \n",
      "  warnings.warn(\n"
     ]
    },
    {
     "name": "stdout",
     "output_type": "stream",
     "text": [
      "==> Completed Stage: Execute\n",
      "==> Completed Stage: Train test split\n",
      "Pipeline Stages |████████████████████████████████████████| 7/7 [100%] in 6.3s (1.12/s)\n",
      "\n",
      "Pipeline Completed Successfully\n",
      "\n",
      "\n",
      "Pipeline Class: StandardPipeline\n",
      "\n",
      "+-----------------------+---------------------------------------------------------------------------------------+\n",
      "| Pipeline Property     | Value                                                                                 |\n",
      "+-----------------------+---------------------------------------------------------------------------------------+\n",
      "| Train Dataframe Path  | ../datasets/classification/census.csv                                                 |\n",
      "| Test Dataframe Path   | None                                                                                  |\n",
      "| Config File Path      | None                                                                                  |\n",
      "| Pipeline Stages       | Read file, Parse dataset, Execute, Encode, Handle outliers, Execute, Train test split |\n",
      "| Total Pipeline Stages | 7                                                                                     |\n",
      "| Total Params          | 9                                                                                     |\n",
      "+-----------------------+---------------------------------------------------------------------------------------+\n",
      "Processing...\n",
      "==> Completed Stage: Read file\n",
      "==> Completed Stage: Parse dataset\n",
      "==> Completed Stage: Execute\n",
      "==> Completed Stage: Encode\n",
      "==> Completed Stage: Handle outliers\n"
     ]
    },
    {
     "name": "stderr",
     "output_type": "stream",
     "text": [
      "/usr/local/lib/python3.8/site-packages/preprocessy/outliers/_handleoutlier.py:116: UserWarning: remove_outliers and replace both are False, thus no operation will be performed on dataframe, please specify either of the argument as True \n",
      "  warnings.warn(\n"
     ]
    },
    {
     "name": "stdout",
     "output_type": "stream",
     "text": [
      "==> Completed Stage: Execute\n",
      "==> Completed Stage: Train test split\n",
      "Pipeline Stages |████████████████████████████████████████| 7/7 [100%] in 5.0s (1.41/s)\n",
      "\n",
      "Pipeline Completed Successfully\n",
      "\n",
      "\n",
      "Pipeline Class: StandardPipeline\n",
      "\n",
      "+-----------------------+---------------------------------------------------------------------------------------+\n",
      "| Pipeline Property     | Value                                                                                 |\n",
      "+-----------------------+---------------------------------------------------------------------------------------+\n",
      "| Train Dataframe Path  | ../datasets/classification/census.csv                                                 |\n",
      "| Test Dataframe Path   | None                                                                                  |\n",
      "| Config File Path      | None                                                                                  |\n",
      "| Pipeline Stages       | Read file, Parse dataset, Execute, Encode, Handle outliers, Execute, Train test split |\n",
      "| Total Pipeline Stages | 7                                                                                     |\n",
      "| Total Params          | 9                                                                                     |\n",
      "+-----------------------+---------------------------------------------------------------------------------------+\n",
      "Processing...\n",
      "==> Completed Stage: Read file\n",
      "==> Completed Stage: Parse dataset\n",
      "==> Completed Stage: Execute\n",
      "==> Completed Stage: Encode\n",
      "==> Completed Stage: Handle outliers\n"
     ]
    },
    {
     "name": "stderr",
     "output_type": "stream",
     "text": [
      "/usr/local/lib/python3.8/site-packages/preprocessy/outliers/_handleoutlier.py:116: UserWarning: remove_outliers and replace both are False, thus no operation will be performed on dataframe, please specify either of the argument as True \n",
      "  warnings.warn(\n"
     ]
    },
    {
     "name": "stdout",
     "output_type": "stream",
     "text": [
      "==> Completed Stage: Execute\n",
      "==> Completed Stage: Train test split\n",
      "Pipeline Stages |████████████████████████████████████████| 7/7 [100%] in 5.8s (1.20/s)\n",
      "\n",
      "Pipeline Completed Successfully\n",
      "\n",
      "\n",
      "Pipeline Class: StandardPipeline\n",
      "\n",
      "+-----------------------+---------------------------------------------------------------------------------------+\n",
      "| Pipeline Property     | Value                                                                                 |\n",
      "+-----------------------+---------------------------------------------------------------------------------------+\n",
      "| Train Dataframe Path  | ../datasets/classification/census.csv                                                 |\n",
      "| Test Dataframe Path   | None                                                                                  |\n",
      "| Config File Path      | None                                                                                  |\n",
      "| Pipeline Stages       | Read file, Parse dataset, Execute, Encode, Handle outliers, Execute, Train test split |\n",
      "| Total Pipeline Stages | 7                                                                                     |\n",
      "| Total Params          | 9                                                                                     |\n",
      "+-----------------------+---------------------------------------------------------------------------------------+\n",
      "Processing...\n",
      "==> Completed Stage: Read file\n",
      "==> Completed Stage: Parse dataset\n",
      "==> Completed Stage: Execute\n",
      "==> Completed Stage: Encode\n",
      "==> Completed Stage: Handle outliers\n"
     ]
    },
    {
     "name": "stderr",
     "output_type": "stream",
     "text": [
      "/usr/local/lib/python3.8/site-packages/preprocessy/outliers/_handleoutlier.py:116: UserWarning: remove_outliers and replace both are False, thus no operation will be performed on dataframe, please specify either of the argument as True \n",
      "  warnings.warn(\n"
     ]
    },
    {
     "name": "stdout",
     "output_type": "stream",
     "text": [
      "==> Completed Stage: Execute\n",
      "==> Completed Stage: Train test split\n",
      "Pipeline Stages |████████████████████████████████████████| 7/7 [100%] in 5.8s (1.21/s)\n",
      "\n",
      "Pipeline Completed Successfully\n",
      "\n",
      "\n",
      "Pipeline Class: StandardPipeline\n",
      "\n",
      "+-----------------------+---------------------------------------------------------------------------------------+\n",
      "| Pipeline Property     | Value                                                                                 |\n",
      "+-----------------------+---------------------------------------------------------------------------------------+\n",
      "| Train Dataframe Path  | ../datasets/classification/census.csv                                                 |\n",
      "| Test Dataframe Path   | None                                                                                  |\n",
      "| Config File Path      | None                                                                                  |\n",
      "| Pipeline Stages       | Read file, Parse dataset, Execute, Encode, Handle outliers, Execute, Train test split |\n",
      "| Total Pipeline Stages | 7                                                                                     |\n",
      "| Total Params          | 9                                                                                     |\n",
      "+-----------------------+---------------------------------------------------------------------------------------+\n",
      "Processing...\n",
      "==> Completed Stage: Read file\n",
      "==> Completed Stage: Parse dataset\n",
      "==> Completed Stage: Execute\n",
      "==> Completed Stage: Encode\n",
      "==> Completed Stage: Handle outliers\n"
     ]
    },
    {
     "name": "stderr",
     "output_type": "stream",
     "text": [
      "/usr/local/lib/python3.8/site-packages/preprocessy/outliers/_handleoutlier.py:116: UserWarning: remove_outliers and replace both are False, thus no operation will be performed on dataframe, please specify either of the argument as True \n",
      "  warnings.warn(\n"
     ]
    },
    {
     "name": "stdout",
     "output_type": "stream",
     "text": [
      "==> Completed Stage: Execute\n",
      "==> Completed Stage: Train test split\n",
      "Pipeline Stages |████████████████████████████████████████| 7/7 [100%] in 5.7s (1.24/s)\n",
      "\n",
      "Pipeline Completed Successfully\n",
      "\n",
      "\n",
      "Pipeline Class: StandardPipeline\n",
      "\n",
      "+-----------------------+---------------------------------------------------------------------------------------+\n",
      "| Pipeline Property     | Value                                                                                 |\n",
      "+-----------------------+---------------------------------------------------------------------------------------+\n",
      "| Train Dataframe Path  | ../datasets/classification/census.csv                                                 |\n",
      "| Test Dataframe Path   | None                                                                                  |\n",
      "| Config File Path      | None                                                                                  |\n",
      "| Pipeline Stages       | Read file, Parse dataset, Execute, Encode, Handle outliers, Execute, Train test split |\n",
      "| Total Pipeline Stages | 7                                                                                     |\n",
      "| Total Params          | 9                                                                                     |\n",
      "+-----------------------+---------------------------------------------------------------------------------------+\n",
      "Processing...\n",
      "==> Completed Stage: Read file\n",
      "==> Completed Stage: Parse dataset\n",
      "==> Completed Stage: Execute\n",
      "==> Completed Stage: Encode\n",
      "==> Completed Stage: Handle outliers\n"
     ]
    },
    {
     "name": "stderr",
     "output_type": "stream",
     "text": [
      "/usr/local/lib/python3.8/site-packages/preprocessy/outliers/_handleoutlier.py:116: UserWarning: remove_outliers and replace both are False, thus no operation will be performed on dataframe, please specify either of the argument as True \n",
      "  warnings.warn(\n"
     ]
    },
    {
     "name": "stdout",
     "output_type": "stream",
     "text": [
      "==> Completed Stage: Execute\n",
      "==> Completed Stage: Train test split\n",
      "Pipeline Stages |████████████████████████████████████████| 7/7 [100%] in 5.1s (1.38/s)\n",
      "\n",
      "Pipeline Completed Successfully\n",
      "\n",
      "\n",
      "Pipeline Class: StandardPipeline\n",
      "\n",
      "+-----------------------+---------------------------------------------------------------------------------------+\n",
      "| Pipeline Property     | Value                                                                                 |\n",
      "+-----------------------+---------------------------------------------------------------------------------------+\n",
      "| Train Dataframe Path  | ../datasets/classification/census.csv                                                 |\n",
      "| Test Dataframe Path   | None                                                                                  |\n",
      "| Config File Path      | None                                                                                  |\n",
      "| Pipeline Stages       | Read file, Parse dataset, Execute, Encode, Handle outliers, Execute, Train test split |\n",
      "| Total Pipeline Stages | 7                                                                                     |\n",
      "| Total Params          | 9                                                                                     |\n",
      "+-----------------------+---------------------------------------------------------------------------------------+\n",
      "Processing...\n",
      "==> Completed Stage: Read file\n",
      "==> Completed Stage: Parse dataset\n",
      "==> Completed Stage: Execute\n",
      "==> Completed Stage: Encode\n",
      "==> Completed Stage: Handle outliers\n"
     ]
    },
    {
     "name": "stderr",
     "output_type": "stream",
     "text": [
      "/usr/local/lib/python3.8/site-packages/preprocessy/outliers/_handleoutlier.py:116: UserWarning: remove_outliers and replace both are False, thus no operation will be performed on dataframe, please specify either of the argument as True \n",
      "  warnings.warn(\n"
     ]
    },
    {
     "name": "stdout",
     "output_type": "stream",
     "text": [
      "==> Completed Stage: Execute\n",
      "==> Completed Stage: Train test split\n",
      "Pipeline Stages |████████████████████████████████████████| 7/7 [100%] in 5.0s (1.39/s)\n",
      "\n",
      "Pipeline Completed Successfully\n",
      "\n",
      "\n",
      "Pipeline Class: StandardPipeline\n",
      "\n",
      "+-----------------------+---------------------------------------------------------------------------------------+\n",
      "| Pipeline Property     | Value                                                                                 |\n",
      "+-----------------------+---------------------------------------------------------------------------------------+\n",
      "| Train Dataframe Path  | ../datasets/classification/census.csv                                                 |\n",
      "| Test Dataframe Path   | None                                                                                  |\n",
      "| Config File Path      | None                                                                                  |\n",
      "| Pipeline Stages       | Read file, Parse dataset, Execute, Encode, Handle outliers, Execute, Train test split |\n",
      "| Total Pipeline Stages | 7                                                                                     |\n",
      "| Total Params          | 9                                                                                     |\n",
      "+-----------------------+---------------------------------------------------------------------------------------+\n",
      "Processing...\n",
      "==> Completed Stage: Read file\n",
      "==> Completed Stage: Parse dataset\n",
      "==> Completed Stage: Execute\n",
      "==> Completed Stage: Encode\n",
      "==> Completed Stage: Handle outliers\n"
     ]
    },
    {
     "name": "stderr",
     "output_type": "stream",
     "text": [
      "/usr/local/lib/python3.8/site-packages/preprocessy/outliers/_handleoutlier.py:116: UserWarning: remove_outliers and replace both are False, thus no operation will be performed on dataframe, please specify either of the argument as True \n",
      "  warnings.warn(\n"
     ]
    },
    {
     "name": "stdout",
     "output_type": "stream",
     "text": [
      "==> Completed Stage: Execute\n",
      "==> Completed Stage: Train test split\n",
      "Pipeline Stages |████████████████████████████████████████| 7/7 [100%] in 5.4s (1.29/s)\n",
      "\n",
      "Pipeline Completed Successfully\n",
      "\n",
      "\n",
      "Pipeline Class: StandardPipeline\n",
      "\n",
      "+-----------------------+---------------------------------------------------------------------------------------+\n",
      "| Pipeline Property     | Value                                                                                 |\n",
      "+-----------------------+---------------------------------------------------------------------------------------+\n",
      "| Train Dataframe Path  | ../datasets/classification/census.csv                                                 |\n",
      "| Test Dataframe Path   | None                                                                                  |\n",
      "| Config File Path      | None                                                                                  |\n",
      "| Pipeline Stages       | Read file, Parse dataset, Execute, Encode, Handle outliers, Execute, Train test split |\n",
      "| Total Pipeline Stages | 7                                                                                     |\n",
      "| Total Params          | 9                                                                                     |\n",
      "+-----------------------+---------------------------------------------------------------------------------------+\n",
      "Processing...\n",
      "==> Completed Stage: Read file\n",
      "==> Completed Stage: Parse dataset\n",
      "==> Completed Stage: Execute\n",
      "==> Completed Stage: Encode\n",
      "==> Completed Stage: Handle outliers\n"
     ]
    },
    {
     "name": "stderr",
     "output_type": "stream",
     "text": [
      "/usr/local/lib/python3.8/site-packages/preprocessy/outliers/_handleoutlier.py:116: UserWarning: remove_outliers and replace both are False, thus no operation will be performed on dataframe, please specify either of the argument as True \n",
      "  warnings.warn(\n"
     ]
    },
    {
     "name": "stdout",
     "output_type": "stream",
     "text": [
      "==> Completed Stage: Execute\n",
      "==> Completed Stage: Train test split\n",
      "Pipeline Stages |████████████████████████████████████████| 7/7 [100%] in 5.3s (1.33/s)\n",
      "\n",
      "Pipeline Completed Successfully\n",
      "\n",
      "\n",
      "Pipeline Class: StandardPipeline\n",
      "\n",
      "+-----------------------+---------------------------------------------------------------------------------------+\n",
      "| Pipeline Property     | Value                                                                                 |\n",
      "+-----------------------+---------------------------------------------------------------------------------------+\n",
      "| Train Dataframe Path  | ../datasets/classification/census.csv                                                 |\n",
      "| Test Dataframe Path   | None                                                                                  |\n",
      "| Config File Path      | None                                                                                  |\n",
      "| Pipeline Stages       | Read file, Parse dataset, Execute, Encode, Handle outliers, Execute, Train test split |\n",
      "| Total Pipeline Stages | 7                                                                                     |\n",
      "| Total Params          | 9                                                                                     |\n",
      "+-----------------------+---------------------------------------------------------------------------------------+\n",
      "Processing...\n",
      "==> Completed Stage: Read file\n",
      "==> Completed Stage: Parse dataset\n",
      "==> Completed Stage: Execute\n",
      "==> Completed Stage: Encode\n",
      "==> Completed Stage: Handle outliers\n"
     ]
    },
    {
     "name": "stderr",
     "output_type": "stream",
     "text": [
      "/usr/local/lib/python3.8/site-packages/preprocessy/outliers/_handleoutlier.py:116: UserWarning: remove_outliers and replace both are False, thus no operation will be performed on dataframe, please specify either of the argument as True \n",
      "  warnings.warn(\n"
     ]
    },
    {
     "name": "stdout",
     "output_type": "stream",
     "text": [
      "==> Completed Stage: Execute\n",
      "==> Completed Stage: Train test split\n",
      "Pipeline Stages |████████████████████████████████████████| 7/7 [100%] in 6.3s (1.12/s)\n",
      "\n",
      "Pipeline Completed Successfully\n",
      "\n",
      "\n",
      "Pipeline Class: StandardPipeline\n",
      "\n",
      "+-----------------------+---------------------------------------------------------------------------------------+\n",
      "| Pipeline Property     | Value                                                                                 |\n",
      "+-----------------------+---------------------------------------------------------------------------------------+\n",
      "| Train Dataframe Path  | ../datasets/classification/census.csv                                                 |\n",
      "| Test Dataframe Path   | None                                                                                  |\n",
      "| Config File Path      | None                                                                                  |\n",
      "| Pipeline Stages       | Read file, Parse dataset, Execute, Encode, Handle outliers, Execute, Train test split |\n",
      "| Total Pipeline Stages | 7                                                                                     |\n",
      "| Total Params          | 9                                                                                     |\n",
      "+-----------------------+---------------------------------------------------------------------------------------+\n",
      "Processing...\n",
      "==> Completed Stage: Read file\n",
      "==> Completed Stage: Parse dataset\n",
      "==> Completed Stage: Execute\n",
      "==> Completed Stage: Encode\n",
      "==> Completed Stage: Handle outliers\n"
     ]
    },
    {
     "name": "stderr",
     "output_type": "stream",
     "text": [
      "/usr/local/lib/python3.8/site-packages/preprocessy/outliers/_handleoutlier.py:116: UserWarning: remove_outliers and replace both are False, thus no operation will be performed on dataframe, please specify either of the argument as True \n",
      "  warnings.warn(\n"
     ]
    },
    {
     "name": "stdout",
     "output_type": "stream",
     "text": [
      "==> Completed Stage: Execute\n",
      "==> Completed Stage: Train test split\n",
      "Pipeline Stages |████████████████████████████████████████| 7/7 [100%] in 4.9s (1.44/s)\n",
      "\n",
      "Pipeline Completed Successfully\n",
      "\n",
      "\n",
      "Pipeline Class: StandardPipeline\n",
      "\n",
      "+-----------------------+---------------------------------------------------------------------------------------+\n",
      "| Pipeline Property     | Value                                                                                 |\n",
      "+-----------------------+---------------------------------------------------------------------------------------+\n",
      "| Train Dataframe Path  | ../datasets/classification/census.csv                                                 |\n",
      "| Test Dataframe Path   | None                                                                                  |\n",
      "| Config File Path      | None                                                                                  |\n",
      "| Pipeline Stages       | Read file, Parse dataset, Execute, Encode, Handle outliers, Execute, Train test split |\n",
      "| Total Pipeline Stages | 7                                                                                     |\n",
      "| Total Params          | 9                                                                                     |\n",
      "+-----------------------+---------------------------------------------------------------------------------------+\n",
      "Processing...\n",
      "==> Completed Stage: Read file\n",
      "==> Completed Stage: Parse dataset\n",
      "==> Completed Stage: Execute\n",
      "==> Completed Stage: Encode\n",
      "==> Completed Stage: Handle outliers\n"
     ]
    },
    {
     "name": "stderr",
     "output_type": "stream",
     "text": [
      "/usr/local/lib/python3.8/site-packages/preprocessy/outliers/_handleoutlier.py:116: UserWarning: remove_outliers and replace both are False, thus no operation will be performed on dataframe, please specify either of the argument as True \n",
      "  warnings.warn(\n"
     ]
    },
    {
     "name": "stdout",
     "output_type": "stream",
     "text": [
      "==> Completed Stage: Execute\n",
      "==> Completed Stage: Train test split\n",
      "Pipeline Stages |████████████████████████████████████████| 7/7 [100%] in 5.2s (1.34/s)\n",
      "\n",
      "Pipeline Completed Successfully\n",
      "\n"
     ]
    }
   ],
   "source": [
    "average_time = []\n",
    "average_mem = []\n",
    "average_mse = []\n",
    "for i in range(100):\n",
    "    tracemalloc.start()\n",
    "    begin = time.time()\n",
    "    mse = test_preprocessy_pipeline(i)\n",
    "    end = time.time()\n",
    "    current,peak=tracemalloc.get_traced_memory()\n",
    "    tracemalloc.clear_traces()\n",
    "    tracemalloc.stop()\n",
    "    average_time.append(end-begin)\n",
    "    average_mem.append(peak)\n",
    "    average_mse.append(mse)"
   ]
  },
  {
   "cell_type": "code",
   "execution_count": 7,
   "id": "d5efc92d",
   "metadata": {},
   "outputs": [
    {
     "name": "stdout",
     "output_type": "stream",
     "text": [
      "7.444659631252289 519.43007322 0.9295851792186873\n"
     ]
    }
   ],
   "source": [
    "av_time,av_mem,av_mse = 0,0,0\n",
    "for i in range(100):\n",
    "    av_time += average_time[i]\n",
    "    av_mem += average_mem[i]\n",
    "    av_mse += average_mse[i]\n",
    "print(av_time/100,(av_mem/100)/10**6,av_mse/100)"
   ]
  },
  {
   "cell_type": "markdown",
   "id": "fbf9874a",
   "metadata": {},
   "source": [
    "## Pandas"
   ]
  },
  {
   "cell_type": "code",
   "execution_count": 9,
   "id": "866a0372",
   "metadata": {},
   "outputs": [],
   "source": [
    "def drop_columns(df,column_list):\n",
    "    df = df.drop(columns=column_list)\n",
    "    return df\n",
    "def fill_missing_values(df,column_list):\n",
    "   for col in column_list:\n",
    "      df[col].dropna(inplace=True)\n",
    "   return df\n",
    "def encode_cols(df,column_list):\n",
    "    for col in column_list:\n",
    "        df[col + str(\"Encoded\")] = pd.factorize(df[col])[0]\n",
    "        df[col + str(\"Encoded\")] = df[col + str(\"Encoded\")].astype(\"category\")\n",
    "    return df"
   ]
  },
  {
   "cell_type": "code",
   "execution_count": 10,
   "id": "d1b220b6",
   "metadata": {},
   "outputs": [],
   "source": [
    "def test_pandas_pipeline(random_state):\n",
    "    df = pd.read_csv('census.csv')\n",
    "    cat_cols = ['F2','F3','F4','F5','F7','F8','F9','F10','F11','F12','F13','F14','F15','F16','F20','F21','F22','F23','F24','F26','F27','F28','F29','F30','F31','F32','F33','F34','F35','F36','F37','F38','F39','F40','F41']\n",
    "    df_processed = (df.\n",
    "                    pipe(fill_missing_values,[\"F12\"]).\n",
    "                    pipe(encode_cols, cat_cols.copy())\n",
    "                   )\n",
    "    X,y = df_processed.drop(columns=['F42']),df_processed.loc[:,'F42']\n",
    "    X_train, X_test, y_train, y_test = train_test_split(X, y, test_size=0.1, random_state=random_state)\n",
    "    #return X_train, X_test, y_train, y_test\n",
    "    X_train.drop(cat_cols,axis=1,inplace=True)\n",
    "    X_test.drop(cat_cols,axis=1,inplace=True)\n",
    "    clf = DecisionTreeClassifier()\n",
    "    clf = clf.fit(X_train,y_train)\n",
    "    y_pred = clf.predict(X_test)\n",
    "    return metrics.accuracy_score(y_test, y_pred)"
   ]
  },
  {
   "cell_type": "code",
   "execution_count": 11,
   "id": "075f27ba",
   "metadata": {},
   "outputs": [],
   "source": [
    "average_time = []\n",
    "average_mem = []\n",
    "average_mse = []\n",
    "for i in range(100):\n",
    "    tracemalloc.start()\n",
    "    begin = time.time()\n",
    "    mse = test_pandas_pipeline(i)\n",
    "    end = time.time()\n",
    "    current,peak=tracemalloc.get_traced_memory()\n",
    "    tracemalloc.clear_traces()\n",
    "    tracemalloc.stop()\n",
    "    average_time.append(end-begin)\n",
    "    average_mem.append(peak)\n",
    "    average_mse.append(mse)"
   ]
  },
  {
   "cell_type": "code",
   "execution_count": 12,
   "id": "1d872d40",
   "metadata": {},
   "outputs": [
    {
     "name": "stdout",
     "output_type": "stream",
     "text": [
      "4.612936568260193 251.25219494 0.9295379140981307\n"
     ]
    }
   ],
   "source": [
    "av_time,av_mem,av_mse = 0,0,0\n",
    "for i in range(100):\n",
    "    av_time += average_time[i]\n",
    "    av_mem += average_mem[i]\n",
    "    av_mse += average_mse[i]\n",
    "print(av_time/100,(av_mem/100)/10**6,av_mse/100)"
   ]
  },
  {
   "cell_type": "markdown",
   "id": "d50493a7",
   "metadata": {},
   "source": [
    "## Sklearn"
   ]
  },
  {
   "cell_type": "code",
   "execution_count": 13,
   "id": "43432e3f",
   "metadata": {},
   "outputs": [],
   "source": [
    "def test_sklearn_pipeline(random_state_num):\n",
    "    numeric_features = ['F1','F6','F17','F18','F19','F25']\n",
    "    categorical_features = ['F2','F3','F4','F5','F7','F8','F9','F10','F11','F12','F13','F14','F15','F16','F20','F21','F22','F23','F24','F26','F27','F28','F29','F30','F31','F32','F33','F34','F35','F36','F37','F38','F39','F40','F41']\n",
    "    missing_features = [\"F12\"]\n",
    "    categorical_transformer = Pipeline(\n",
    "        steps=[('ohe',OneHotEncoder(handle_unknown=\"ignore\"))]\n",
    "    )\n",
    "    numeric_transformer = Pipeline(\n",
    "        steps=[(\"imputer\", SimpleImputer(strategy=\"mean\")),(\"scaler\", StandardScaler())]\n",
    "    )\n",
    "    preprocessor = ColumnTransformer(\n",
    "        transformers=[\n",
    "            ('num',numeric_transformer,numeric_features),\n",
    "            (\"cat\", categorical_transformer, categorical_features),\n",
    "        ]\n",
    "    )\n",
    "    clf = Pipeline(\n",
    "        steps=[(\"preprocessor\", preprocessor), (\"classifier\", DecisionTreeClassifier())]\n",
    "    )\n",
    "    df = pd.read_csv('census.csv')\n",
    "    X,y = df.drop(columns=['F42']),df.loc[:,'F42']\n",
    "    X_train, X_test, y_train, y_test = train_test_split(X, y, test_size=0.1, random_state=random_state_num)\n",
    "    clf.fit(X_train, y_train)\n",
    "    y_pred = clf.predict(X_test) \n",
    "    return metrics.accuracy_score(y_test,y_pred)"
   ]
  },
  {
   "cell_type": "code",
   "execution_count": 14,
   "id": "9260091c",
   "metadata": {},
   "outputs": [],
   "source": [
    "average_time = []\n",
    "average_mem = []\n",
    "average_mse = []\n",
    "for i in range(100):\n",
    "    tracemalloc.start()\n",
    "    begin = time.time()\n",
    "    mse = test_sklearn_pipeline(i)\n",
    "    end = time.time()\n",
    "    current,peak=tracemalloc.get_traced_memory()\n",
    "    tracemalloc.clear_traces()\n",
    "    tracemalloc.stop()\n",
    "    average_time.append(end-begin)\n",
    "    average_mem.append(peak)\n",
    "    average_mse.append(mse)"
   ]
  },
  {
   "cell_type": "code",
   "execution_count": 15,
   "id": "4dc8f22d",
   "metadata": {},
   "outputs": [
    {
     "name": "stdout",
     "output_type": "stream",
     "text": [
      "38.31784860610962 550.17933483 0.9340830952738934\n"
     ]
    }
   ],
   "source": [
    "av_time,av_mem,av_mse = 0,0,0\n",
    "for i in range(100):\n",
    "    av_time += average_time[i]\n",
    "    av_mem += average_mem[i]\n",
    "    av_mse += average_mse[i]\n",
    "print(av_time/100,(av_mem/100)/10**6,av_mse/100)"
   ]
  },
  {
   "cell_type": "code",
   "execution_count": null,
   "id": "1bc87dda",
   "metadata": {},
   "outputs": [],
   "source": []
  }
 ],
 "metadata": {
  "kernelspec": {
   "display_name": "Python 3 (ipykernel)",
   "language": "python",
   "name": "python3"
  },
  "language_info": {
   "codemirror_mode": {
    "name": "ipython",
    "version": 3
   },
   "file_extension": ".py",
   "mimetype": "text/x-python",
   "name": "python",
   "nbconvert_exporter": "python",
   "pygments_lexer": "ipython3",
   "version": "3.8.12"
  }
 },
 "nbformat": 4,
 "nbformat_minor": 5
}
